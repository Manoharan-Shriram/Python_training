{
 "cells": [
  {
   "cell_type": "code",
   "execution_count": null,
   "id": "1bb80334",
   "metadata": {},
   "outputs": [
    {
     "name": "stdout",
     "output_type": "stream",
     "text": [
      "[1, 2, 4]\n"
     ]
    }
   ],
   "source": [
    "# Create Stack and Queue operations using List  \n",
    "\n",
    "\n",
    "# Stack \n",
    "\n",
    "l = [1,2,3]\n",
    "\n",
    "l.pop()\n",
    "\n",
    "l.append(4)\n",
    "\n",
    "print(l)\n",
    "\n"
   ]
  },
  {
   "cell_type": "code",
   "execution_count": 5,
   "id": "3ebbe37a",
   "metadata": {},
   "outputs": [
    {
     "name": "stdout",
     "output_type": "stream",
     "text": [
      "[2, 3, 4]\n"
     ]
    }
   ],
   "source": [
    "# Queue\n",
    "\n",
    "l = [1,2,3]\n",
    "\n",
    "l.pop(0)\n",
    "\n",
    "l.append(4)\n",
    "\n",
    "print(l)\n",
    "\n"
   ]
  },
  {
   "cell_type": "code",
   "execution_count": null,
   "id": "636adefd",
   "metadata": {},
   "outputs": [
    {
     "name": "stdout",
     "output_type": "stream",
     "text": [
      "[5, 4, 6, 3, 7, 2, 8, 1, 9]\n"
     ]
    }
   ],
   "source": [
    "#Binary search using list \n",
    "\n",
    "l=[1,2,3,4,5,6,7,8,9]\n",
    " \n",
    "def bt(l):\n",
    "    bt=[]\n",
    "    s=[]\n",
    "    p=[]\n",
    "    mid=l[len(l)//2]\n",
    "    bt.append(mid)\n",
    "    for i in range(len(l)//2):\n",
    "        s.append(l[i])\n",
    "    for i in range((len(l)//2)+1,len(l)):\n",
    "        p.append(l[i])\n",
    "    li=s[::-1]\n",
    "    for i in range(len(l)//2):\n",
    "        bt.append(li[i])\n",
    "        bt.append(p[i])\n",
    "    print(bt)\n",
    "   \n",
    "bt(l)"
   ]
  },
  {
   "cell_type": "code",
   "execution_count": 7,
   "id": "d094f15a",
   "metadata": {},
   "outputs": [
    {
     "data": {
      "text/plain": [
       "[-3, -3, 1, 2, 2, 2, 3, 5, 7]"
      ]
     },
     "execution_count": 7,
     "metadata": {},
     "output_type": "execute_result"
    }
   ],
   "source": [
    "#Bubble sort algorithm\n",
    "\n",
    "l=[5,3,2,1,-3,-3,7,2,2] #Bubble\n",
    "\n",
    "sorted = False\n",
    "\n",
    "while not sorted:\n",
    "    sorted = True\n",
    "    for i in range(len(l)-1):\n",
    "        if l[i] > l[i+1] :\n",
    "            l[i],l[i+1]  = l[i+1],l[i]\n",
    "            sorted = False\n",
    "\n",
    "\n",
    "l"
   ]
  },
  {
   "cell_type": "code",
   "execution_count": null,
   "id": "5eb6d618",
   "metadata": {},
   "outputs": [
    {
     "name": "stdout",
     "output_type": "stream",
     "text": [
      "[2, 3, 5, 6, 7, 7, 8, 9, 43]\n"
     ]
    }
   ],
   "source": [
    "# Simple sort shortcut\n",
    "\n",
    "l=[9,6,8,43,7,3,2,5,7]\n",
    "l.sort()\n",
    "print(l)"
   ]
  },
  {
   "cell_type": "code",
   "execution_count": 18,
   "id": "98afacda",
   "metadata": {},
   "outputs": [
    {
     "name": "stdout",
     "output_type": "stream",
     "text": [
      "[2, 3, 5, 6, 7, 7, 8, 9, 43]\n"
     ]
    }
   ],
   "source": [
    "# Bubble sort using for loop\n",
    "\n",
    "l=[9,6,8,43,7,3,2,5,7]\n",
    "\n",
    "for i in range(0,len(l),1):\n",
    "    for j in range(i,len(l),1):\n",
    "        if (l[i]>l[j]):\n",
    "            c=l[i]\n",
    "            l[i]=l[j]\n",
    "            l[j]=c\n",
    "\n",
    "            \n",
    "\n",
    "print(l)"
   ]
  },
  {
   "cell_type": "code",
   "execution_count": null,
   "id": "1ec387f0",
   "metadata": {},
   "outputs": [],
   "source": [
    "class Circle:\n",
    "    \n",
    "   \n",
    "    def __init__(self,radius):\n",
    "        self.radius = radius\n",
    "   \n",
    "    @property\n",
    "    def radius(self):\n",
    "        return self.radius\n",
    "    \n",
    "    @radius.setter\n",
    "    def radius(self,value):\n",
    "        if value < 0:\n",
    "            raise.ValueError(\"Radius cannot be negative\")\n",
    "        self.radius = value \n",
    "    \n",
    "    @radius.deleter\n",
    "    def radius(self):\n",
    "        print(\"Radius Deleted\")\n",
    "        del self_radius\n",
    "\n",
    "# another method\n",
    "\n",
    "# name = property(get_name,set_name,del_name,\"Name property of the person\")"
   ]
  },
  {
   "cell_type": "code",
   "execution_count": null,
   "id": "e81c7c09",
   "metadata": {},
   "outputs": [],
   "source": []
  }
 ],
 "metadata": {
  "kernelspec": {
   "display_name": "Python 3",
   "language": "python",
   "name": "python3"
  },
  "language_info": {
   "codemirror_mode": {
    "name": "ipython",
    "version": 3
   },
   "file_extension": ".py",
   "mimetype": "text/x-python",
   "name": "python",
   "nbconvert_exporter": "python",
   "pygments_lexer": "ipython3",
   "version": "3.12.3"
  }
 },
 "nbformat": 4,
 "nbformat_minor": 5
}
