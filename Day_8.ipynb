{
 "cells": [
  {
   "cell_type": "markdown",
   "id": "eccc0253",
   "metadata": {},
   "source": [
    "EXCEPTION HANDLING"
   ]
  },
  {
   "cell_type": "code",
   "execution_count": null,
   "id": "7590bb0f",
   "metadata": {},
   "outputs": [
    {
     "name": "stdout",
     "output_type": "stream",
     "text": [
      "some thing is wrong division by zero\n",
      "Hello\n"
     ]
    }
   ],
   "source": [
    "#Exception Handling\n",
    "\n",
    "try:\n",
    "    print(10/0)\n",
    "except Exception as e:                    #Exception as e will tell what the exception is we dont need to manage it \n",
    "    print('some thing is wrong',e)\n",
    "\n",
    "print('Hello')"
   ]
  },
  {
   "cell_type": "code",
   "execution_count": null,
   "id": "e274be5e",
   "metadata": {},
   "outputs": [],
   "source": [
    "\n",
    "try:\n",
    "    print(10/0)    #ZeroDivisionError\n",
    "    var = var1     #NameError\n",
    "    n=int('hello') #ValueError\n",
    "except ZeroDivisionError as e:                    #Exception as e will work only for Zero exception for others it will throw error \n",
    "    print('some thing is wrong',e)\n",
    "except NameError as e:\n",
    "    print(e)\n",
    "except ValueError as e:\n",
    "    print(e)\n",
    "\n",
    "print('Hello')"
   ]
  },
  {
   "cell_type": "code",
   "execution_count": null,
   "id": "c256d65c",
   "metadata": {},
   "outputs": [],
   "source": [
    "#finally will run no matter what the result is \n",
    "\n",
    "try:\n",
    "\n",
    "    f=open('copy.txt')\n",
    "except:\n",
    "    print(\"error\")\n",
    "else:\n",
    "    print(\"Hello\")\n",
    "finally:\n",
    "    pass                   #"
   ]
  },
  {
   "cell_type": "code",
   "execution_count": null,
   "id": "a7e01236",
   "metadata": {},
   "outputs": [],
   "source": [
    "#else wil run if the code (try) does'nt throw a error\n",
    "\n",
    "try:\n",
    "    print(10/0)\n",
    "except:\n",
    "    print(\"error\")\n",
    "else:\n",
    "    print('hello')"
   ]
  },
  {
   "cell_type": "code",
   "execution_count": null,
   "id": "05cb8ffe",
   "metadata": {},
   "outputs": [],
   "source": [
    "#try\n",
    "#except\n",
    "#else\n",
    "#finally\n",
    "\n",
    "#basic syntax format\n",
    "try:\n",
    "    pass\n",
    "except Exception:\n",
    "    pass\n",
    "else:\n",
    "    pass\n",
    "finally:\n",
    "    pass\n"
   ]
  },
  {
   "cell_type": "code",
   "execution_count": 4,
   "id": "9648d8a7",
   "metadata": {},
   "outputs": [
    {
     "name": "stdout",
     "output_type": "stream",
     "text": [
      "Sorry file not found\n"
     ]
    }
   ],
   "source": [
    "try:\n",
    "    f=open('test.txt','r')\n",
    "except Exception:\n",
    "    print('Sorry file not found')\n"
   ]
  },
  {
   "cell_type": "code",
   "execution_count": 5,
   "id": "e8d0d933",
   "metadata": {},
   "outputs": [
    {
     "name": "stdout",
     "output_type": "stream",
     "text": [
      "Sorry file not found\n"
     ]
    }
   ],
   "source": [
    "try:\n",
    "    f=open('test.txt','r')\n",
    "    #var=bad_var\n",
    "except FileNotFoundError:\n",
    "    print('Sorry file not found') "
   ]
  },
  {
   "cell_type": "code",
   "execution_count": 6,
   "id": "4d16210a",
   "metadata": {},
   "outputs": [
    {
     "name": "stdout",
     "output_type": "stream",
     "text": [
      "Sorry file not found\n"
     ]
    }
   ],
   "source": [
    "try:\n",
    "    #f=open('test.txt','r')\n",
    "    var=bad_var\n",
    "except NameError:\n",
    "    print('Sorry file not found') "
   ]
  },
  {
   "cell_type": "code",
   "execution_count": null,
   "id": "0d7d1f5a",
   "metadata": {},
   "outputs": [
    {
     "name": "stdout",
     "output_type": "stream",
     "text": [
      "Sorry something is wrong\n",
      "something went wrong\n"
     ]
    }
   ],
   "source": [
    "#maintain the order of exception \n",
    "\n",
    "#WRONG ORDER OF EXCEPTION \n",
    "\n",
    "try:\n",
    "    f=open('test.txt','r')\n",
    "    var=bad_var\n",
    "except Exception:\n",
    "    print(\"Sorry something is wrong\")\n",
    "except FileNotFoundError:\n",
    "    print('Sorry file not found')\n",
    "\n",
    "\n",
    "#CORRECT ORDER OF EXCEPTION     except Exception: should always be used last\n",
    "try:\n",
    "    #f=open('test.txt','r')\n",
    "    var= bad_var\n",
    "except FileNotFoundError:\n",
    "    print(\"Sorry file not found\")\n",
    "except Exception:\n",
    "    print(\"something went wrong\")\n",
    "\n"
   ]
  },
  {
   "cell_type": "code",
   "execution_count": null,
   "id": "5a56babc",
   "metadata": {},
   "outputs": [
    {
     "name": "stdout",
     "output_type": "stream",
     "text": [
      "[Errno 2] No such file or directory: 'test.txt'\n",
      "Finally always runs\n"
     ]
    }
   ],
   "source": [
    "#finally runs no matter  what happens , help us to close or release the resources\n",
    "\n",
    "try:\n",
    "    f=open('test.txt','r')\n",
    "    f.close()\n",
    "except FileNotFoundError as e:\n",
    "    print(e)\n",
    "except Exception as e:\n",
    "    print(e)\n",
    "else:\n",
    "    print(f.read())\n",
    "finally:\n",
    "    print(\"Finally always runs\")\n",
    "    \n"
   ]
  },
  {
   "cell_type": "code",
   "execution_count": 1,
   "id": "af101128",
   "metadata": {},
   "outputs": [
    {
     "name": "stdout",
     "output_type": "stream",
     "text": [
      "1.0\n",
      "2.0\n",
      "1.6666666666666667\n",
      "1.25\n",
      "5.0\n"
     ]
    }
   ],
   "source": [
    "values=[10,5,6,0,8,2]\n",
    " \n",
    "for value in values:\n",
    "    try:\n",
    "        print(10/value)\n",
    "    except:\n",
    "        pass\n",
    " "
   ]
  },
  {
   "cell_type": "code",
   "execution_count": null,
   "id": "51e13cec",
   "metadata": {},
   "outputs": [
    {
     "name": "stdout",
     "output_type": "stream",
     "text": [
      "1.0\n",
      "2.0\n",
      "1.6666666666666667\n",
      "1.25\n",
      "5.0\n"
     ]
    },
    {
     "name": "stdout",
     "output_type": "stream",
     "text": [
      "1.0\n",
      "2.0\n",
      "1.6666666666666667\n",
      "1.25\n",
      "5.0\n"
     ]
    }
   ],
   "source": [
    "values=[10,5,6,0,8,2]\n",
    " \n",
    "for value in values:\n",
    "    try:\n",
    "        print(10/value)\n",
    "    except:\n",
    "        continue"
   ]
  },
  {
   "cell_type": "code",
   "execution_count": 4,
   "id": "16b0f6d4",
   "metadata": {},
   "outputs": [
    {
     "name": "stdout",
     "output_type": "stream",
     "text": [
      "1.0\n",
      "2.0\n",
      "1.6666666666666667\n"
     ]
    }
   ],
   "source": [
    "values=[10,5,6,0,8,2]\n",
    " \n",
    "for value in values:\n",
    "    try:\n",
    "        print(10/value)\n",
    "    except:\n",
    "        break\n",
    " "
   ]
  },
  {
   "cell_type": "code",
   "execution_count": 6,
   "id": "7d2ec436",
   "metadata": {},
   "outputs": [
    {
     "name": "stdout",
     "output_type": "stream",
     "text": [
      "invalid literal for int() with base 10: 'Hello'\n",
      "invalid literal for int() with base 10: 'Hello'\n",
      "invalid literal for int() with base 10: 'Hello'\n",
      "invalid literal for int() with base 10: 'Hello'\n",
      "invalid literal for int() with base 10: 'Hello'\n",
      "invalid literal for int() with base 10: 'Hello'\n",
      "invalid literal for int() with base 10: 'Hello'\n"
     ]
    }
   ],
   "source": [
    "import logging\n",
    "\n",
    "logging.basicConfig(filename='error.log',level=logging.ERROR)\n",
    "values=[10,5,6,0,9,8,2]\n",
    "\n",
    "for value in values:\n",
    "    try:\n",
    "        #print(10/value)\n",
    "        print(int('Hello'))\n",
    "    except ValueError as e:\n",
    "        print(e)\n",
    "    except Exception as e:      #If we use exception as e the general exception, we need to perform logging\n",
    "        logging.exception(e)"
   ]
  },
  {
   "cell_type": "code",
   "execution_count": null,
   "id": "f7a7ca78",
   "metadata": {},
   "outputs": [
    {
     "name": "stdout",
     "output_type": "stream",
     "text": [
      "1.0\n",
      "2.0\n",
      "1.6666666666666667\n",
      "ValueError or Zero divison\n",
      "1.1111111111111112\n",
      "1.25\n",
      "ValueError or Zero divison\n",
      "5.0\n"
     ]
    }
   ],
   "source": [
    "#This paranthesis method can be used to add different class of errors and to reduce the lines of code \n",
    "\n",
    "values=[10,5,6,0,9,8,'Hello',2]\n",
    "\n",
    "for value in values:\n",
    "    try:\n",
    "        print(10/int(value))\n",
    "\n",
    "    except(ValueError,ZeroDivisionError) as e:\n",
    "        print(\"ValueError or Zero divison\")\n",
    "    except Exception as e:\n",
    "        print(e)"
   ]
  },
  {
   "cell_type": "code",
   "execution_count": null,
   "id": "0becb0ae",
   "metadata": {},
   "outputs": [
    {
     "name": "stdout",
     "output_type": "stream",
     "text": [
      "Caught Base exception: this is a base exception\n"
     ]
    }
   ],
   "source": [
    "#Exception types \n",
    "\n",
    "#BaseException\n",
    "\n",
    "try:\n",
    "    raise BaseException(\"This is a base exception\")\n",
    "except BaseException as e:\n",
    "    print(\"Caught Base exception:\",e)"
   ]
  },
  {
   "cell_type": "code",
   "execution_count": 11,
   "id": "8f6246aa",
   "metadata": {},
   "outputs": [
    {
     "name": "stdout",
     "output_type": "stream",
     "text": [
      "x should be greater than y\n"
     ]
    }
   ],
   "source": [
    "#Assertion Error\n",
    "\n",
    "try:\n",
    "    x=5\n",
    "    y=10\n",
    "    assert x>y, \"x should be greater than y\"\n",
    "except AssertionError as error:\n",
    "    print(error)\n"
   ]
  },
  {
   "cell_type": "code",
   "execution_count": null,
   "id": "54d5d28b",
   "metadata": {},
   "outputs": [],
   "source": [
    "#Attribute error\n",
    "\n",
    "try:\n",
    "    my_str = \"Hello World\"\n",
    "    my_str.sort()\n",
    "except AttributeError:\n",
    "    print(\"Error\")"
   ]
  },
  {
   "cell_type": "code",
   "execution_count": null,
   "id": "98d3a122",
   "metadata": {},
   "outputs": [],
   "source": [
    "#Index Error\n",
    "\n",
    "try:\n",
    "    my_list = [1,2,3,]\n",
    "    print(my_list[3])\n",
    "except IndexError:\n",
    "    print(\"Error: Index out of range\")\n",
    "    print(\"Helllo\")"
   ]
  },
  {
   "cell_type": "code",
   "execution_count": null,
   "id": "2e909341",
   "metadata": {},
   "outputs": [
    {
     "name": "stdout",
     "output_type": "stream",
     "text": [
      "Error: Key not found in dictionary\n"
     ]
    }
   ],
   "source": [
    "#Key Error\n",
    "try:\n",
    "    my_dict ={'name': 'Alice' , 'age': 30}\n",
    "    print(my_dict['Height'])\n",
    "except KeyError:\n",
    "    print(\"Error: Key not found in dictionary\")\n"
   ]
  },
  {
   "cell_type": "code",
   "execution_count": null,
   "id": "f2fd4529",
   "metadata": {},
   "outputs": [],
   "source": [
    "#Memory Error   #DONT RUN IT DANGER\n",
    "\n",
    "# try:\n",
    "#     my_list = [0] * (10 ** 9)\n",
    "# except MemoryError:\n",
    "#     print(\"Memory Error found\")"
   ]
  },
  {
   "cell_type": "code",
   "execution_count": null,
   "id": "ab09ddad",
   "metadata": {},
   "outputs": [
    {
     "name": "stdout",
     "output_type": "stream",
     "text": [
      "Error: variable not found\n"
     ]
    }
   ],
   "source": [
    "# Variable Error\n",
    "\n",
    "try:\n",
    "    print(my_var)\n",
    "except NameError:\n",
    "    print(\"Error: variable not found\")"
   ]
  },
  {
   "cell_type": "code",
   "execution_count": 14,
   "id": "0608f660",
   "metadata": {},
   "outputs": [
    {
     "name": "stdout",
     "output_type": "stream",
     "text": [
      "Error could not open file\n"
     ]
    }
   ],
   "source": [
    "#OS error\n",
    "\n",
    "try:\n",
    "    with open(\"nonexistent_file.txt\") as f:\n",
    "        contents = f.read()\n",
    "except OSError:\n",
    "    print(\"Error could not open file\")\n",
    "    "
   ]
  },
  {
   "cell_type": "code",
   "execution_count": 15,
   "id": "030a4f47",
   "metadata": {},
   "outputs": [
    {
     "name": "stdout",
     "output_type": "stream",
     "text": [
      "Error : Invalid syntax\n"
     ]
    }
   ],
   "source": [
    "#Syntax Error\n",
    "\n",
    "try:\n",
    "    exec('print(')\n",
    "except SyntaxError:\n",
    "    print(\"Error : Invalid syntax\")"
   ]
  },
  {
   "cell_type": "code",
   "execution_count": 16,
   "id": "7b7b993f",
   "metadata": {},
   "outputs": [
    {
     "name": "stdout",
     "output_type": "stream",
     "text": [
      "Error:unsupported operand type(s) for +: 'int' and 'str\n"
     ]
    }
   ],
   "source": [
    "#Type Error\n",
    "try:\n",
    "    result = 5 + 'Hello'\n",
    "except TypeError:\n",
    "    print(\"Error:unsupported operand type(s) for +: 'int' and 'str\")"
   ]
  },
  {
   "cell_type": "code",
   "execution_count": null,
   "id": "254d6bcd",
   "metadata": {},
   "outputs": [
    {
     "name": "stdout",
     "output_type": "stream",
     "text": [
      "Error could not convert string to integer\n"
     ]
    }
   ],
   "source": [
    "#Value Error\n",
    "\n",
    "try:\n",
    "    num=int(\"Hello\")\n",
    "except ValueError:\n",
    "    print(\"Error could not convert string to integer\")"
   ]
  },
  {
   "cell_type": "code",
   "execution_count": 18,
   "id": "b36fee1c",
   "metadata": {},
   "outputs": [
    {
     "name": "stdout",
     "output_type": "stream",
     "text": [
      "1.0\n",
      "0.5\n",
      "0.3333333333333333\n",
      "error (<class 'TypeError'>, TypeError(\"unsupported operand type(s) for /: 'int' and 'str'\"), <traceback object at 0x000001D99C2AC440>)\n",
      "0.25\n",
      "error (<class 'ZeroDivisionError'>, ZeroDivisionError('division by zero'), <traceback object at 0x000001D99C2AE640>)\n"
     ]
    }
   ],
   "source": [
    "#To get all the information about the exception\n",
    "\n",
    "import sys\n",
    "a=[2,4,6,'a',8,0]\n",
    "for i in a:\n",
    "    try:\n",
    "        c=2/i\n",
    "        print(c)\n",
    "    except:\n",
    "        print(\"error\",sys.exc_info())"
   ]
  },
  {
   "cell_type": "code",
   "execution_count": 19,
   "id": "145ddc2a",
   "metadata": {},
   "outputs": [
    {
     "name": "stdout",
     "output_type": "stream",
     "text": [
      "1.0\n",
      "0.5\n",
      "0.3333333333333333\n",
      "error <class 'TypeError'>\n",
      "0.25\n",
      "error <class 'ZeroDivisionError'>\n"
     ]
    }
   ],
   "source": [
    "#To get all the information about the exception\n",
    "\n",
    "import sys\n",
    "a=[2,4,6,'a',8,0]\n",
    "for i in a:\n",
    "    try:\n",
    "        c=2/i\n",
    "        print(c)\n",
    "    except:\n",
    "        print(\"error\",sys.exc_info()[0]) #slicing to get as the output is in tuple"
   ]
  },
  {
   "cell_type": "code",
   "execution_count": null,
   "id": "b7aecb72",
   "metadata": {},
   "outputs": [
    {
     "name": "stdout",
     "output_type": "stream",
     "text": [
      "5.0\n",
      "Hello\n"
     ]
    }
   ],
   "source": [
    "try:\n",
    "    print(10/2)\n",
    "    raise ValueError\n",
    "except:\n",
    "    print(\"Error\")\n",
    "else:\n",
    "    print(\"Hello\")"
   ]
  },
  {
   "cell_type": "code",
   "execution_count": null,
   "id": "2fd8c9dd",
   "metadata": {},
   "outputs": [],
   "source": [
    "n=5  #Try n=-5\n",
    "\n",
    "if n<0:\n",
    "    raise ValueError('n should be poistive')\n",
    "\n",
    "\n"
   ]
  },
  {
   "cell_type": "code",
   "execution_count": 30,
   "id": "ca78f302",
   "metadata": {},
   "outputs": [
    {
     "name": "stdout",
     "output_type": "stream",
     "text": [
      "positive\n"
     ]
    }
   ],
   "source": [
    "n=5\n",
    "try:\n",
    "    if n<0:  \n",
    "        pass\n",
    "except ValueError:\n",
    "    print(\"Negative\")\n",
    "else:\n",
    "    print(\"positive\")"
   ]
  },
  {
   "cell_type": "code",
   "execution_count": 32,
   "id": "c14fa1a9",
   "metadata": {},
   "outputs": [
    {
     "name": "stdout",
     "output_type": "stream",
     "text": [
      "Caught Index out of range\n"
     ]
    }
   ],
   "source": [
    "\n",
    "def get_item(lst,index):\n",
    "    if index >= len(lst):\n",
    "        raise IndexError(\"Index out of range\")\n",
    "    return lst[index]\n",
    "try:\n",
    "    print(get_item([10,20,30],5))\n",
    "except IndexError as e:\n",
    "    print(\"Caught\",e)"
   ]
  },
  {
   "cell_type": "code",
   "execution_count": 33,
   "id": "851a4977",
   "metadata": {},
   "outputs": [
    {
     "name": "stdout",
     "output_type": "stream",
     "text": [
      "Error: Both Arguments must be numbers\n"
     ]
    }
   ],
   "source": [
    "\n",
    "def multiply (a,b):\n",
    "    if not isinstance (a,(int,float)) or not isinstance(b,(int,float)):\n",
    "        raise TypeError (\"Both Arguments must be numbers\")\n",
    "    return a+b\n",
    "\n",
    "try:\n",
    "    result = multiply(3,\"four\")\n",
    "except TypeError as e:\n",
    "    print(\"Error:\",e)\n",
    "\n",
    "    "
   ]
  },
  {
   "cell_type": "code",
   "execution_count": 35,
   "id": "9867736f",
   "metadata": {},
   "outputs": [
    {
     "name": "stdout",
     "output_type": "stream",
     "text": [
      "Caught Invalid score : -5\n"
     ]
    }
   ],
   "source": [
    "def check_scores(scores):\n",
    "    for score in scores:\n",
    "        if score < 0 or score  > 100:\n",
    "            raise ValueError(f\"Invalid score : {score}\")\n",
    "    return \"All scores are valid\"\n",
    "\n",
    "try:\n",
    "    check_scores([85,90,-5,100])\n",
    "except ValueError as e:\n",
    "    print(\"Caught\",e)\n"
   ]
  },
  {
   "cell_type": "code",
   "execution_count": 38,
   "id": "b122971c",
   "metadata": {},
   "outputs": [
    {
     "name": "stdout",
     "output_type": "stream",
     "text": [
      "1.0\n",
      "2.0\n",
      "1.6666666666666667\n",
      "1.1111111111111112\n",
      "1.25\n",
      "Hello World\n"
     ]
    },
    {
     "ename": "ValueError",
     "evalue": "Value Error",
     "output_type": "error",
     "traceback": [
      "\u001b[31m---------------------------------------------------------------------------\u001b[39m",
      "\u001b[31mValueError\u001b[39m                                Traceback (most recent call last)",
      "\u001b[36mCell\u001b[39m\u001b[36m \u001b[39m\u001b[32mIn[38]\u001b[39m\u001b[32m, line 5\u001b[39m\n\u001b[32m      4\u001b[39m \u001b[38;5;28;01mtry\u001b[39;00m:\n\u001b[32m----> \u001b[39m\u001b[32m5\u001b[39m     \u001b[38;5;28mprint\u001b[39m(\u001b[32m10\u001b[39m/\u001b[38;5;28;43mint\u001b[39;49m\u001b[43m(\u001b[49m\u001b[43mvalue\u001b[49m\u001b[43m)\u001b[49m)\n\u001b[32m      6\u001b[39m \u001b[38;5;28;01mexcept\u001b[39;00m \u001b[38;5;167;01mZeroDivisionError\u001b[39;00m \u001b[38;5;28;01mas\u001b[39;00m e:\n",
      "\u001b[31mValueError\u001b[39m: invalid literal for int() with base 10: 'Hello'",
      "\nDuring handling of the above exception, another exception occurred:\n",
      "\u001b[31mValueError\u001b[39m                                Traceback (most recent call last)",
      "\u001b[36mCell\u001b[39m\u001b[36m \u001b[39m\u001b[32mIn[38]\u001b[39m\u001b[32m, line 10\u001b[39m\n\u001b[32m      8\u001b[39m \u001b[38;5;28;01mexcept\u001b[39;00m \u001b[38;5;167;01mValueError\u001b[39;00m \u001b[38;5;28;01mas\u001b[39;00m e:\n\u001b[32m      9\u001b[39m     \u001b[38;5;28mprint\u001b[39m(\u001b[33m\"\u001b[39m\u001b[33mHello World\u001b[39m\u001b[33m\"\u001b[39m)\n\u001b[32m---> \u001b[39m\u001b[32m10\u001b[39m     \u001b[38;5;28;01mraise\u001b[39;00m \u001b[38;5;167;01mValueError\u001b[39;00m(\u001b[33m'\u001b[39m\u001b[33mValue Error\u001b[39m\u001b[33m'\u001b[39m) \u001b[38;5;66;03m#reraise exception if raise inside a except block\u001b[39;00m\n\u001b[32m     11\u001b[39m \u001b[38;5;28;01mexcept\u001b[39;00m \u001b[38;5;167;01mException\u001b[39;00m \u001b[38;5;28;01mas\u001b[39;00m e:\n\u001b[32m     12\u001b[39m     \u001b[38;5;28mprint\u001b[39m(e)\n",
      "\u001b[31mValueError\u001b[39m: Value Error"
     ]
    }
   ],
   "source": [
    "values = [10,5,6,0,9,8,'Hello',2]\n",
    "\n",
    "for value in values:\n",
    "    try:\n",
    "        print(10/int(value))\n",
    "    except ZeroDivisionError as e:\n",
    "        pass \n",
    "    except ValueError as e:\n",
    "        print(\"Hello World\")\n",
    "        raise ValueError('Value Error') #reraise exception if raise inside a except block\n",
    "    except Exception as e:\n",
    "        print(e)\n"
   ]
  },
  {
   "cell_type": "code",
   "execution_count": null,
   "id": "816653df",
   "metadata": {},
   "outputs": [
    {
     "name": "stdout",
     "output_type": "stream",
     "text": [
      "Try outside\n",
      "Try inside\n",
      "inside finally\n",
      "finally outside\n"
     ]
    }
   ],
   "source": [
    "\n",
    "#NESTED EXCEPTION\n",
    "#No error\n",
    "try:\n",
    "    print('Try outside')\n",
    "    try:\n",
    "        print('Try inside')\n",
    "    except:\n",
    "        print('insdie except')\n",
    "    finally:\n",
    "        print('inside finally')\n",
    "except:\n",
    "    print('outside except')\n",
    "finally:\n",
    "    print('finally outside')\n"
   ]
  },
  {
   "cell_type": "code",
   "execution_count": 41,
   "id": "14c9e578",
   "metadata": {},
   "outputs": [
    {
     "name": "stdout",
     "output_type": "stream",
     "text": [
      "outside except\n",
      "finally outside\n"
     ]
    }
   ],
   "source": [
    "#\n",
    "\n",
    "try:\n",
    "    10/0\n",
    "    print('Try outside')\n",
    "    try:\n",
    "        print('Try inside')\n",
    "    except:\n",
    "        print('insdie except')\n",
    "    finally:\n",
    "        print('inside finally')\n",
    "except:\n",
    "    print('outside except')\n",
    "finally:\n",
    "    print('finally outside')\n"
   ]
  },
  {
   "cell_type": "code",
   "execution_count": 42,
   "id": "7842e9ce",
   "metadata": {},
   "outputs": [
    {
     "name": "stdout",
     "output_type": "stream",
     "text": [
      "Try outside\n",
      "Try inside\n",
      "insdie except\n",
      "inside finally\n",
      "finally outside\n"
     ]
    }
   ],
   "source": [
    "try:\n",
    "    print('Try outside')\n",
    "    try:\n",
    "        print('Try inside')\n",
    "        10/0\n",
    "    except:\n",
    "        print('insdie except')\n",
    "    finally:\n",
    "        print('inside finally')\n",
    "except:\n",
    "    print('outside except')\n",
    "finally:\n",
    "    print('finally outside')"
   ]
  },
  {
   "cell_type": "code",
   "execution_count": 2,
   "id": "181e07b6",
   "metadata": {},
   "outputs": [
    {
     "name": "stdout",
     "output_type": "stream",
     "text": [
      "Valid number: 9\n"
     ]
    }
   ],
   "source": [
    "# user defined exception \n",
    "\n",
    "#Step 1: Define a custom exception by inheriting from exception\n",
    "\n",
    "class CustomError(Exception):\n",
    "    pass \n",
    "\n",
    "# Step 2 : Use it in a function or logic \n",
    "def check_positive(number):\n",
    "    if number < 0:\n",
    "        raise CustomError(\"Number must be positive!\")\n",
    "    else:\n",
    "        print(\"Valid number:\" , number)\n",
    "\n",
    "#Step 3 : Handle it using try-except\n",
    "try:\n",
    "    num=int(input(\"Enter a number: \"))\n",
    "    check_positive(num)\n",
    "except CustomError as e :\n",
    "    print(\"Caught CustomError:\",e)"
   ]
  },
  {
   "cell_type": "code",
   "execution_count": null,
   "id": "4c021dfd",
   "metadata": {},
   "outputs": [],
   "source": [
    "\"\"\" GUIDELINES FOR EXCEPTION SAFE FUNCNTIONS\n",
    "\n",
    "(1) Raise meaningful exceptions if the function cannot complete its job\n",
    "\n",
    "(2) Use  Default Values\n",
    "\n",
    "(3) Log errors if needed\n",
    "\n",
    "(4) Don't hide bugs silently - handle only what you expect.\n",
    "\n",
    "    \"\"\"\n"
   ]
  },
  {
   "cell_type": "code",
   "execution_count": 5,
   "id": "ea4720bf",
   "metadata": {},
   "outputs": [
    {
     "name": "stdout",
     "output_type": "stream",
     "text": [
      "Caught AgeError:  Not Adult\n"
     ]
    }
   ],
   "source": [
    "# user defined exception \n",
    "\n",
    "class AgeError(Exception):\n",
    "    pass\n",
    "\n",
    "def check_age(number):\n",
    "    if number < 18 :\n",
    "        raise AgeError(\"Not Adult\")\n",
    "    else:\n",
    "        print(\"Adult\")\n",
    "\n",
    "try:\n",
    "    num=int(input(\"Enter your age: \"))\n",
    "    check_age(num)\n",
    "except AgeError as a:\n",
    "    print(\"Caught AgeError: \",a)\n"
   ]
  },
  {
   "cell_type": "code",
   "execution_count": null,
   "id": "2f7afb70",
   "metadata": {},
   "outputs": [],
   "source": []
  }
 ],
 "metadata": {
  "kernelspec": {
   "display_name": "Python 3",
   "language": "python",
   "name": "python3"
  },
  "language_info": {
   "codemirror_mode": {
    "name": "ipython",
    "version": 3
   },
   "file_extension": ".py",
   "mimetype": "text/x-python",
   "name": "python",
   "nbconvert_exporter": "python",
   "pygments_lexer": "ipython3",
   "version": "3.12.3"
  }
 },
 "nbformat": 4,
 "nbformat_minor": 5
}
