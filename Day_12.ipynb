{
 "cells": [
  {
   "cell_type": "markdown",
   "id": "34d0829a",
   "metadata": {},
   "source": [
    "Regular Expression\n"
   ]
  },
  {
   "cell_type": "code",
   "execution_count": null,
   "id": "85a5ae4a",
   "metadata": {},
   "outputs": [
    {
     "name": "stdout",
     "output_type": "stream",
     "text": [
      "['a_b', 'a b']\n"
     ]
    }
   ],
   "source": [
    "import re \n",
    "                                            \n",
    "print(re.findall(r'a.b','abc a_b a b abs'))  # any character between a and b"
   ]
  },
  {
   "cell_type": "code",
   "execution_count": null,
   "id": "dee72b56",
   "metadata": {},
   "outputs": [
    {
     "name": "stdout",
     "output_type": "stream",
     "text": [
      "['Hello']\n"
     ]
    }
   ],
   "source": [
    "print(re.findall(r'^Hello','Hello World')) #Starts with"
   ]
  },
  {
   "cell_type": "code",
   "execution_count": null,
   "id": "4921db55",
   "metadata": {},
   "outputs": [
    {
     "name": "stdout",
     "output_type": "stream",
     "text": [
      "['World']\n"
     ]
    }
   ],
   "source": [
    "print(re.findall(r'World$','Hello World'))  #Ends with "
   ]
  },
  {
   "cell_type": "code",
   "execution_count": null,
   "id": "0fdbde07",
   "metadata": {},
   "outputs": [
    {
     "name": "stdout",
     "output_type": "stream",
     "text": [
      "['ab', 'abbb', 'abbbb', 'a']\n"
     ]
    }
   ],
   "source": [
    "print(re.findall(r'abs*','ab abbb abbbb a b'))"
   ]
  },
  {
   "cell_type": "code",
   "execution_count": null,
   "id": "f47d509b",
   "metadata": {},
   "outputs": [
    {
     "name": "stdout",
     "output_type": "stream",
     "text": [
      "['aa', 'aa', 'aa', 'aa']\n"
     ]
    }
   ],
   "source": [
    "print(re.findall(r'a{2}',' aa aaa aaaa ab abbb abbbb a b'))  #exact repetitions"
   ]
  },
  {
   "cell_type": "code",
   "execution_count": 12,
   "id": "7ef86cb3",
   "metadata": {},
   "outputs": [
    {
     "name": "stdout",
     "output_type": "stream",
     "text": [
      "['a', 'aa', 'aa', 'a']\n"
     ]
    }
   ],
   "source": [
    "print(re.findall(r'a{1,2}',' a aa aaa'))"
   ]
  },
  {
   "cell_type": "code",
   "execution_count": 14,
   "id": "4e60ee9e",
   "metadata": {},
   "outputs": [
    {
     "name": "stdout",
     "output_type": "stream",
     "text": [
      "['e', 'o', 'o', 'E', 'e', 'o', 'e']\n"
     ]
    }
   ],
   "source": [
    "print(re.findall(r'[AEIOUaeiou]','Hello World Everyone'))"
   ]
  },
  {
   "cell_type": "code",
   "execution_count": null,
   "id": "5412f346",
   "metadata": {},
   "outputs": [
    {
     "name": "stdout",
     "output_type": "stream",
     "text": [
      "<re.Match object; span=(0, 8), match='DEV25001'>\n"
     ]
    }
   ],
   "source": [
    "s='DEV25001'\n",
    "\n",
    "pattern = '[A-Z]{3}[0-9]{2}[0-9]{3}'\n",
    "\n",
    "\n",
    "print(re.match(pattern,s))"
   ]
  },
  {
   "cell_type": "code",
   "execution_count": 18,
   "id": "3cd8c6ba",
   "metadata": {},
   "outputs": [
    {
     "name": "stdout",
     "output_type": "stream",
     "text": [
      "['ai', 'ai']\n"
     ]
    }
   ],
   "source": [
    "#regex\n",
    "#findall\n",
    "\n",
    "txt = \"The rain in Spain\"\n",
    "x=re.findall(\"ai\",txt)\n",
    "print(x)"
   ]
  },
  {
   "cell_type": "code",
   "execution_count": null,
   "id": "3586dd93",
   "metadata": {},
   "outputs": [
    {
     "name": "stdout",
     "output_type": "stream",
     "text": [
      "[]\n"
     ]
    }
   ],
   "source": [
    "#When it doesn't match  \n",
    "\n",
    "import re\n",
    "\n",
    "txt = 'The rain in Spain'\n",
    "x=re.findall(\"Portugal\",txt)\n",
    "print(x)"
   ]
  },
  {
   "cell_type": "code",
   "execution_count": 20,
   "id": "c422464f",
   "metadata": {},
   "outputs": [
    {
     "name": "stdout",
     "output_type": "stream",
     "text": [
      "In txt\n"
     ]
    }
   ],
   "source": [
    "#Search\n",
    "\n",
    "import re\n",
    "\n",
    "txt = \"The rain in rain\"\n",
    "\n",
    "x=re.search(\"rain\",txt)\n",
    "\n",
    "if x:\n",
    "    print(\"In txt\")\n",
    "else:\n",
    "    print(\"no match\")"
   ]
  },
  {
   "cell_type": "code",
   "execution_count": 27,
   "id": "51b36394",
   "metadata": {},
   "outputs": [
    {
     "name": "stdout",
     "output_type": "stream",
     "text": [
      "['The', 'rain', 'in', 'Spain']\n",
      "['The', 'rain', 'in Spain']\n"
     ]
    },
    {
     "name": "stderr",
     "output_type": "stream",
     "text": [
      "<>:7: SyntaxWarning: invalid escape sequence '\\s'\n",
      "<>:8: SyntaxWarning: invalid escape sequence '\\s'\n",
      "<>:7: SyntaxWarning: invalid escape sequence '\\s'\n",
      "<>:8: SyntaxWarning: invalid escape sequence '\\s'\n",
      "C:\\Users\\manoharan.h\\AppData\\Local\\Temp\\ipykernel_17228\\633683105.py:7: SyntaxWarning: invalid escape sequence '\\s'\n",
      "  x = re.split('\\s',txt)\n",
      "C:\\Users\\manoharan.h\\AppData\\Local\\Temp\\ipykernel_17228\\633683105.py:8: SyntaxWarning: invalid escape sequence '\\s'\n",
      "  y=  re.split('\\s',txt,2)\n"
     ]
    }
   ],
   "source": [
    "# Split\n",
    "\n",
    "import re\n",
    "\n",
    "txt  = \"The rain in Spain\"\n",
    "\n",
    "x = re.split('\\s',txt)\n",
    "y=  re.split('\\s',txt,2)\n",
    "print(x)\n",
    "print(y)"
   ]
  },
  {
   "cell_type": "code",
   "execution_count": 28,
   "id": "24e97ef8",
   "metadata": {},
   "outputs": [
    {
     "name": "stdout",
     "output_type": "stream",
     "text": [
      "There rain in Spain\n"
     ]
    }
   ],
   "source": [
    "#sub()\n",
    "\n",
    "import re\n",
    "\n",
    "txt = \"The rain in Spain\"\n",
    "\n",
    "x = re.sub(\"The\", \"There\" , txt)\n",
    "\n",
    "print(x)\n"
   ]
  },
  {
   "cell_type": "code",
   "execution_count": 29,
   "id": "dbb41513",
   "metadata": {},
   "outputs": [
    {
     "name": "stdout",
     "output_type": "stream",
     "text": [
      "The9rain9in Spain\n"
     ]
    },
    {
     "name": "stderr",
     "output_type": "stream",
     "text": [
      "<>:7: SyntaxWarning: invalid escape sequence '\\s'\n",
      "<>:7: SyntaxWarning: invalid escape sequence '\\s'\n",
      "C:\\Users\\manoharan.h\\AppData\\Local\\Temp\\ipykernel_17228\\4009254131.py:7: SyntaxWarning: invalid escape sequence '\\s'\n",
      "  x = re.sub(\"\\s\",\"9\",txt,2)\n"
     ]
    }
   ],
   "source": [
    "#sub \n",
    "\n",
    "import re \n",
    "\n",
    "txt = \"The rain in Spain\"\n",
    "\n",
    "x = re.sub(\"\\s\",\"9\",txt,2)\n",
    "print(x)"
   ]
  },
  {
   "cell_type": "code",
   "execution_count": 30,
   "id": "5ea19cfa",
   "metadata": {},
   "outputs": [
    {
     "name": "stdout",
     "output_type": "stream",
     "text": [
      "This is a string with special characters\n"
     ]
    }
   ],
   "source": [
    "\n",
    "import re\n",
    "\n",
    "string = \"This is a #string with %special^ characters!\"\n",
    "\n",
    "pattern = r'[^a-zA-Z0-9\\s]+'\n",
    "\n",
    "#replace all non-alphanumeric characters and whitespace with \n",
    "\n",
    "new_string = re.sub(pattern,'',string)\n",
    "\n",
    "print(new_string) #output : This is a string with special characters\n"
   ]
  },
  {
   "cell_type": "code",
   "execution_count": null,
   "id": "088259ad",
   "metadata": {},
   "outputs": [
    {
     "name": "stdout",
     "output_type": "stream",
     "text": [
      "YES\n"
     ]
    }
   ],
   "source": [
    "#True if . is the last character \n",
    "\n",
    "\n",
    "import re\n",
    "\n",
    "s='Hello World.'\n",
    "r = r'[.$]'\n",
    "x=re.search(r,s)\n",
    "\n",
    "if x:\n",
    "    print(\"YES\")\n",
    "else:\n",
    "    print(\"No\")"
   ]
  },
  {
   "cell_type": "code",
   "execution_count": null,
   "id": "ef3602ee",
   "metadata": {},
   "outputs": [
    {
     "name": "stdout",
     "output_type": "stream",
     "text": [
      "['12', '20']\n"
     ]
    }
   ],
   "source": [
    "# print digits \n",
    "\n",
    "import re\n",
    "\n",
    "S= 'i have 12 apples and 20 bananas'\n",
    "\n",
    "print(re.findall(r'[0-9]+','i have 12 apples and 20 bananas'))"
   ]
  },
  {
   "cell_type": "code",
   "execution_count": null,
   "id": "73abe0ae",
   "metadata": {},
   "outputs": [
    {
     "name": "stdout",
     "output_type": "stream",
     "text": [
      "['12', '20', '278']\n"
     ]
    }
   ],
   "source": [
    "# print digits   different logic\n",
    "\n",
    "S= 'i have 12 apples and 20  278 bananas'\n",
    "\n",
    "n=r'[0-9]+'\n",
    "\n",
    "x=re.findall(n,S)\n",
    "print(x)"
   ]
  },
  {
   "cell_type": "code",
   "execution_count": 62,
   "id": "8db8b0fc",
   "metadata": {},
   "outputs": [
    {
     "name": "stdout",
     "output_type": "stream",
     "text": [
      "None\n",
      "<re.Match object; span=(5, 7), match='hi'>\n"
     ]
    }
   ],
   "source": [
    "import re\n",
    "\n",
    "#DIFFERENCE BETWEEN MATCH AND SEARCH \n",
    "\n",
    "s = ' say hi to everyone'\n",
    "\n",
    "print(re.match('hi',s))\n",
    "\n",
    "print(re.search('hi',s))"
   ]
  },
  {
   "cell_type": "code",
   "execution_count": 65,
   "id": "b8f23fd3",
   "metadata": {},
   "outputs": [
    {
     "name": "stdout",
     "output_type": "stream",
     "text": [
      "First match: 9876\n",
      "All matches: ['9876', '1234']\n"
     ]
    }
   ],
   "source": [
    "import re \n",
    "\n",
    "text = \"My number is 9876 and my friend's is 1234\"\n",
    "\n",
    "#search : only finds the first match \n",
    "first_match = re.search(r'\\d+',text)\n",
    "print(\"First match:\",first_match.group())\n",
    "\n",
    "# findall : finds all digit sequences \n",
    "\n",
    "all_matches = re.findall(r'\\d+',text)\n",
    "print(\"All matches:\",all_matches)"
   ]
  },
  {
   "cell_type": "code",
   "execution_count": null,
   "id": "e01a5552",
   "metadata": {},
   "outputs": [
    {
     "name": "stdout",
     "output_type": "stream",
     "text": [
      "Capitalized words: ['Ab']\n"
     ]
    }
   ],
   "source": [
    "text = \"Python is Devoloped by Gudio van Rossum in Netherlands\"\n",
    "\n",
    "cap_words = re.findall(r'\\b[A-Z][a-z]*\\b',text)\n",
    "\n",
    "print(\"Capitalized words:\", cap_words)\n"
   ]
  },
  {
   "cell_type": "code",
   "execution_count": 71,
   "id": "ba10f5af",
   "metadata": {},
   "outputs": [
    {
     "name": "stdout",
     "output_type": "stream",
     "text": [
      "The cost is 10 dollars and 14 cents.\n"
     ]
    }
   ],
   "source": [
    "\n",
    "def double_numbers(match):\n",
    "    number = int(match.group())\n",
    "    return str(number*2)\n",
    "\n",
    "text = \"The cost is 5 dollars and 7 cents.\"\n",
    "\n",
    "result = re.sub(r'\\d+',double_numbers,text)\n",
    "\n",
    "print(result)"
   ]
  },
  {
   "cell_type": "code",
   "execution_count": 75,
   "id": "fb506ac1",
   "metadata": {},
   "outputs": [
    {
     "name": "stdout",
     "output_type": "stream",
     "text": [
      "You are such a [censored] and a [censored]\n"
     ]
    }
   ],
   "source": [
    "\n",
    "text = \"You are such a fool and a dummy\"\n",
    "\n",
    "bad_words = r'\\bfool|dummy\\b'\n",
    "censored = re.sub(bad_words,'[censored]',text)\n",
    "print(censored)"
   ]
  },
  {
   "cell_type": "code",
   "execution_count": 80,
   "id": "b0b4eaad",
   "metadata": {},
   "outputs": [
    {
     "name": "stdout",
     "output_type": "stream",
     "text": [
      "Full match: Name: John, Age: 30\n",
      "Name: John\n",
      "Age 30\n"
     ]
    }
   ],
   "source": [
    "text = \"Name: John, Age: 30\"\n",
    "\n",
    "match = re.search(r\"Name: (\\w+), Age: (\\d+)\",text)\n",
    "\n",
    "if match:\n",
    "    print(\"Full match:\",match.group(0)) #Full Match\n",
    "    print(\"Name:\",match.group(1))       #Name \n",
    "    print(\"Age\",match.group(2))         #Age"
   ]
  },
  {
   "cell_type": "code",
   "execution_count": 82,
   "id": "cfad582d",
   "metadata": {},
   "outputs": [
    {
     "name": "stdout",
     "output_type": "stream",
     "text": [
      "['apple', 'banana', 'grape', 'orange']\n"
     ]
    }
   ],
   "source": [
    "import re\n",
    "\n",
    "#multiple conditions can be passed in split\n",
    "\n",
    "text = \"apple,banana;grape orange\"\n",
    "result = re.split(r'[;,\\s]+',text)\n",
    "print(result)"
   ]
  },
  {
   "cell_type": "code",
   "execution_count": 83,
   "id": "c0ae8b1a",
   "metadata": {},
   "outputs": [
    {
     "name": "stdout",
     "output_type": "stream",
     "text": [
      "['one', 'two', 'three-four']\n"
     ]
    }
   ],
   "source": [
    "text = \"one-two-three-four\"\n",
    "\n",
    "result = re.split(r'-',text,maxsplit=2)\n",
    "print(result)"
   ]
  },
  {
   "cell_type": "code",
   "execution_count": 85,
   "id": "fbe6870d",
   "metadata": {},
   "outputs": [
    {
     "name": "stdout",
     "output_type": "stream",
     "text": [
      "('# #  #', 3)\n"
     ]
    }
   ],
   "source": [
    "result = re.subn(r'\\d+','#','123 456  789')\n",
    "print(result) #output ('###',3)"
   ]
  },
  {
   "cell_type": "code",
   "execution_count": 86,
   "id": "8a06c2fa",
   "metadata": {},
   "outputs": [
    {
     "name": "stdout",
     "output_type": "stream",
     "text": [
      "['123', '456']\n"
     ]
    }
   ],
   "source": [
    "pattern = re.compile(r'\\d+')\n",
    "\n",
    "print(pattern.findall('123 456'))  #Output : ['123' , '456']\n"
   ]
  },
  {
   "cell_type": "code",
   "execution_count": 97,
   "id": "555242ec",
   "metadata": {},
   "outputs": [
    {
     "name": "stdout",
     "output_type": "stream",
     "text": [
      "True\n",
      "<re.Match object; span=(0, 20), match='manohar123@gmail.com'>\n"
     ]
    }
   ],
   "source": [
    "\n",
    "eml = \"manohar123@gmail.com\"\n",
    "\n",
    "pattern = r'^[a-zA-Z0-9._%+-]+@[a-zA-Z0-9.-]+\\.[a-zA-Z]{2,}$'\n",
    "\n",
    "\n",
    "if re.match(pattern,eml):\n",
    "    print(\"True\")\n",
    "else:\n",
    "    print(\"False\")\n",
    "print(x)\n",
    "\n",
    "\n"
   ]
  },
  {
   "cell_type": "code",
   "execution_count": null,
   "id": "6340164c",
   "metadata": {},
   "outputs": [],
   "source": [
    "regex = r'^[a-zA-Z0-9._%+-]+@[a-zA-Z0-9.-]+\\.[a-zA-Z]{2,}$'\n",
    "if re.match(regex, 'vishal234@gmail.com'):\n",
    "        print(True)\n",
    "else:\n",
    "        print(False)"
   ]
  },
  {
   "cell_type": "code",
   "execution_count": null,
   "id": "a2c1e71f",
   "metadata": {},
   "outputs": [
    {
     "name": "stdout",
     "output_type": "stream",
     "text": [
      "<re.Match object; span=(0, 6), match='Python'>\n",
      "None\n",
      "<re.Match object; span=(0, 9), match='Python123'>\n",
      "None\n",
      "<re.Match object; span=(6, 9), match='123'>\n"
     ]
    }
   ],
   "source": [
    "text = \"Python123\"\n",
    "\n",
    "#match()\n",
    "\n",
    "print(re.match(r'Python',text))                #Matches : starts with Python\n",
    "print(re.match(r'\\d+',text))                   # No match : doesn't start with digits\n",
    "\n",
    "#fullmatch()\n",
    "print(re.fullmatch(r'Python\\d+',text))      # matches whole string\n",
    "print(re.fullmatch(r'Python',text))         # No match : doesn't match entire string\n",
    "\n",
    "#search()\n",
    "print(re.search(r'\\d+',text))              # Finds digits anywhere in the string\n"
   ]
  },
  {
   "cell_type": "code",
   "execution_count": 101,
   "id": "0c85bf93",
   "metadata": {},
   "outputs": [
    {
     "name": "stdout",
     "output_type": "stream",
     "text": [
      "Found: Python 3.8 at position: (0, 10)\n",
      "Found: Python 3.9 at position: (37, 47)\n"
     ]
    }
   ],
   "source": [
    "import re\n",
    "\n",
    "text = \"Python 3.8 was released in 2019, and Python 3.9 in 2020\"\n",
    "\n",
    "#Find all Python version mentions\n",
    "pattern = re.finditer(r'Python \\d\\.\\d',text)\n",
    "\n",
    "for match in pattern:\n",
    "    print(\"Found:\",match.group(),\"at position:\", match.span())"
   ]
  },
  {
   "cell_type": "code",
   "execution_count": 103,
   "id": "9bee4c77",
   "metadata": {},
   "outputs": [
    {
     "name": "stdout",
     "output_type": "stream",
     "text": [
      "Matched text : hello@example\n",
      "Start index :  7\n",
      "End index : 20\n",
      "Span (start,end):  (7, 20)\n"
     ]
    }
   ],
   "source": [
    "import re\n",
    "\n",
    "text = \"Email: hello@example.com\"\n",
    "\n",
    "match = re.search(r'\\w+@\\w.\\w+',text)\n",
    "\n",
    "if match:\n",
    "    print(\"Matched text :\", match.group())\n",
    "    print(\"Start index : \",match.start())\n",
    "    print(\"End index :\", match.end())\n",
    "    print(\"Span (start,end): \",match.span())"
   ]
  },
  {
   "cell_type": "code",
   "execution_count": 105,
   "id": "1c05cdba",
   "metadata": {},
   "outputs": [
    {
     "name": "stdout",
     "output_type": "stream",
     "text": [
      "Hello\n"
     ]
    }
   ],
   "source": [
    "# re.IGNORECASE\n",
    "\n",
    "import re\n",
    "\n",
    "text = \"Hello World\"\n",
    "\n",
    "pattern = re.compile(r'hello',re.IGNORECASE)\n",
    "\n",
    "match = pattern.search(text)\n",
    "\n",
    "print(match.group())  #Output Hello"
   ]
  },
  {
   "cell_type": "code",
   "execution_count": 106,
   "id": "fb0bba27",
   "metadata": {},
   "outputs": [
    {
     "name": "stdout",
     "output_type": "stream",
     "text": [
      "Hello\n",
      "World\n"
     ]
    }
   ],
   "source": [
    "# re.DOTALL or re.S\n",
    "\n",
    "text = \"Hello\\nWorld\"\n",
    "\n",
    "pattern = re.compile(r'Hello.World',re.DOTALL)\n",
    "\n",
    "match = pattern.search(text)\n",
    "\n",
    "print(match.group())"
   ]
  },
  {
   "cell_type": "code",
   "execution_count": null,
   "id": "a3246a3d",
   "metadata": {},
   "outputs": [
    {
     "name": "stdout",
     "output_type": "stream",
     "text": [
      "user@gmail.com\n"
     ]
    }
   ],
   "source": [
    "import re \n",
    "\n",
    "pattern = re.compile(r''' \n",
    "                    ^                                  \n",
    "                    [A-Za-z0-9._%+-]+                  \n",
    "                    @\n",
    "                    [A-Za-z0-9.-]+\n",
    "                    \\.\n",
    "                    [A-Za-z]{2,}\n",
    "                    $\n",
    "                    ''',re.VERBOSE)\n",
    "\n",
    "text = \"user@gmail.com\"\n",
    "\n",
    "match = pattern.match(text)\n",
    "\n",
    "print(match.group() if match else \"No match\")"
   ]
  },
  {
   "cell_type": "code",
   "execution_count": 111,
   "id": "c3417b55",
   "metadata": {},
   "outputs": [
    {
     "name": "stdout",
     "output_type": "stream",
     "text": [
      "['caf', 'caf']\n"
     ]
    }
   ],
   "source": [
    "#re.ASCII or re.A\n",
    "\n",
    "pattern = re.compile(r'\\w+',re.ASCII)\n",
    "\n",
    "print(pattern.findall(\"café café\"))"
   ]
  },
  {
   "cell_type": "code",
   "execution_count": 112,
   "id": "64706400",
   "metadata": {},
   "outputs": [
    {
     "name": "stdout",
     "output_type": "stream",
     "text": [
      "0\n",
      "4\n"
     ]
    }
   ],
   "source": [
    "for p in (0,4):\n",
    "    print(p)"
   ]
  },
  {
   "cell_type": "code",
   "execution_count": 115,
   "id": "4b4d83e8",
   "metadata": {},
   "outputs": [
    {
     "name": "stdout",
     "output_type": "stream",
     "text": [
      "%56s san-foundry\n"
     ]
    }
   ],
   "source": [
    "X=\"san-foundry\"\n",
    "print(\"%56s\",X)"
   ]
  },
  {
   "cell_type": "code",
   "execution_count": null,
   "id": "3d39be33",
   "metadata": {},
   "outputs": [],
   "source": []
  }
 ],
 "metadata": {
  "kernelspec": {
   "display_name": "Python 3",
   "language": "python",
   "name": "python3"
  },
  "language_info": {
   "codemirror_mode": {
    "name": "ipython",
    "version": 3
   },
   "file_extension": ".py",
   "mimetype": "text/x-python",
   "name": "python",
   "nbconvert_exporter": "python",
   "pygments_lexer": "ipython3",
   "version": "3.12.3"
  }
 },
 "nbformat": 4,
 "nbformat_minor": 5
}
