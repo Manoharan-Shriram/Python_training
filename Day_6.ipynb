{
 "cells": [
  {
   "cell_type": "code",
   "execution_count": null,
   "id": "78176e36",
   "metadata": {},
   "outputs": [
    {
     "name": "stdout",
     "output_type": "stream",
     "text": [
      "[2, 4, 6, 8, 10]\n"
     ]
    }
   ],
   "source": [
    "#normal logic for printing an even list\n",
    "l=[]\n",
    "for i in range(1,11):\n",
    "    if i%2==0:\n",
    "        l.append(i)\n",
    "\n",
    "print(l)"
   ]
  },
  {
   "cell_type": "code",
   "execution_count": 6,
   "id": "7ba56edc",
   "metadata": {},
   "outputs": [
    {
     "name": "stdout",
     "output_type": "stream",
     "text": [
      "[0, 2, 4]\n"
     ]
    }
   ],
   "source": [
    "#list comprehension\n",
    "\n",
    "l=[i for i in range(5) if i%2==0]\n",
    "\n",
    "print(l)"
   ]
  },
  {
   "cell_type": "code",
   "execution_count": 282,
   "id": "2f08f459",
   "metadata": {},
   "outputs": [
    {
     "ename": "TypeError",
     "evalue": "'datetime.datetime' object is not iterable",
     "output_type": "error",
     "traceback": [
      "\u001b[31m---------------------------------------------------------------------------\u001b[39m",
      "\u001b[31mTypeError\u001b[39m                                 Traceback (most recent call last)",
      "\u001b[36mCell\u001b[39m\u001b[36m \u001b[39m\u001b[32mIn[282]\u001b[39m\u001b[32m, line 1\u001b[39m\n\u001b[32m----> \u001b[39m\u001b[32m1\u001b[39m a=\u001b[43m[\u001b[49m\u001b[43me\u001b[49m\u001b[43m*\u001b[49m\u001b[43m*\u001b[49m\u001b[32;43m2\u001b[39;49m\u001b[43m \u001b[49m\u001b[38;5;28;43;01mfor\u001b[39;49;00m\u001b[43m \u001b[49m\u001b[43me\u001b[49m\u001b[43m \u001b[49m\u001b[38;5;129;43;01min\u001b[39;49;00m\u001b[43m \u001b[49m\u001b[43ma\u001b[49m\u001b[43m \u001b[49m\u001b[38;5;28;43;01mif\u001b[39;49;00m\u001b[43m \u001b[49m\u001b[38;5;28;43mtype\u001b[39;49m\u001b[43m \u001b[49m\u001b[43m==\u001b[49m\u001b[43m \u001b[49m\u001b[38;5;28;43mtype\u001b[39;49m\u001b[43m.\u001b[49m\u001b[43mInttype\u001b[49m\u001b[43m(\u001b[49m\u001b[43m)\u001b[49m\u001b[43m]\u001b[49m\n\u001b[32m      2\u001b[39m \u001b[38;5;28mprint\u001b[39m(a)\n",
      "\u001b[31mTypeError\u001b[39m: 'datetime.datetime' object is not iterable"
     ]
    }
   ],
   "source": [
    "a=[e**2 for e in a if type == type.Inttype()]\n",
    "print(a)"
   ]
  },
  {
   "cell_type": "code",
   "execution_count": 9,
   "id": "b4ff1a07",
   "metadata": {},
   "outputs": [
    {
     "name": "stdout",
     "output_type": "stream",
     "text": [
      "[7, 14, 21, 28, 35, 42, 49, 56, 63, 70, 77, 84, 91, 98, 105, 112, 119, 126, 133, 140, 147, 154, 161, 168, 175, 182, 189, 196, 203, 210, 217, 224, 231, 238, 245, 252, 259, 266, 273, 280, 287, 294, 301, 308, 315, 322, 329, 336, 343, 350, 357, 364, 371, 378, 385, 392, 399, 406, 413, 420, 427, 434, 441, 448, 455, 462, 469, 476, 483, 490, 497, 504, 511, 518, 525, 532, 539, 546, 553, 560, 567, 574, 581, 588, 595, 602, 609, 616, 623, 630, 637, 644, 651, 658, 665, 672, 679, 686, 693, 700, 707, 714, 721, 728, 735, 742, 749, 756, 763, 770, 777, 784, 791, 798, 805, 812, 819, 826, 833, 840, 847, 854, 861, 868, 875, 882, 889, 896, 903, 910, 917, 924, 931, 938, 945, 952, 959, 966, 973, 980, 987, 994]\n"
     ]
    }
   ],
   "source": [
    "#List Comprehension Tasks\n",
    "#find all the numbers between 1-1000 that are divisible by 7\n",
    "a=[i for i in range(1,1001) if i%7==0]\n",
    "print(a)"
   ]
  },
  {
   "cell_type": "code",
   "execution_count": 15,
   "id": "793bdbfd",
   "metadata": {},
   "outputs": [
    {
     "name": "stdout",
     "output_type": "stream",
     "text": [
      "[3, 13, 23, 30, 31, 32, 33, 34, 35, 36, 37, 38, 39, 43, 53, 63, 73, 83, 93, 103, 113, 123, 130, 131, 132, 133, 134, 135, 136, 137, 138, 139, 143, 153, 163, 173, 183, 193, 203, 213, 223, 230, 231, 232, 233, 234, 235, 236, 237, 238, 239, 243, 253, 263, 273, 283, 293, 300, 301, 302, 303, 304, 305, 306, 307, 308, 309, 310, 311, 312, 313, 314, 315, 316, 317, 318, 319, 320, 321, 322, 323, 324, 325, 326, 327, 328, 329, 330, 331, 332, 333, 334, 335, 336, 337, 338, 339, 340, 341, 342, 343, 344, 345, 346, 347, 348, 349, 350, 351, 352, 353, 354, 355, 356, 357, 358, 359, 360, 361, 362, 363, 364, 365, 366, 367, 368, 369, 370, 371, 372, 373, 374, 375, 376, 377, 378, 379, 380, 381, 382, 383, 384, 385, 386, 387, 388, 389, 390, 391, 392, 393, 394, 395, 396, 397, 398, 399, 403, 413, 423, 430, 431, 432, 433, 434, 435, 436, 437, 438, 439, 443, 453, 463, 473, 483, 493, 503, 513, 523, 530, 531, 532, 533, 534, 535, 536, 537, 538, 539, 543, 553, 563, 573, 583, 593, 603, 613, 623, 630, 631, 632, 633, 634, 635, 636, 637, 638, 639, 643, 653, 663, 673, 683, 693, 703, 713, 723, 730, 731, 732, 733, 734, 735, 736, 737, 738, 739, 743, 753, 763, 773, 783, 793, 803, 813, 823, 830, 831, 832, 833, 834, 835, 836, 837, 838, 839, 843, 853, 863, 873, 883, 893, 903, 913, 923, 930, 931, 932, 933, 934, 935, 936, 937, 938, 939, 943, 953, 963, 973, 983, 993]\n"
     ]
    }
   ],
   "source": [
    "#find all the numbers that have 3 in them\n",
    "a=[i for i in range(1,1001)  if '3' in str(i) ]\n",
    "print(a)"
   ]
  },
  {
   "cell_type": "code",
   "execution_count": 26,
   "id": "45f445af",
   "metadata": {},
   "outputs": [
    {
     "name": "stdout",
     "output_type": "stream",
     "text": [
      "3\n"
     ]
    }
   ],
   "source": [
    "#count the number of spaces in string\n",
    "b=\"Mano haran shri ram\"\n",
    "a=sum([1 for i in b if i == \" \"])\n",
    "\n",
    "print(a)"
   ]
  },
  {
   "cell_type": "code",
   "execution_count": 31,
   "id": "58d867f0",
   "metadata": {},
   "outputs": [
    {
     "name": "stdout",
     "output_type": "stream",
     "text": [
      "['Y', 'l', 'l', 'w', ' ', 'Y', 'k', 's', ' ', 'l', 'k', ' ', 'y', 'l', 'l', 'n', 'g', ' ', 'n', 'd', ' ', 'y', 'w', 'n', 'n', 'g', ' ', 'n', 'd', ' ', 'y', 's', 't', 'r', 'd', 'y', ' ', 't', 'h', 'y', ' ', 'y', 'd', 'l', 'd', ' ', 'w', 'h', 'l', ' ', 't', 'n', 'g', ' ', 'y', 'k', 'y', ' ', 'y', 'm', 's']\n"
     ]
    }
   ],
   "source": [
    "#Create a list of all consonants in the string \"Yellow Yaks like yelling and yawning and yesturday they yodled while eating yuky yams\"\n",
    "\n",
    "a=\"Yellow Yaks like yelling and yawning and yesturday they yodled while eating yuky yams\"\n",
    "\n",
    "c=\"AEIOUaeiou\"\n",
    "\n",
    "b=([i for  i in a if i not in c ])\n",
    "print(b)"
   ]
  },
  {
   "cell_type": "code",
   "execution_count": 37,
   "id": "863a7105",
   "metadata": {},
   "outputs": [
    {
     "name": "stdout",
     "output_type": "stream",
     "text": [
      "[(0, 'hi'), (1, 4), (2, 8.99), (3, 'apple'), (4, ('t', 'b', 'n'))]\n"
     ]
    }
   ],
   "source": [
    "#Get the index and the value as a tuple for items in the list \"hi\",4,8.99,'apple',(t,b,n). Result would look like (index,value)\n",
    "a=(\"hi\",4,8.99,'apple',('t','b','n'))\n",
    "b=[(i,a[i]) for i in range(len(a))]\n",
    "\n",
    "print(b)"
   ]
  },
  {
   "cell_type": "code",
   "execution_count": 38,
   "id": "0215769e",
   "metadata": {},
   "outputs": [
    {
     "name": "stdout",
     "output_type": "stream",
     "text": [
      "[2, 3, 4]\n"
     ]
    }
   ],
   "source": [
    "#find the common numbers in two lists (without using a tuple or set)\n",
    "list_a =1,2,3,4 \n",
    "list_b =2,3,4,5\n",
    "\n",
    "a=[i for i in list_a if i in list_b]\n",
    "print(a)"
   ]
  },
  {
   "cell_type": "code",
   "execution_count": 46,
   "id": "0ea8f4ae",
   "metadata": {},
   "outputs": [
    {
     "name": "stdout",
     "output_type": "stream",
     "text": [
      "['1984', '13', '1000']\n"
     ]
    }
   ],
   "source": [
    "# Get only the numbers in a sentence like 'In 1984 there were 13 instances of a protest with over 1000 people attending'\n",
    "\n",
    "a='In 1984 there were 13 instances of a protest with over 1000 people attending'\n",
    "\n",
    "b=[i for i in a.split(' ') if i.isdigit()]\n",
    "print(b)"
   ]
  },
  {
   "cell_type": "code",
   "execution_count": 52,
   "id": "a4f9d935",
   "metadata": {},
   "outputs": [
    {
     "name": "stdout",
     "output_type": "stream",
     "text": [
      "['even', 'odd', 'even', 'odd', 'even', 'odd', 'even', 'odd', 'even', 'odd', 'even', 'odd', 'even', 'odd', 'even', 'odd', 'even', 'odd', 'even', 'odd']\n"
     ]
    }
   ],
   "source": [
    "#Given numbers  = range(20) , produce containing the word e'even' if a number in numbers is even and the word 'odd' if the number is odd . Result would look like 'odd' 'odd' 'even'\n",
    "\n",
    "a=['even' if i%2==0 else \"odd\" for i in range(20)  ]  #i if i % 2 == 0 else 0 for i in range(1, 11)]\n",
    "print(a)"
   ]
  },
  {
   "cell_type": "code",
   "execution_count": 55,
   "id": "fc746171",
   "metadata": {},
   "outputs": [
    {
     "name": "stdout",
     "output_type": "stream",
     "text": [
      "[(1, 1), (2, 2), (7, 7)]\n"
     ]
    }
   ],
   "source": [
    "#Produce a list of tuples consisting of only the matching numbers in these lists  list_a = 1,2,3,4,5,6,7,8,9  list_b = 2,7,1,12 Result would look like (4,4)(12,12)\n",
    "list_a = 1,2,3,4,5,6,7,8,9 \n",
    "list_b = 2,7,1,12\n",
    "\n",
    "b=([(i,i) for i in list_a if i in list_b])\n",
    "print(b)\n"
   ]
  },
  {
   "cell_type": "code",
   "execution_count": 65,
   "id": "9c01e8ff",
   "metadata": {},
   "outputs": [
    {
     "name": "stdout",
     "output_type": "stream",
     "text": [
      "[2, 3, 4, 5, 6, 7, 8, 9, 10, 12, 14, 15, 16, 18, 20, 21, 22, 24, 25, 26, 27, 28, 30, 32, 33, 34, 35, 36, 38, 39, 40, 42, 44, 45, 46, 48, 49, 50, 51, 52, 54, 55, 56, 57, 58, 60, 62, 63, 64, 65, 66, 68, 69, 70, 72, 74, 75, 76, 77, 78, 80, 81, 82, 84, 85, 86, 87, 88, 90, 91, 92, 93, 94, 95, 96, 98, 99, 100]\n"
     ]
    }
   ],
   "source": [
    "#Use a nested list comprehension to find all the numbers from 1-1000 that are divisible by any single digit besides 1 (2-9)\n",
    "#new_list = [[expression for item in list] for item in list] (for ref)\n",
    "\n",
    "# numbers = [n for n in range(1, 101) if any([n % d == 0 for d in range(2, 10)])] \n",
    "# print(numbers)\n",
    "\n",
    "#sir logic \n",
    "result = [number for number in range(1,101) if True in [True for x in range(2,10) if number % x==-0]]\n",
    "print(result)\n",
    "# a=[i for i in range(1,11) if any([i%d==0 for d in range(2,10)])]\n",
    "# print(a)"
   ]
  },
  {
   "cell_type": "code",
   "execution_count": 60,
   "id": "2fe07c51",
   "metadata": {},
   "outputs": [
    {
     "name": "stdout",
     "output_type": "stream",
     "text": [
      "['Ram', 'is', 'a', 'of']\n"
     ]
    }
   ],
   "source": [
    "#Find all the 4 letter words in string Use a nested list comprehension\n",
    "\n",
    "\n",
    "\n",
    "a=\"Manoharan Shri Ram is a employeee of Mphasis\"\n",
    "\n",
    "b=[i for i in a.split() if len(i) < 4]\n",
    "\n",
    "print(b)"
   ]
  },
  {
   "cell_type": "code",
   "execution_count": 66,
   "id": "8a7b2a7d",
   "metadata": {},
   "outputs": [
    {
     "name": "stdout",
     "output_type": "stream",
     "text": [
      "{0: 0, 1: 1, 2: 4, 3: 9, 4: 16, 5: 25, 6: 36, 7: 49, 8: 64, 9: 81}\n"
     ]
    }
   ],
   "source": [
    "#dict  comprehension \n",
    "\n",
    "d= {i:i**2 for i in range(10)}\n",
    "\n",
    "print(d)\n",
    "\n"
   ]
  },
  {
   "cell_type": "code",
   "execution_count": 68,
   "id": "ccf088e9",
   "metadata": {},
   "outputs": [
    {
     "name": "stdout",
     "output_type": "stream",
     "text": [
      "{'a': 1, 'b': 2, 'c': 3}\n"
     ]
    }
   ],
   "source": [
    "#DICT COMPREHENSION\n",
    "#1.Convert two Lists into a dictionary  \n",
    "# Task:Given Keys =[a,b,c] and values = [1,2,3] , create a dictionary using dict comprehension\n",
    "a=['a','b','c']\n",
    "b=[1,2,3]\n",
    "s={a[i]:b[i] for  i in range(3)}\n",
    "print(s)"
   ]
  },
  {
   "cell_type": "code",
   "execution_count": 72,
   "id": "953c9188",
   "metadata": {},
   "outputs": [
    {
     "name": "stdout",
     "output_type": "stream",
     "text": [
      "{1: 'a', 2: 'b', 3: 'c'}\n"
     ]
    }
   ],
   "source": [
    "#Invert a dictionary \n",
    "\n",
    "a={'a': 1, 'b': 2, 'c': 3}\n",
    "\n",
    "s={j:i for i,j in a.items()} \n",
    "print(s)"
   ]
  },
  {
   "cell_type": "code",
   "execution_count": null,
   "id": "0a1843f5",
   "metadata": {},
   "outputs": [
    {
     "name": "stdout",
     "output_type": "stream",
     "text": [
      "{'w': 2, 'e': 3, 'v': 2, 'g': 3, 'n': 5}\n"
     ]
    }
   ],
   "source": [
    "#Count Occurences of a character in a word \n",
    "\n",
    "#Task : given a string create a dict with character counts \n",
    "\n",
    "# input_string = \"example\"\n",
    "# char_count = {char: input_string.count(char) for char in set(input_string)}\n",
    "# print(char_count)\n",
    "\n",
    "a=\"wevgnnNGVNWEGNE\"\n",
    "\n",
    "b=a.lower()\n",
    "\n",
    "\n",
    "c={i:b.count(i) for i in b}\n",
    "\n",
    "print(c)"
   ]
  },
  {
   "cell_type": "code",
   "execution_count": 163,
   "id": "4fec5143",
   "metadata": {},
   "outputs": [
    {
     "name": "stdout",
     "output_type": "stream",
     "text": [
      "{'b': 8, 'a': 3, 'n': 4, 'e': 1, 'v': 2, 'j': 1}\n"
     ]
    }
   ],
   "source": [
    "#Merge two dictionaries (add values if keys match )\n",
    "\n",
    "# Task: Combine Two dictionaries by adding values for common keys\n",
    "\n",
    "a = {'b': 4, 'a': 3, 'n': 2, 'e': 1, 'v': 1, 'j': 1}\n",
    "b = {'b': 4, 'a': 3, 'n': 2, 'e': 1, 'v': 1, 'j': 1}\n",
    "n = {k: (v + b[k] if i % 2 == 0 else v) for i, (k, v) in enumerate(a.items())}\n",
    "print(n)\n",
    " "
   ]
  },
  {
   "cell_type": "code",
   "execution_count": 76,
   "id": "3f6de520",
   "metadata": {},
   "outputs": [
    {
     "name": "stdout",
     "output_type": "stream",
     "text": [
      "[3.14, 12.56, 28.26, 50.24, 78.5]\n"
     ]
    }
   ],
   "source": [
    "#map(),filter(),reduce()\n",
    "#map(func,iter)\n",
    "\n",
    "l=[1,2,3,4,5]\n",
    "a=[]\n",
    "for i in l:\n",
    "    area=3.14*i**2\n",
    "    a.append(area)\n",
    "\n",
    "print(a)"
   ]
  },
  {
   "cell_type": "code",
   "execution_count": 77,
   "id": "f4702208",
   "metadata": {},
   "outputs": [
    {
     "data": {
      "text/plain": [
       "[3.14, 12.56, 28.26, 50.24, 78.5]"
      ]
     },
     "execution_count": 77,
     "metadata": {},
     "output_type": "execute_result"
    }
   ],
   "source": [
    "def area(a):\n",
    "    return 3.14*a**2\n",
    "\n",
    "list(map(area,l))\n",
    "\n",
    "\n"
   ]
  },
  {
   "cell_type": "code",
   "execution_count": 78,
   "id": "022593ce",
   "metadata": {},
   "outputs": [
    {
     "data": {
      "text/plain": [
       "[3.14, 12.56, 28.26, 50.24, 78.5]"
      ]
     },
     "execution_count": 78,
     "metadata": {},
     "output_type": "execute_result"
    }
   ],
   "source": [
    "list(map(lambda a:3.14*a**2,l))"
   ]
  },
  {
   "cell_type": "code",
   "execution_count": 79,
   "id": "9d639cf4",
   "metadata": {},
   "outputs": [
    {
     "data": {
      "text/plain": [
       "[2, 4, 6, 8]"
      ]
     },
     "execution_count": 79,
     "metadata": {},
     "output_type": "execute_result"
    }
   ],
   "source": [
    "#filter function \n",
    "\n",
    "l=[2,3,4,5,6,7,8]\n",
    "\n",
    "list(filter(lambda a : a%2==0,l))"
   ]
  },
  {
   "cell_type": "code",
   "execution_count": 80,
   "id": "52710d34",
   "metadata": {},
   "outputs": [
    {
     "data": {
      "text/plain": [
       "510510"
      ]
     },
     "execution_count": 80,
     "metadata": {},
     "output_type": "execute_result"
    }
   ],
   "source": [
    "#reduce \n",
    "from functools import reduce\n",
    "\n",
    "data=[2,3,5,7,11,13,17]\n",
    "\n",
    "multiply=lambda x,y:x*y\n",
    "\n",
    "reduce(multiply,data)\n"
   ]
  },
  {
   "cell_type": "code",
   "execution_count": 82,
   "id": "767a5062",
   "metadata": {},
   "outputs": [
    {
     "data": {
      "text/plain": [
       "['chennai', 'banglore', 'pondicherry', 'velacherry']"
      ]
     },
     "execution_count": 82,
     "metadata": {},
     "output_type": "execute_result"
    }
   ],
   "source": [
    "city=[\"\",\"chennai\",\"\",\"banglore\",\"pondicherry\",\"\",\"velacherry\"]\n",
    "\n",
    "list(filter(None,city))"
   ]
  },
  {
   "cell_type": "code",
   "execution_count": null,
   "id": "4adeec59",
   "metadata": {},
   "outputs": [
    {
     "data": {
      "text/plain": [
       "[3.14, 12.56, 28.26, 50.24, 78.5]"
      ]
     },
     "execution_count": 86,
     "metadata": {},
     "output_type": "execute_result"
    }
   ],
   "source": [
    "# MAP Tasks\n",
    "\n",
    "#task : Square each number in list\n",
    "\n",
    "l=[1,2,3,4,5]\n",
    "\n",
    "list(map(lambda a:3.14*a**2,l))"
   ]
  },
  {
   "cell_type": "code",
   "execution_count": 87,
   "id": "f6b32013",
   "metadata": {},
   "outputs": [
    {
     "data": {
      "text/plain": [
       "['MANO', 'MAHI', 'VISHAL']"
      ]
     },
     "execution_count": 87,
     "metadata": {},
     "output_type": "execute_result"
    }
   ],
   "source": [
    "#Convert a List of strings to uppercase\n",
    "\n",
    "l=['Mano','Mahi','Vishal']\n",
    "\n",
    "list(map(lambda a:a.upper(),l))"
   ]
  },
  {
   "cell_type": "code",
   "execution_count": 90,
   "id": "d8142c9e",
   "metadata": {},
   "outputs": [
    {
     "data": {
      "text/plain": [
       "[2, 4, 6, 8]"
      ]
     },
     "execution_count": 90,
     "metadata": {},
     "output_type": "execute_result"
    }
   ],
   "source": [
    "#Add Two lists Element WIse\n",
    "\n",
    "l1=[1,2,3,4]\n",
    "l2=[1,2,3,4]\n",
    "\n",
    "list(map(lambda a,b:a+b,l1,l2))"
   ]
  },
  {
   "cell_type": "code",
   "execution_count": 92,
   "id": "3b28a828",
   "metadata": {},
   "outputs": [
    {
     "data": {
      "text/plain": [
       "[111, 222, 333, 444, 555]"
      ]
     },
     "execution_count": 92,
     "metadata": {},
     "output_type": "execute_result"
    }
   ],
   "source": [
    "# #list1 = [1,2,3,4,5]\n",
    "# list2 = [10,20,30,40,50]\n",
    "# list3 = [100,200,300,400,500]\n",
    "# output = [111,222,333,444,555]\n",
    "\n",
    "\n",
    "list1 = [1,2,3,4,5]\n",
    "list2 = [10,20,30,40,50]\n",
    "list3 = [100,200,300,400,500]\n",
    "\n",
    "list(map(lambda x,y,z : x+y+z,list1,list2,list3))\n",
    "\n",
    "\n"
   ]
  },
  {
   "cell_type": "code",
   "execution_count": null,
   "id": "ae2d6a09",
   "metadata": {},
   "outputs": [
    {
     "data": {
      "text/plain": [
       "[2, 4]"
      ]
     },
     "execution_count": 94,
     "metadata": {},
     "output_type": "execute_result"
    }
   ],
   "source": [
    "#FILTER tasks\n",
    "\n",
    "#Filter even numbers from a list\n",
    "\n",
    "list1=[1,2,3,4,5]\n",
    "\n",
    "list(filter(lambda x: x%2==0,list1))\n",
    "\n"
   ]
  },
  {
   "cell_type": "code",
   "execution_count": 95,
   "id": "4dfa4aaf",
   "metadata": {},
   "outputs": [
    {
     "data": {
      "text/plain": [
       "['mahi', 'mano', 'shri']"
      ]
     },
     "execution_count": 95,
     "metadata": {},
     "output_type": "execute_result"
    }
   ],
   "source": [
    "#filter a list of words with length > 4\n",
    "\n",
    "list2=['ram','mahi','mano','shri','vis']\n",
    "\n",
    "list(filter(lambda x: len(x) >= 4,list2))"
   ]
  },
  {
   "cell_type": "code",
   "execution_count": 96,
   "id": "1adff90f",
   "metadata": {},
   "outputs": [
    {
     "data": {
      "text/plain": [
       "['', '', '']"
      ]
     },
     "execution_count": 96,
     "metadata": {},
     "output_type": "execute_result"
    }
   ],
   "source": [
    "#filter out empty strings\n",
    "\n",
    "list3=['ram','mahi','mano','shri','vis','','','']\n",
    "\n",
    "list(filter(lambda x: x==\"\",list3))\n"
   ]
  },
  {
   "cell_type": "code",
   "execution_count": 118,
   "id": "82efcc77",
   "metadata": {},
   "outputs": [
    {
     "data": {
      "text/plain": [
       "[2, 3, 5, 7, 11]"
      ]
     },
     "execution_count": 118,
     "metadata": {},
     "output_type": "execute_result"
    }
   ],
   "source": [
    "#filter pprime num from a list\n",
    "\n",
    "\n",
    "def prime(a):\n",
    "  \n",
    "        if a<=1:\n",
    "            return False\n",
    "        for j in  range(2,a//2 +1):\n",
    "            if a%j==0:\n",
    "                return False\n",
    "        return True\n",
    "\n",
    "\n",
    "list4=[1,2,3,4,5,6,7,8,9,10,11]\n",
    "\n",
    "list(filter(prime , list4 ))\n"
   ]
  },
  {
   "cell_type": "code",
   "execution_count": 127,
   "id": "562a1f48",
   "metadata": {},
   "outputs": [
    {
     "data": {
      "text/plain": [
       "'Manoharan Shriram'"
      ]
     },
     "execution_count": 127,
     "metadata": {},
     "output_type": "execute_result"
    }
   ],
   "source": [
    "#reduce tasks\n",
    "\n",
    "#Concatenate a list of strings using reduce\n",
    "\n",
    "l=['Mano','haran',\" \",\"Shri\",\"ram\"]\n",
    "\n",
    "reduce(lambda x,y:x+y,l) #reduce(multiply,data)"
   ]
  },
  {
   "cell_type": "code",
   "execution_count": 132,
   "id": "e578f904",
   "metadata": {},
   "outputs": [
    {
     "data": {
      "text/plain": [
       "99"
      ]
     },
     "execution_count": 132,
     "metadata": {},
     "output_type": "execute_result"
    }
   ],
   "source": [
    "#Max from list\n",
    "\n",
    "l1=[1,2,3,4,5,6,7,8,99,10,11]\n",
    "\n",
    "reduce(lambda x,y:x if x > y else y,l1)"
   ]
  },
  {
   "cell_type": "code",
   "execution_count": null,
   "id": "16a0ce9f",
   "metadata": {},
   "outputs": [
    {
     "name": "stdout",
     "output_type": "stream",
     "text": [
      "5410619689312623468\n"
     ]
    }
   ],
   "source": [
    "#hash\n",
    "# same input will give same has values (case sensitive)\n",
    "\n",
    "a=hash('123')\n",
    "print(a)"
   ]
  },
  {
   "cell_type": "code",
   "execution_count": 138,
   "id": "009242ee",
   "metadata": {},
   "outputs": [
    {
     "name": "stdout",
     "output_type": "stream",
     "text": [
      "5410619689312623468\n"
     ]
    }
   ],
   "source": [
    "b=hash(input())\n",
    "print(b)"
   ]
  },
  {
   "cell_type": "code",
   "execution_count": 141,
   "id": "ed006242",
   "metadata": {},
   "outputs": [
    {
     "name": "stdout",
     "output_type": "stream",
     "text": [
      "8bb0cf6eb9b17d0f7d22b456f121257dc1254e1f01665370476383ea776df414\n"
     ]
    }
   ],
   "source": [
    "import hashlib\n",
    "h=hashlib.new(\"sha256\")\n",
    "correct_password=\"1234567\"\n",
    "h.update(correct_password.encode())\n",
    "password_hash=h.hexdigest()\n",
    "print(password_hash)"
   ]
  },
  {
   "cell_type": "code",
   "execution_count": 142,
   "id": "e541396f",
   "metadata": {},
   "outputs": [
    {
     "name": "stdout",
     "output_type": "stream",
     "text": [
      "8bb0cf6eb9b17d0f7d22b456f121257dc1254e1f01665370476383ea776df414\n"
     ]
    }
   ],
   "source": [
    "import hashlib\n",
    "h=hashlib.new(\"sha256\")\n",
    "correct_password=\"1234567\"\n",
    "h.update(correct_password.encode())\n",
    "password_hash=h.hexdigest()\n",
    "print(password_hash)"
   ]
  },
  {
   "cell_type": "code",
   "execution_count": 144,
   "id": "0a2c796a",
   "metadata": {},
   "outputs": [],
   "source": [
    "# pip \n",
    "#pip install django\n",
    "#pip list"
   ]
  },
  {
   "cell_type": "code",
   "execution_count": 145,
   "id": "c99af8fd",
   "metadata": {},
   "outputs": [
    {
     "name": "stdout",
     "output_type": "stream",
     "text": [
      "3.141592653589793\n"
     ]
    }
   ],
   "source": [
    "import math\n",
    "\n",
    "a=math.pi\n",
    "print(a)"
   ]
  },
  {
   "cell_type": "code",
   "execution_count": 147,
   "id": "9c626cb7",
   "metadata": {},
   "outputs": [
    {
     "name": "stdout",
     "output_type": "stream",
     "text": [
      "24\n"
     ]
    }
   ],
   "source": [
    "a=4\n",
    "b=math.factorial(4)\n",
    "print(b)"
   ]
  },
  {
   "cell_type": "code",
   "execution_count": 153,
   "id": "50852995",
   "metadata": {},
   "outputs": [
    {
     "name": "stdout",
     "output_type": "stream",
     "text": [
      "1.5\n",
      "1\n"
     ]
    }
   ],
   "source": [
    "a=1.5\n",
    "\n",
    "print(abs(a))\n",
    "print(math.floor(a))"
   ]
  },
  {
   "cell_type": "code",
   "execution_count": 154,
   "id": "40585b13",
   "metadata": {},
   "outputs": [
    {
     "name": "stdout",
     "output_type": "stream",
     "text": [
      "25\n"
     ]
    }
   ],
   "source": [
    "x=5\n",
    "b=2\n",
    "c=pow(5,2)\n",
    "print(c)"
   ]
  },
  {
   "cell_type": "code",
   "execution_count": 156,
   "id": "687762ef",
   "metadata": {},
   "outputs": [
    {
     "name": "stdout",
     "output_type": "stream",
     "text": [
      "3.0\n"
     ]
    }
   ],
   "source": [
    "x=9\n",
    "print(math.sqrt(x))"
   ]
  },
  {
   "cell_type": "code",
   "execution_count": 161,
   "id": "ad41b224",
   "metadata": {},
   "outputs": [
    {
     "name": "stdout",
     "output_type": "stream",
     "text": [
      "1\n",
      "5\n",
      "3\n",
      "3\n",
      "1\n",
      "1.5811388300841898\n",
      "2.5\n"
     ]
    }
   ],
   "source": [
    "import statistics\n",
    "\n",
    "l=[1,2,3,4,5]\n",
    "\n",
    "print(min(l))\n",
    "\n",
    "print(max(l))\n",
    "\n",
    "print(statistics.mean(l))\n",
    "\n",
    "\n",
    "print(statistics.median(l))\n",
    "\n",
    "\n",
    "print(statistics.mode(l))\n",
    "\n",
    "print(statistics.stdev(l))\n",
    "\n",
    "print(statistics.variance(l))"
   ]
  },
  {
   "cell_type": "code",
   "execution_count": 164,
   "id": "7a3dfd06",
   "metadata": {},
   "outputs": [
    {
     "name": "stdout",
     "output_type": "stream",
     "text": [
      "4\n"
     ]
    }
   ],
   "source": [
    "#random module \n",
    "\n",
    "#random.choice()\n",
    "\n",
    "import random\n",
    "\n",
    "l=[1,2,3,4,5]\n",
    "\n",
    "print(random.choice(l))\n"
   ]
  },
  {
   "cell_type": "code",
   "execution_count": 182,
   "id": "370098e1",
   "metadata": {},
   "outputs": [
    {
     "name": "stdout",
     "output_type": "stream",
     "text": [
      "[3, 3, 1]\n"
     ]
    }
   ],
   "source": [
    "#random.choices()\n",
    "\n",
    "l=[1,2,3,4,5]\n",
    "\n",
    "print(random.choices(l,k=3))"
   ]
  },
  {
   "cell_type": "code",
   "execution_count": 178,
   "id": "241f5659",
   "metadata": {},
   "outputs": [
    {
     "name": "stdout",
     "output_type": "stream",
     "text": [
      "[3, 2]\n"
     ]
    }
   ],
   "source": [
    "#random.sample()\n",
    "\n",
    "l=[1,2,3,4,5]\n",
    "\n",
    "print(random.sample(l,2))"
   ]
  },
  {
   "cell_type": "code",
   "execution_count": null,
   "id": "4d811817",
   "metadata": {},
   "outputs": [
    {
     "name": "stdout",
     "output_type": "stream",
     "text": [
      "20\n"
     ]
    }
   ],
   "source": [
    "#random.randint()\n",
    "print(random.randint(1,20))"
   ]
  },
  {
   "cell_type": "code",
   "execution_count": 187,
   "id": "6dff6952",
   "metadata": {},
   "outputs": [
    {
     "name": "stdout",
     "output_type": "stream",
     "text": [
      "None\n"
     ]
    }
   ],
   "source": [
    "#random.seed()\n",
    "\n",
    "print(random.seed(a=100,version=2))"
   ]
  },
  {
   "cell_type": "code",
   "execution_count": 203,
   "id": "2847481a",
   "metadata": {},
   "outputs": [
    {
     "name": "stdout",
     "output_type": "stream",
     "text": [
      "947.87965957229\n"
     ]
    }
   ],
   "source": [
    "#random.uniform()\n",
    "\n",
    "print(random.uniform(1, 1000))  \n",
    "\n"
   ]
  },
  {
   "cell_type": "code",
   "execution_count": null,
   "id": "40918141",
   "metadata": {},
   "outputs": [
    {
     "name": "stdout",
     "output_type": "stream",
     "text": [
      "979\n"
     ]
    }
   ],
   "source": [
    "#random.seed()\n",
    "\n",
    "random.seed(2)\n",
    "print(random.randint(1, 1000))  \n"
   ]
  },
  {
   "cell_type": "code",
   "execution_count": null,
   "id": "62ffe716",
   "metadata": {},
   "outputs": [
    {
     "name": "stdout",
     "output_type": "stream",
     "text": [
      ".\n",
      "<built-in function chdir>\n",
      "['DirEntry', 'EX_OK', 'F_OK', 'GenericAlias', 'Mapping', 'MutableMapping', 'O_APPEND', 'O_BINARY', 'O_CREAT', 'O_EXCL', 'O_NOINHERIT', 'O_RANDOM', 'O_RDONLY', 'O_RDWR', 'O_SEQUENTIAL', 'O_SHORT_LIVED', 'O_TEMPORARY', 'O_TEXT', 'O_TRUNC', 'O_WRONLY', 'P_DETACH', 'P_NOWAIT', 'P_NOWAITO', 'P_OVERLAY', 'P_WAIT', 'PathLike', 'R_OK', 'SEEK_CUR', 'SEEK_END', 'SEEK_SET', 'TMP_MAX', 'W_OK', 'X_OK', '_AddedDllDirectory', '_Environ', '__all__', '__builtins__', '__doc__', '__file__', '__loader__', '__name__', '__package__', '__spec__', '_check_methods', '_execvpe', '_exists', '_exit', '_fspath', '_get_exports_list', '_wrap_close', 'abc', 'abort', 'access', 'add_dll_directory', 'altsep', 'chdir', 'chmod', 'close', 'closerange', 'cpu_count', 'curdir', 'defpath', 'device_encoding', 'devnull', 'dup', 'dup2', 'environ', 'error', 'execl', 'execle', 'execlp', 'execlpe', 'execv', 'execve', 'execvp', 'execvpe', 'extsep', 'fdopen', 'fsdecode', 'fsencode', 'fspath', 'fstat', 'fsync', 'ftruncate', 'get_blocking', 'get_exec_path', 'get_handle_inheritable', 'get_inheritable', 'get_terminal_size', 'getcwd', 'getcwdb', 'getenv', 'getlogin', 'getpid', 'getppid', 'isatty', 'kill', 'linesep', 'link', 'listdir', 'listdrives', 'listmounts', 'listvolumes', 'lseek', 'lstat', 'makedirs', 'mkdir', 'name', 'open', 'pardir', 'path', 'pathsep', 'pipe', 'popen', 'putenv', 'read', 'readlink', 'remove', 'removedirs', 'rename', 'renames', 'replace', 'rmdir', 'scandir', 'sep', 'set_blocking', 'set_handle_inheritable', 'set_inheritable', 'spawnl', 'spawnle', 'spawnv', 'spawnve', 'st', 'startfile', 'stat', 'stat_result', 'statvfs_result', 'strerror', 'supports_bytes_environ', 'supports_dir_fd', 'supports_effective_ids', 'supports_fd', 'supports_follow_symlinks', 'symlink', 'sys', 'system', 'terminal_size', 'times', 'times_result', 'truncate', 'umask', 'uname_result', 'unlink', 'unsetenv', 'urandom', 'utime', 'waitpid', 'waitstatus_to_exitcode', 'walk', 'write']\n",
      "c:\\Users\\manoharan.h\\Python_Training\n"
     ]
    }
   ],
   "source": [
    "#OS module \n",
    "\n",
    "\n",
    "import os \n",
    "print(os.curdir) #to get current directory\n",
    "print(os.chdir) #to change directory\n",
    "print(dir(os))\n",
    " \n",
    "#current directory\n",
    "\n",
    "print(os.getcwd())\n",
    "\n",
    "\n",
    "\n"
   ]
  },
  {
   "cell_type": "code",
   "execution_count": null,
   "id": "76ba02e8",
   "metadata": {},
   "outputs": [
    {
     "name": "stdout",
     "output_type": "stream",
     "text": [
      "['avg1.py', 'count1.py', 'Day1_3.ipynb', 'Day_4.ipynb', 'Day_5.ipynb', 'Day_6.ipynb', 'jumbled.words.py', 'main.py', 'sum1.py', 'vow.py', '__pycache__']\n"
     ]
    }
   ],
   "source": [
    "# To list files and folders\n",
    "print(os.listdir())"
   ]
  },
  {
   "cell_type": "code",
   "execution_count": 216,
   "id": "da1eccdf",
   "metadata": {},
   "outputs": [
    {
     "name": "stdout",
     "output_type": "stream",
     "text": [
      "os.stat_result(st_mode=33206, st_ino=27866022696117417, st_dev=16875045541811345585, st_nlink=1, st_uid=0, st_gid=0, st_size=1434, st_atime=1743996489, st_mtime=1743757032, st_ctime=1743656171)\n"
     ]
    }
   ],
   "source": [
    "#details\n",
    "\n",
    "print(os.stat('sum1.py'))"
   ]
  },
  {
   "cell_type": "code",
   "execution_count": 217,
   "id": "59d00921",
   "metadata": {},
   "outputs": [
    {
     "name": "stdout",
     "output_type": "stream",
     "text": [
      "1743757032.836022\n"
     ]
    }
   ],
   "source": [
    "#last modification time\n",
    "print(os.stat('sum1.py').st_mtime)\n"
   ]
  },
  {
   "cell_type": "code",
   "execution_count": 222,
   "id": "ace33525",
   "metadata": {},
   "outputs": [
    {
     "name": "stdout",
     "output_type": "stream",
     "text": [
      "2025-04-04 14:27:12.836022\n"
     ]
    }
   ],
   "source": [
    "#timestamp \n",
    "from datetime import datetime\n",
    "\n",
    "m=os.stat('sum1.py').st_mtime\n",
    "print(datetime.fromtimestamp(mod))"
   ]
  },
  {
   "cell_type": "code",
   "execution_count": null,
   "id": "2bff38b1",
   "metadata": {},
   "outputs": [],
   "source": [
    "#environ \n",
    "\n",
    "print(os.environ.get())  #to get the environment(virtual)"
   ]
  },
  {
   "cell_type": "code",
   "execution_count": null,
   "id": "4a80e5de",
   "metadata": {},
   "outputs": [],
   "source": [
    "#entire directory #not completed\n",
    "\n",
    "import ose\n",
    "\n",
    "for dirpath,dirnames,filenames in os.walk('D:/files'):\n",
    "    print(\"Current path:\",dirpath)\n",
    "    print(\"Directories:\" , dirnames)\n",
    "    print(\"Filenames\",filenames)"
   ]
  },
  {
   "cell_type": "code",
   "execution_count": 227,
   "id": "baced12a",
   "metadata": {},
   "outputs": [
    {
     "name": "stdout",
     "output_type": "stream",
     "text": [
      "tmp\n",
      "test.txt\n",
      "('tmp', 'test.txt')\n"
     ]
    }
   ],
   "source": [
    "print(os.path.dirname('tmp/test.txt'))\n",
    "print(os.path.basename('tmp/test.txt'))\n",
    "print(os.path.split('tmp/test.txt'))\n"
   ]
  },
  {
   "cell_type": "code",
   "execution_count": 228,
   "id": "6357d20c",
   "metadata": {},
   "outputs": [
    {
     "name": "stdout",
     "output_type": "stream",
     "text": [
      "Mon Apr  7 16:25:42 2025\n"
     ]
    }
   ],
   "source": [
    "#time module \n",
    "\n",
    "import time\n",
    "\n",
    "print(time.ctime())\n",
    "\n"
   ]
  },
  {
   "cell_type": "code",
   "execution_count": null,
   "id": "6a70160d",
   "metadata": {},
   "outputs": [
    {
     "name": "stdout",
     "output_type": "stream",
     "text": [
      "1744023356.7310812\n"
     ]
    }
   ],
   "source": [
    "print(time.time()) #time in seconds"
   ]
  },
  {
   "cell_type": "code",
   "execution_count": 230,
   "id": "4bf82ba1",
   "metadata": {},
   "outputs": [
    {
     "name": "stdout",
     "output_type": "stream",
     "text": [
      "time.struct_time(tm_year=2025, tm_mon=4, tm_mday=7, tm_hour=16, tm_min=28, tm_sec=48, tm_wday=0, tm_yday=97, tm_isdst=0)\n"
     ]
    }
   ],
   "source": [
    "print(time.localtime())"
   ]
  },
  {
   "cell_type": "code",
   "execution_count": 232,
   "id": "06e20711",
   "metadata": {},
   "outputs": [
    {
     "name": "stdout",
     "output_type": "stream",
     "text": [
      "Helllo\n"
     ]
    }
   ],
   "source": [
    "time.sleep(2) #to pause the execution\n",
    "print(\"Helllo\")"
   ]
  },
  {
   "cell_type": "code",
   "execution_count": null,
   "id": "761af14b",
   "metadata": {},
   "outputs": [
    {
     "name": "stdout",
     "output_type": "stream",
     "text": [
      "25-04-07 16:38:23\n"
     ]
    }
   ],
   "source": [
    "print(time.strftime(\"%Y-%m-%d %H:%M:%S\"))"
   ]
  },
  {
   "cell_type": "code",
   "execution_count": 234,
   "id": "1eb121d9",
   "metadata": {},
   "outputs": [
    {
     "data": {
      "text/plain": [
       "3.0004099999787286"
      ]
     },
     "execution_count": 234,
     "metadata": {},
     "output_type": "execute_result"
    }
   ],
   "source": [
    "start_time=time.perf_counter()\n",
    "time.sleep(3)\n",
    "end_time=time.perf_counter()\n",
    "end_time-start_time"
   ]
  },
  {
   "cell_type": "code",
   "execution_count": 239,
   "id": "740c5f3d",
   "metadata": {},
   "outputs": [
    {
     "name": "stdout",
     "output_type": "stream",
     "text": [
      "List lookup: 0.03840479999780655\n",
      "Set lookup 0.00044159998651593924\n"
     ]
    }
   ],
   "source": [
    "import timeit\n",
    "\n",
    "#time to check if 500 is in a list \n",
    "\n",
    "list_time =timeit.timeit(stmt=\"500 in my_list\",setup=\"my_list = list(range(1000))\",number=10000)\n",
    "\n",
    "#Time to check if 500 is in a set \n",
    "\n",
    "set_time = timeit.timeit(stmt=\"500 in my_list\",setup=\"my_list = set(range(1000))\",number=10000)\n",
    "\n",
    "print(\"List lookup:\" ,list_time)\n",
    "print(\"Set lookup\",set_time)\n",
    "\n"
   ]
  },
  {
   "cell_type": "code",
   "execution_count": null,
   "id": "368acf6d",
   "metadata": {},
   "outputs": [
    {
     "name": "stdout",
     "output_type": "stream",
     "text": [
      "0.0005779999773949385\n"
     ]
    }
   ],
   "source": [
    "def test():\n",
    "    return sum([i for i in range(10000)])\n",
    "\n",
    "import timeit\n",
    "\n",
    "print(timeit.timeit(test,number=1000)) #number of times the program (function) has been exectued"
   ]
  },
  {
   "cell_type": "code",
   "execution_count": 255,
   "id": "f960bb54",
   "metadata": {},
   "outputs": [
    {
     "name": "stdout",
     "output_type": "stream",
     "text": [
      "Mon Apr  7 17:03:29 2025\n",
      "Mon Apr  7 17:03:30 2025\n",
      "Mon Apr  7 17:03:31 2025\n",
      "Mon Apr  7 17:03:32 2025\n",
      "Mon Apr  7 17:03:33 2025\n"
     ]
    }
   ],
   "source": [
    "#Display time for every second\n",
    "for i in range(5):\n",
    "        time.sleep(1)\n",
    "        print(time.ctime())"
   ]
  },
  {
   "cell_type": "code",
   "execution_count": 263,
   "id": "fa9cb3c1",
   "metadata": {},
   "outputs": [
    {
     "name": "stdout",
     "output_type": "stream",
     "text": [
      "2025-04\n"
     ]
    }
   ],
   "source": [
    "#Current year and month\n",
    "print(time.strftime(\"%Y-%m\"))"
   ]
  },
  {
   "cell_type": "code",
   "execution_count": 254,
   "id": "f8078065",
   "metadata": {},
   "outputs": [
    {
     "name": "stdout",
     "output_type": "stream",
     "text": [
      "0.03977720002876595\n"
     ]
    }
   ],
   "source": [
    "def func():\n",
    "    return \"Hello\"\n",
    "\n",
    "print(timeit.timeit(func,number=1000000)) "
   ]
  },
  {
   "cell_type": "code",
   "execution_count": 260,
   "id": "f7d5632c",
   "metadata": {},
   "outputs": [
    {
     "name": "stdout",
     "output_type": "stream",
     "text": [
      "5.168452200014144\n"
     ]
    }
   ],
   "source": [
    "#stopwatch\n",
    "\n",
    "n=input(\"press enter to start\")\n",
    "s=time.perf_counter()\n",
    "n=input(\"enter to stop\")\n",
    "e=time.perf_counter()\n",
    "print(e-s)"
   ]
  },
  {
   "cell_type": "code",
   "execution_count": null,
   "id": "350413a8",
   "metadata": {},
   "outputs": [
    {
     "name": "stdout",
     "output_type": "stream",
     "text": [
      "2025-04-07 17:17:30.895510\n"
     ]
    }
   ],
   "source": [
    "# Datetime Tasks\n",
    "\n",
    "print(datetime.now())"
   ]
  },
  {
   "cell_type": "code",
   "execution_count": 272,
   "id": "a9bd71fc",
   "metadata": {},
   "outputs": [
    {
     "name": "stdout",
     "output_type": "stream",
     "text": [
      "Days until 2025-12-31 : 267 days, 6:31:15.472203\n"
     ]
    }
   ],
   "source": [
    "#Days until a specified date\n",
    "\n",
    "#set your target date\n",
    "\n",
    "target_date = datetime(2025,12,31) #Dec 31 2025\n",
    "\n",
    "#get today's date\n",
    "\n",
    "today = datetime.today()\n",
    "\n",
    "#calculate the difference\n",
    "\n",
    "days_left = (target_date-today)\n",
    "\n",
    "print(f'Days until {target_date.date()} : {days_left}')"
   ]
  },
  {
   "cell_type": "markdown",
   "id": "8fc749e5",
   "metadata": {},
   "source": []
  },
  {
   "cell_type": "code",
   "execution_count": 279,
   "id": "f712d3a2",
   "metadata": {},
   "outputs": [
    {
     "name": "stdout",
     "output_type": "stream",
     "text": [
      "Formatted date:  09-06-2025\n"
     ]
    }
   ],
   "source": [
    "#convert a user input from yyyy-mm-dd  to dd-mm-yy\n",
    "\n",
    "user_input = input(\"Enter the date in YYYY-MM-DD format: \")\n",
    "\n",
    "#convert to datetime object\n",
    "date_obj = datetime.strptime(user_input,\"%Y-%m-%d\")\n",
    "\n",
    "#Format to DD-MM-YYYY\n",
    "formatte_date = date_obj.strftime(\"%d-%m-%Y\")\n",
    "\n",
    "print(\"Formatted date: \" , formatte_date)"
   ]
  },
  {
   "cell_type": "code",
   "execution_count": 281,
   "id": "10836451",
   "metadata": {},
   "outputs": [
    {
     "name": "stdout",
     "output_type": "stream",
     "text": [
      "user_1: {'name': 'John Johnson', 'age': 23, 'phone': '3188220696', 'email': 'john.johnson@example.com'}\n",
      "user_2: {'name': 'David Garcia', 'age': 52, 'phone': '9598399481', 'email': 'david.garcia@example.com'}\n",
      "user_3: {'name': 'Alex Williams', 'age': 32, 'phone': '0315961877', 'email': 'alex.williams@example.com'}\n",
      "user_4: {'name': 'Katie Lee', 'age': 40, 'phone': '3849376224', 'email': 'katie.lee@example.com'}\n",
      "user_5: {'name': 'David Garcia', 'age': 60, 'phone': '8845974236', 'email': 'david.garcia@example.com'}\n",
      "user_6: {'name': 'Alex Lee', 'age': 35, 'phone': '7437855647', 'email': 'alex.lee@example.com'}\n",
      "user_7: {'name': 'Laura Martinez', 'age': 41, 'phone': '9608791706', 'email': 'laura.martinez@example.com'}\n",
      "user_8: {'name': 'Chris Lee', 'age': 32, 'phone': '6971289087', 'email': 'chris.lee@example.com'}\n",
      "user_9: {'name': 'John Garcia', 'age': 41, 'phone': '1609070281', 'email': 'john.garcia@example.com'}\n",
      "user_10: {'name': 'Alex Martinez', 'age': 18, 'phone': '3091036713', 'email': 'alex.martinez@example.com'}\n"
     ]
    }
   ],
   "source": [
    "#Random \n",
    "# Task: Random data Generator for testing \n",
    "# Description  : Create a script that generates fake data for 10 users. Each user should have:\n",
    "# A Random full name\n",
    "# A random age between 18 and 60\n",
    "# A random 10-digit phone number\n",
    "# A random email based on their name\n",
    "\n",
    "# Store the data in a nested Dictionary\n",
    "\n",
    "import random\n",
    "import string\n",
    " \n",
    "# Sample first and last names\n",
    "first_names = [\"John\", \"Jane\", \"Alex\", \"Emily\", \"Chris\", \"Katie\", \"Mike\", \"Laura\", \"David\", \"Sophie\"]\n",
    "last_names = [\"Smith\", \"Johnson\", \"Brown\", \"Williams\", \"Jones\", \"Garcia\", \"Miller\", \"Davis\", \"Martinez\", \"Lee\"]\n",
    " \n",
    "# Function to generate a random 10-digit phone number\n",
    "def generate_phone():\n",
    "    return ''.join(random.choices(\"0123456789\", k=10))\n",
    " \n",
    "# Generate user data\n",
    "users_data = {}\n",
    " \n",
    "for i in range(1, 11):\n",
    "    first = random.choice(first_names)\n",
    "    last = random.choice(last_names)\n",
    "    full_name = f\"{first} {last}\"\n",
    "    age = random.randint(18, 60)\n",
    "    phone = generate_phone()\n",
    "    email = f\"{first.lower()}.{last.lower()}@example.com\"\n",
    " \n",
    "    users_data[f\"user_{i}\"] = {\n",
    "        \"name\": full_name,\n",
    "        \"age\": age,\n",
    "        \"phone\": phone,\n",
    "        \"email\": email\n",
    "    }\n",
    " \n",
    "# Print the nested dictionary\n",
    "for user, data in users_data.items():\n",
    "    print(f\"{user}: {data}\")\n",
    " \n",
    "\n",
    "\n"
   ]
  }
 ],
 "metadata": {
  "kernelspec": {
   "display_name": "Python 3",
   "language": "python",
   "name": "python3"
  },
  "language_info": {
   "codemirror_mode": {
    "name": "ipython",
    "version": 3
   },
   "file_extension": ".py",
   "mimetype": "text/x-python",
   "name": "python",
   "nbconvert_exporter": "python",
   "pygments_lexer": "ipython3",
   "version": "3.12.3"
  }
 },
 "nbformat": 4,
 "nbformat_minor": 5
}
