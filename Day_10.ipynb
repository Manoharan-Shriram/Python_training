{
 "cells": [
  {
   "cell_type": "code",
   "execution_count": null,
   "id": "5b1f7f81",
   "metadata": {},
   "outputs": [
    {
     "name": "stdout",
     "output_type": "stream",
     "text": [
      "100\n"
     ]
    }
   ],
   "source": [
    "class cal:\n",
    "    #self is known as instance variable \"here a,b are local variable \"\n",
    "    # __init__ is also known as constructor/intialization method.\n",
    "    def __init__(self,a=20,b=40):\n",
    "        self.m=a\n",
    "        self.n=b\n",
    "\n",
    "    def add(self):\n",
    "            print(self.m + self.n) \n",
    "\n",
    "s=cal(70,30) #obj\n",
    "s.add()\n",
    "\n"
   ]
  },
  {
   "cell_type": "code",
   "execution_count": null,
   "id": "4466315f",
   "metadata": {},
   "outputs": [
    {
     "name": "stdout",
     "output_type": "stream",
     "text": [
      "Rectangle(5,10)\n",
      "Rectangle(10,5)\n",
      "False\n",
      "50\n",
      "50\n"
     ]
    }
   ],
   "source": [
    "# dunden methods eq  and str \n",
    "\n",
    "class Rectangle:\n",
    "    def __init__(self,length,width):\n",
    "        self.length = length\n",
    "        self.width = width\n",
    "\n",
    "    def __str__(self):\n",
    "        return f\"Rectangle({self.length},{self.width})\"\n",
    "    def  __eq__(self,other):\n",
    "        return self.length == other.length and self.width == other.width\n",
    "    def area(self):\n",
    "        return self.length * self.width\n",
    "    \n",
    "r1 = Rectangle(5,10)\n",
    "r2 = Rectangle(10,5)\n",
    "\n",
    "print(r1)  #output r1\n",
    "print(r2)  #output r2\n",
    "print(r1 == r2)  # output false\n",
    "print(r1.area()) # Output 50\n",
    "print(r2.area()) #Output 50 "
   ]
  },
  {
   "cell_type": "code",
   "execution_count": null,
   "id": "05e0b640",
   "metadata": {},
   "outputs": [
    {
     "name": "stdout",
     "output_type": "stream",
     "text": [
      "private\n"
     ]
    }
   ],
   "source": [
    "# In python _ - means protected , __ - means private , nothing means public  \n",
    "\n",
    "# the protected , private symbols should be added before the name of that particular thing it could be a variable function or class \n",
    "\n",
    "#scenario 1 - if the function is pulic and the variable declared inside is private it will be returned \n",
    "#scenario 2 - if function is private and the variable inside is either public or private it wont be returned\n",
    "\n",
    "\n",
    "\n",
    "\n",
    "class Myclass:\n",
    "    def __init__(self):\n",
    "        self.public_attr='public'\n",
    "        #self._protected_attr = 'protected'\n",
    "        self.__private_attr = 'private'\n",
    "\n",
    "    def get_private_attr(self):\n",
    "        return self.__private_attr\n",
    "        #return self.public_attr\n",
    "\n",
    "obj = Myclass()\n",
    "\n",
    "v=obj.get_private_attr()\n",
    "\n",
    "print(v)"
   ]
  },
  {
   "cell_type": "code",
   "execution_count": 23,
   "id": "67e83aa5",
   "metadata": {},
   "outputs": [
    {
     "name": "stdout",
     "output_type": "stream",
     "text": [
      "True\n"
     ]
    }
   ],
   "source": [
    "# isinstance is used To check whether the object is associated with a particular class\n",
    "\n",
    "class demo:\n",
    "    a=10\n",
    "    b=20\n",
    "\n",
    "obj=demo()\n",
    "\n",
    "\n",
    "x=isinstance(obj,demo)\n",
    "\n",
    "\n",
    "print(x)\n"
   ]
  },
  {
   "cell_type": "code",
   "execution_count": null,
   "id": "1e498b1d",
   "metadata": {},
   "outputs": [
    {
     "data": {
      "text/plain": [
       "10"
      ]
     },
     "execution_count": 26,
     "metadata": {},
     "output_type": "execute_result"
    }
   ],
   "source": [
    "# getattr\n",
    "\n",
    "class demo():\n",
    "    a=10\n",
    "    b=20\n",
    "\n",
    "obj=demo()\n",
    "\n",
    "getattr(demo,'a')   #print(obj.a)  both are similar literally same\n",
    "\n"
   ]
  },
  {
   "cell_type": "code",
   "execution_count": null,
   "id": "63426e23",
   "metadata": {},
   "outputs": [
    {
     "data": {
      "text/plain": [
       "['__class__',\n",
       " '__delattr__',\n",
       " '__dict__',\n",
       " '__dir__',\n",
       " '__doc__',\n",
       " '__eq__',\n",
       " '__format__',\n",
       " '__ge__',\n",
       " '__getattribute__',\n",
       " '__getstate__',\n",
       " '__gt__',\n",
       " '__hash__',\n",
       " '__init__',\n",
       " '__init_subclass__',\n",
       " '__le__',\n",
       " '__lt__',\n",
       " '__module__',\n",
       " '__ne__',\n",
       " '__new__',\n",
       " '__reduce__',\n",
       " '__reduce_ex__',\n",
       " '__repr__',\n",
       " '__setattr__',\n",
       " '__sizeof__',\n",
       " '__str__',\n",
       " '__subclasshook__',\n",
       " '__weakref__',\n",
       " 'a',\n",
       " 'b',\n",
       " 'c']"
      ]
     },
     "execution_count": 28,
     "metadata": {},
     "output_type": "execute_result"
    }
   ],
   "source": [
    "#setattr sets/adds a variable (class) we can check whether it is added using dir(classname)\n",
    "\n",
    "class demo():\n",
    "    a=10\n",
    "    b=20\n",
    "\n",
    "obj=demo()\n",
    "\n",
    "setattr(demo,'c',30)\n",
    "\n",
    "dir(demo)\n"
   ]
  },
  {
   "cell_type": "code",
   "execution_count": 31,
   "id": "8923b18e",
   "metadata": {},
   "outputs": [
    {
     "data": {
      "text/plain": [
       "['__class__',\n",
       " '__delattr__',\n",
       " '__dict__',\n",
       " '__dir__',\n",
       " '__doc__',\n",
       " '__eq__',\n",
       " '__format__',\n",
       " '__ge__',\n",
       " '__getattribute__',\n",
       " '__getstate__',\n",
       " '__gt__',\n",
       " '__hash__',\n",
       " '__init__',\n",
       " '__init_subclass__',\n",
       " '__le__',\n",
       " '__lt__',\n",
       " '__module__',\n",
       " '__ne__',\n",
       " '__new__',\n",
       " '__reduce__',\n",
       " '__reduce_ex__',\n",
       " '__repr__',\n",
       " '__setattr__',\n",
       " '__sizeof__',\n",
       " '__str__',\n",
       " '__subclasshook__',\n",
       " '__weakref__',\n",
       " 'a',\n",
       " 'b']"
      ]
     },
     "execution_count": 31,
     "metadata": {},
     "output_type": "execute_result"
    }
   ],
   "source": [
    "#delattr is used to remove a class variable it can be checked using dir(classname)\n",
    "\n",
    "class demo():\n",
    "    a=10\n",
    "    b=20\n",
    "    c=30\n",
    "\n",
    "obj=demo()\n",
    "\n",
    "delattr(demo,'c')\n",
    "\n",
    "dir(demo)"
   ]
  },
  {
   "cell_type": "code",
   "execution_count": null,
   "id": "7570338f",
   "metadata": {},
   "outputs": [
    {
     "name": "stdout",
     "output_type": "stream",
     "text": [
      "100000\n",
      "1200000\n"
     ]
    }
   ],
   "source": [
    "\n",
    "#How to change values for all objects and one particular object\n",
    "\n",
    "class Employee:\n",
    "    raise_amount = 1.04 #class variable\n",
    "\n",
    "    def __init__(self,first,last,pay):\n",
    "        self.first=first\n",
    "        self.last=last\n",
    "        self.pay=pay\n",
    "        self.email = first + '.' + last + '@company.com'\n",
    "\n",
    "    def full_name(self):\n",
    "        return '{}{}'.format(self.first,self.last)\n",
    "    \n",
    "    \n",
    "    def apply_raise(self):\n",
    "        #self.pay = int(self.pay * 1.04)\n",
    "        self.pay = int(self.pay*self.raise_amount) #employee raiseamount\n",
    "\n",
    "emp1 = Employee('Corey','Schafer',50000)\n",
    "emp2 = Employee('Test','User',600000)\n",
    " \n",
    "# Increasing raise amount for only emp1 - Changing value for class variable for one particular object \n",
    "\n",
    "\n",
    "# When u change the value for one object and then u change for all objects meaning whole class the value for the one object remains unchanged , that's why changing for the whole class is prferred .\n",
    "\n",
    "#Uncomment it and comment the below when u learn\n",
    "\n",
    "# emp1.raise_amount=100    \n",
    "\n",
    "# emp1.apply_raise()\n",
    "# a=emp1.pay\n",
    "\n",
    "# emp2.apply_raise()\n",
    "# b=emp2.pay\n",
    "\n",
    "# Increasing raise amount for all emp - Changing value for class variable for all  objects \n",
    "\n",
    "Employee.raise_amount = 2\n",
    "\n",
    "emp1.apply_raise()\n",
    "c=emp1.pay\n",
    "\n",
    "emp2.apply_raise()\n",
    "d=emp2.pay\n",
    "\n",
    "\n",
    "# Result- Changing value for class variable for one particular object \n",
    "\n",
    "# print(a)\n",
    "# print(b)\n",
    "\n",
    "# Result - Changing value for class variable for all  objects \n",
    "print(c)\n",
    "print(d)"
   ]
  },
  {
   "cell_type": "code",
   "execution_count": null,
   "id": "09ddaa12",
   "metadata": {},
   "outputs": [
    {
     "name": "stdout",
     "output_type": "stream",
     "text": [
      "1.04\n",
      "1.04\n"
     ]
    }
   ],
   "source": [
    "#class method   works with class not object should have decorator\n",
    "\n",
    "class Employee:\n",
    "    raise_amount = 1.04 #class variable\n",
    "\n",
    "    def __init__(self,first,last,pay):  #INSTANCE VARIABLE\n",
    "        self.first=first \n",
    "        self.last=last\n",
    "        self.pay=pay\n",
    "        self.email = first + '.' + last + '@company.com'\n",
    "\n",
    "    def full_name(self):\n",
    "        return '{}{}'.format(self.first,self.last)\n",
    "    \n",
    "    \n",
    "    def apply_raise(self):\n",
    "        #self.pay = int(self.pay * 1.04)\n",
    "        self.pay = int(self.pay*self.raise_amount) #employee raiseamount\n",
    "\n",
    "emp1 = Employee('Corey','Schafer',50000)\n",
    "emp2 = Employee('Test','User',600000)\n",
    "\n",
    "#class method\n",
    "\n",
    "@classmethod\n",
    "def set_raise_amt(cls,amount):\n",
    "    cls.raise_amount=amount\n",
    "\n",
    "print(emp1.raise_amount)\n",
    "print(emp2.raise_amount)\n",
    " "
   ]
  },
  {
   "cell_type": "code",
   "execution_count": null,
   "id": "c18682b0",
   "metadata": {},
   "outputs": [],
   "source": [
    "# Static method   #refer sir github  and complete it \n",
    "\n",
    "def _is_workday(day):\n",
    "    if day.weekday()==5 or day.weekday()==6:\n",
    "        return False\n",
    "    return True\n",
    "emp1= Employee('Corey','Schafer')"
   ]
  },
  {
   "cell_type": "code",
   "execution_count": 45,
   "id": "bf02d134",
   "metadata": {},
   "outputs": [
    {
     "name": "stdout",
     "output_type": "stream",
     "text": [
      "base\n",
      "derived\n"
     ]
    }
   ],
   "source": [
    "# Inheritance\n",
    "\n",
    "#single\n",
    "\n",
    "class base():\n",
    "    a_name=\"base\"\n",
    "    #print(a_name)\n",
    "\n",
    "class derived(base):\n",
    "    b_name=\"derived\"\n",
    "\n",
    "obj=derived()\n",
    "\n",
    "print(obj.a_name)\n",
    "print(obj.b_name)"
   ]
  },
  {
   "cell_type": "code",
   "execution_count": null,
   "id": "90736f50",
   "metadata": {},
   "outputs": [
    {
     "name": "stdout",
     "output_type": "stream",
     "text": [
      "dog barking\n",
      "Animal Barking\n"
     ]
    }
   ],
   "source": [
    "# u can also access function of the parent class using inheritance\n",
    "\n",
    "class Animal:\n",
    "    def speak(self):\n",
    "        print(\"Animal Barking\")\n",
    "#child class Dog inherits the base class Animal\n",
    "\n",
    "class Dog(Animal):\n",
    "    def bark(self):\n",
    "        print(\"dog barking\")\n",
    "\n",
    "d=Dog()\n",
    "d.bark()\n",
    "d.speak()"
   ]
  },
  {
   "cell_type": "code",
   "execution_count": null,
   "id": "f8dba56c",
   "metadata": {},
   "outputs": [
    {
     "name": "stdout",
     "output_type": "stream",
     "text": [
      "Hi , I am James\n"
     ]
    }
   ],
   "source": [
    "# Here we are giving input because of the parent class constructor h\n",
    "\n",
    "class Robot:\n",
    "\n",
    "    def __init__(self,name='ram'):\n",
    "        self.name = name\n",
    "\n",
    "    def say_hi(self):\n",
    "        print('Hi , I am ' + self.name)\n",
    "    \n",
    "class PhysicianRobot(Robot):\n",
    "    pass\n",
    "\n",
    "y=PhysicianRobot(\"James\")\n",
    "\n",
    "y.say_hi()"
   ]
  },
  {
   "cell_type": "code",
   "execution_count": null,
   "id": "016fb0c9",
   "metadata": {},
   "outputs": [
    {
     "name": "stdout",
     "output_type": "stream",
     "text": [
      "abc\n",
      "xyz\n",
      "ram\n"
     ]
    }
   ],
   "source": [
    "# multilevel inheritance   # the son class can access g_name and f_name\n",
    "\n",
    "class gfather:\n",
    "    g_name = 'abc'\n",
    "\n",
    "class father(gfather):\n",
    "    f_name = \"xyz\"\n",
    "\n",
    "class son(father):\n",
    "    son=\"son\"\n",
    "    s_name = 'ram'\n",
    "\n",
    "f=son()\n",
    "\n",
    "print(f.g_name)\n",
    "print(f.f_name)\n",
    "print(f.s_name)"
   ]
  },
  {
   "cell_type": "code",
   "execution_count": null,
   "id": "704633f7",
   "metadata": {},
   "outputs": [
    {
     "name": "stdout",
     "output_type": "stream",
     "text": [
      "abc\n",
      "xyz\n",
      "mano\n"
     ]
    }
   ],
   "source": [
    "#Multiple Inheritance  # Son class inherits both  father and mother class \n",
    "\n",
    "class father:\n",
    "    f_name = \"abc\"\n",
    "\n",
    "class mother:\n",
    "    m_name ='xyz'\n",
    "\n",
    "class son(father,mother):\n",
    "    s_name = 'mano'\n",
    "\n",
    "a=son()\n",
    "\n",
    "print(a.f_name)\n",
    "print(a.m_name)\n",
    "print(a.s_name)"
   ]
  },
  {
   "cell_type": "code",
   "execution_count": 61,
   "id": "172dc7a6",
   "metadata": {},
   "outputs": [
    {
     "name": "stdout",
     "output_type": "stream",
     "text": [
      "I'm car\n",
      "I'm motor cycle \n",
      "general use: transportation\n",
      "None\n",
      "specific use : commute to work , vacation with family\n",
      "None\n",
      "specific use: road trip , racing \n",
      "None\n"
     ]
    }
   ],
   "source": [
    "# Heirarchial Inheritance \n",
    "\n",
    "class Vehicle:\n",
    "    def general_usage(self):\n",
    "        print(\"general use: transportation\")\n",
    "\n",
    "class Car(Vehicle):\n",
    "    def __init__(self):\n",
    "        print(\"I'm car\")\n",
    "        self.wheels = 4\n",
    "        self.has_roof = True\n",
    "\n",
    "    def specific_usage(self):\n",
    "        #self.general()\n",
    "        print(\"specific use : commute to work , vacation with family\" )\n",
    "\n",
    "class MotorCycle(Vehicle):\n",
    "    def __init__(self):\n",
    "        print(\"I'm motor cycle \")\n",
    "        self.wheels =2\n",
    "        self.has_roof = False\n",
    "    \n",
    "    def specific_usage(self):\n",
    "        #self.general_usage()\n",
    "        print(\"specific use: road trip , racing \")\n",
    "\n",
    "\n",
    "#vehicle von=bj = new car\n",
    "\n",
    "c = Car()\n",
    "M= MotorCycle()\n",
    "\n",
    "print(c.general_usage())\n",
    "print(c.specific_usage())\n",
    "print(M.specific_usage())"
   ]
  },
  {
   "cell_type": "code",
   "execution_count": 64,
   "id": "5ee38280",
   "metadata": {},
   "outputs": [
    {
     "name": "stdout",
     "output_type": "stream",
     "text": [
      "From Demo\n",
      "from demo1\n"
     ]
    }
   ],
   "source": [
    "class demo():\n",
    "    def __init__(self):\n",
    "        print('From Demo')\n",
    "\n",
    "class demo1(demo):\n",
    "    def __init__(self):\n",
    "        super().__init__()\n",
    "        print('from demo1')\n",
    "\n",
    "\n",
    "d=demo1()\n",
    "\n",
    "\n"
   ]
  },
  {
   "cell_type": "code",
   "execution_count": null,
   "id": "1cc47e6d",
   "metadata": {},
   "outputs": [
    {
     "name": "stdout",
     "output_type": "stream",
     "text": [
      "Animal __init__\n",
      "Dog __init__\n",
      "Labrador\n",
      "Dog\n"
     ]
    }
   ],
   "source": [
    "# How to send input to the parent class variable whe n both subclass and supervlass has parameter variables (inefficient way)\n",
    "\n",
    "class Animal:\n",
    "    def __init__(self,species):\n",
    "        self.species = species\n",
    "        print(\"Animal __init__\")\n",
    "\n",
    "class Dog(Animal):\n",
    "    def __init__(self, breed):\n",
    "        super().__init__(\"Dog\")\n",
    "        self.breed=breed\n",
    "        print(\"Dog __init__\")\n",
    "\n",
    "myDog = Dog(\"Labrador\")\n",
    " \n",
    "print(myDog.breed)\n",
    "print(myDog.species)\n"
   ]
  },
  {
   "cell_type": "code",
   "execution_count": null,
   "id": "68881b1a",
   "metadata": {},
   "outputs": [
    {
     "name": "stdout",
     "output_type": "stream",
     "text": [
      "Animal __init__\n",
      "Dog __init__\n",
      "Labrador\n",
      "Dog\n"
     ]
    }
   ],
   "source": [
    "# How to send input to the parent class variable whe n both subclass and superclass has parameter variables (efficient way)\n",
    "\n",
    "class Animal:\n",
    "    def __init__(self,species):\n",
    "        self.species = species\n",
    "        print(\"Animal __init__\")\n",
    "\n",
    "class Dog(Animal):\n",
    "    def __init__(self, breed,spec):\n",
    "        super().__init__(spec)\n",
    "        self.breed=breed\n",
    "        print(\"Dog __init__\")\n",
    "\n",
    "myDog = Dog(\"Labrador\",\"Dog\")\n",
    " \n",
    "print(myDog.breed)\n",
    "print(myDog.species)"
   ]
  },
  {
   "cell_type": "code",
   "execution_count": 67,
   "id": "4aadf073",
   "metadata": {},
   "outputs": [
    {
     "name": "stdout",
     "output_type": "stream",
     "text": [
      "True\n",
      "False\n"
     ]
    }
   ],
   "source": [
    "\n",
    "# issubclass(sub,sup)  #Example one will brign true other will bring false because son inherits father  but mother does not inherit father\n",
    "\n",
    "class father:\n",
    "    f_name = \"abc\"\n",
    "\n",
    "class mother:\n",
    "    m_name ='xyz'\n",
    "\n",
    "class son(father,mother):\n",
    "    s_name = 'mano'\n",
    "\n",
    "a=son()\n",
    "\n",
    "\n",
    "print(issubclass(son,father))\n",
    "\n",
    "\n",
    "print(issubclass(mother,father))\n"
   ]
  },
  {
   "cell_type": "code",
   "execution_count": null,
   "id": "e48d87c9",
   "metadata": {},
   "outputs": [
    {
     "name": "stdout",
     "output_type": "stream",
     "text": [
      "Initializing A\n",
      "Initializing C\n",
      "Initializing B\n",
      "Initializing D\n",
      "Help on D in module __main__ object:\n",
      "\n",
      "class D(B, C)\n",
      " |  Method resolution order:\n",
      " |      D\n",
      " |      B\n",
      " |      C\n",
      " |      A\n",
      " |      builtins.object\n",
      " |\n",
      " |  Methods defined here:\n",
      " |\n",
      " |  __init__(self)\n",
      " |      Initialize self.  See help(type(self)) for accurate signature.\n",
      " |\n",
      " |  ----------------------------------------------------------------------\n",
      " |  Data descriptors inherited from A:\n",
      " |\n",
      " |  __dict__\n",
      " |      dictionary for instance variables\n",
      " |\n",
      " |  __weakref__\n",
      " |      list of weak references to the object\n",
      "\n"
     ]
    }
   ],
   "source": [
    "# The whole point of the program is to use the help keyword # In this program the order of execution (inheritance) is complex so the help key word is used which will show us the order of execution \n",
    "\n",
    "class A:\n",
    "    def __init__(self):\n",
    "        print(\"Initializing A\")\n",
    "\n",
    "\n",
    "class B(A):\n",
    "    def __init__(self):\n",
    "        super().__init__() #Call A's init\n",
    "        print(\"Initializing B\")\n",
    "\n",
    "class C(A):\n",
    "    def __init__(self):\n",
    "        super().__init__() # Call A's __init__\n",
    "        print(\"Initializing C\")\n",
    "\n",
    "class D(B,C):\n",
    "    def __init__(self):\n",
    "        super().__init__() # Calls B's and then C's __init__\n",
    "        print(\"Initializing D\")\n",
    "\n",
    "d=D()\n",
    "\n",
    "help(d)"
   ]
  },
  {
   "cell_type": "code",
   "execution_count": null,
   "id": "1e0d7c22",
   "metadata": {},
   "outputs": [
    {
     "name": "stdout",
     "output_type": "stream",
     "text": [
      "40\n",
      "200\n",
      "10\n"
     ]
    }
   ],
   "source": [
    "# Pyhton can't perform polymorphism like C++ therefore it mimics overloading by using this logic\n",
    "\n",
    "#overloading - in python\n",
    "\n",
    "def sum(a=None,b=None,c=None):\n",
    "    if a!=None and b!=None and c!=None:\n",
    "        c=a+b+c\n",
    "    elif a!=None and b!=None:\n",
    "        c=a*b  \n",
    "    else:\n",
    "        c=a \n",
    "\n",
    "    print(c)\n",
    "\n",
    "a=10\n",
    "\n",
    "sum(a,10,20)\n",
    "sum(10,20)\n",
    "sum(a)"
   ]
  },
  {
   "cell_type": "code",
   "execution_count": null,
   "id": "dc455686",
   "metadata": {},
   "outputs": [
    {
     "name": "stdout",
     "output_type": "stream",
     "text": [
      "11\n",
      "HiGeeks\n"
     ]
    }
   ],
   "source": [
    "#Function to take multiple arguments     it can't perform polymorphism directly so it takes multiple arguments and perform polymorphism - method overloading using if loop  ie associating it with appropriate parameter\n",
    "\n",
    "def add(datatype,*args):\n",
    "\n",
    "#if datatype is int \n",
    "#initialize answer as 0 \n",
    "\n",
    "    if datatype == 'int':\n",
    "        answer = 0\n",
    "\n",
    "#if datatype is str\n",
    "#initialize answer as 1\n",
    "\n",
    "    if datatype == 'str':\n",
    "        answer = ''\n",
    "\n",
    "#Traverse through the arguments \n",
    "    for x in args:\n",
    "\n",
    "    # This will do addition if the \n",
    "    #arguments are int or concatenation\n",
    "    # if the arguments are str\n",
    "        answer = answer + x\n",
    "\n",
    "    print(answer)\n",
    "\n",
    "#Integer\n",
    "add('int',5,6)\n",
    "\n",
    "#string \n",
    "\n",
    "add('str','Hi','Geeks')\n",
    "\n",
    "\n"
   ]
  },
  {
   "cell_type": "code",
   "execution_count": null,
   "id": "7c06beae",
   "metadata": {},
   "outputs": [],
   "source": [
    "#passing two arguments method overloading adanced topic not in portion using methods to do method overloading\n",
    "\n",
    "\n",
    "#pip install multipledispatch\n",
    "\n",
    "@dispatch(int,int,float)\n",
    "def product(first,second,third):\n",
    "    result = first+second+third\n",
    "    print(result)\n",
    "\n",
    "# you can also pass data type of any value as per requirement\n",
    "@dispatch(float,float)\n",
    "def product (a,b):\n",
    "    res=a+b\n",
    "    print(res)\n",
    "\n",
    "@dispatch(int,float,int)\n",
    "\n",
    "def product(a,b,c):\n",
    "        res = a+b+c\n",
    "        print(res)\n",
    "\n",
    "product(10,10)\n",
    "product(1.5,1.5)\n",
    "product(10,11.5,11)\n",
    "    \n",
    "\n"
   ]
  },
  {
   "cell_type": "code",
   "execution_count": 82,
   "id": "815a2107",
   "metadata": {},
   "outputs": [
    {
     "name": "stdout",
     "output_type": "stream",
     "text": [
      "I have 3 sides\n",
      "I have 4 sides\n"
     ]
    }
   ],
   "source": [
    "from abc import ABC, abstractmethod\n",
    "\n",
    "class Polygon(ABC):\n",
    "\n",
    "    @abstractmethod\n",
    "    def No_of_sides(self):\n",
    "        pass\n",
    "\n",
    "class Triangle(Polygon):\n",
    "\n",
    "\n",
    "    #overriding abstract method \n",
    "    def No_of_sides(self):\n",
    "        print('I have 3 sides')\n",
    "\n",
    "\n",
    "class Square(Polygon):\n",
    "\n",
    "\n",
    "    #overriding abstract method \n",
    "    def No_of_sides(self):\n",
    "        print('I have 4 sides')\n",
    "\n",
    "\n",
    "\n",
    "a=Triangle()\n",
    "\n",
    "a.No_of_sides()\n",
    "\n",
    "a1=Square()\n",
    "\n",
    "a1.No_of_sides()"
   ]
  },
  {
   "cell_type": "code",
   "execution_count": null,
   "id": "a1e671f6",
   "metadata": {},
   "outputs": [],
   "source": [
    "\n"
   ]
  },
  {
   "cell_type": "code",
   "execution_count": null,
   "id": "5b30db33",
   "metadata": {},
   "outputs": [],
   "source": []
  }
 ],
 "metadata": {
  "kernelspec": {
   "display_name": "Python 3",
   "language": "python",
   "name": "python3"
  },
  "language_info": {
   "codemirror_mode": {
    "name": "ipython",
    "version": 3
   },
   "file_extension": ".py",
   "mimetype": "text/x-python",
   "name": "python",
   "nbconvert_exporter": "python",
   "pygments_lexer": "ipython3",
   "version": "3.12.3"
  }
 },
 "nbformat": 4,
 "nbformat_minor": 5
}
