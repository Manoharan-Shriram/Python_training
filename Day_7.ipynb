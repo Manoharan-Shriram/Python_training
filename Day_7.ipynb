{
 "cells": [
  {
   "cell_type": "code",
   "execution_count": 16,
   "id": "6d7b6b73",
   "metadata": {},
   "outputs": [],
   "source": [
    "#FILE HANDLING\n",
    "\n",
    "\n",
    "#file modes\n",
    "# 'r'----read\n",
    "# 'w' -----write\n",
    "# 'a' ----apppend\n",
    "# 'r+'----read/write\n",
    "# 'w+' ---- read/write\n",
    "# 'a+' ------ read/write\n",
    "\n"
   ]
  },
  {
   "cell_type": "code",
   "execution_count": 17,
   "id": "4513c049",
   "metadata": {},
   "outputs": [
    {
     "name": "stdout",
     "output_type": "stream",
     "text": [
      "The modules described in this chapter deal with disk files and directories. For example, \n",
      "there are modules for reading the properties of files, manipulating paths in a portable way\n",
      ", and creating temporary files. The full list of modules in this chapter is:Log entry created at2025-04-08 10:24:53.868501 : This is a log message\n",
      "\n"
     ]
    }
   ],
   "source": [
    "#Basic program file handling\n",
    "f=open('demo.txt','r')\n",
    "print(f.read())   #to print the whole file\n",
    "f.close()         # Always close the file at the end of the program"
   ]
  },
  {
   "cell_type": "code",
   "execution_count": 18,
   "id": "da2565ef",
   "metadata": {},
   "outputs": [
    {
     "name": "stdout",
     "output_type": "stream",
     "text": [
      "The m\n"
     ]
    }
   ],
   "source": [
    "# To print only the required amount \n",
    "f=open('demo.txt','r')\n",
    "print(f.read(5))  #the number you give in the amount of letters (characters space included) will be printed\n",
    "f.close()"
   ]
  },
  {
   "cell_type": "code",
   "execution_count": 19,
   "id": "fe6ea843",
   "metadata": {},
   "outputs": [
    {
     "name": "stdout",
     "output_type": "stream",
     "text": [
      "The modules described in this chapter deal with disk files and directories. For example, \n",
      "\n",
      "there are modules for reading the properties of files, manipulating paths in a portable way\n",
      "\n"
     ]
    }
   ],
   "source": [
    "#to print each line in the file one by one (works as a generator)\n",
    "f=open('demo.txt','r')\n",
    "print(f.readline())  \n",
    "print(f.readline()) \n",
    "\n",
    "f.close()  # Always close the file at the end of the program"
   ]
  },
  {
   "cell_type": "code",
   "execution_count": 20,
   "id": "8084da6e",
   "metadata": {},
   "outputs": [
    {
     "name": "stdout",
     "output_type": "stream",
     "text": [
      "['The modules described in this chapter deal with disk files and directories. For example, \\n', 'there are modules for reading the properties of files, manipulating paths in a portable way\\n', ', and creating temporary files. The full list of modules in this chapter is:Log entry created at2025-04-08 10:24:53.868501 : This is a log message\\n']\n"
     ]
    }
   ],
   "source": [
    "f=open('demo.txt','r')\n",
    "print(f.readlines())   # Each line will be printed as string in a list\n",
    "\n",
    "\n",
    "f.close()  # Always close the file at the end of the program"
   ]
  },
  {
   "cell_type": "code",
   "execution_count": 21,
   "id": "30ca89ef",
   "metadata": {},
   "outputs": [],
   "source": [
    "# File Creation \n",
    "\n",
    "# f=open('demo1.txt','r')  #It won't create a file when its in read mode\n",
    "# f.close()\n",
    "\n",
    "f=open('demo1.txt','w')   #This will create a file only in w not r\n",
    "f.close()"
   ]
  },
  {
   "cell_type": "code",
   "execution_count": 22,
   "id": "ac8298d1",
   "metadata": {},
   "outputs": [],
   "source": [
    "#ADD INPUT TO THE FILE\n",
    "\n",
    "f=open('demo1.txt','w')   #This will create a file only in w not r\n",
    "f.write('Hello world\\n')\n",
    "f.write('hello Python\\n')\n",
    "f.close()"
   ]
  },
  {
   "cell_type": "code",
   "execution_count": 23,
   "id": "3ee61b87",
   "metadata": {},
   "outputs": [],
   "source": [
    "#Use write only once if it's used again the existing data will be overwritten   'Hello world 'hello Python' will be overwritten to JAVA and C++\n",
    "f=open('demo1.txt','w')   \n",
    "f.write('JAVA\\n')\n",
    "f.write('C++\\n')\n",
    "f.close()"
   ]
  },
  {
   "cell_type": "code",
   "execution_count": 24,
   "id": "3f42a8a4",
   "metadata": {},
   "outputs": [],
   "source": [
    "#Overwriting again but by using writelines it wont add to new new lines unless u give \\n  send it as list refer output of readlines\n",
    "f=open('demo1.txt','w')   \n",
    "f.writelines(['Hello World\\n', 'Hello Python\\n'])\n",
    "f.close()"
   ]
  },
  {
   "cell_type": "code",
   "execution_count": 25,
   "id": "14218a5e",
   "metadata": {},
   "outputs": [
    {
     "name": "stdout",
     "output_type": "stream",
     "text": [
      "Hello World\n",
      "Hello Python\n",
      "Hello Abc\n",
      "Hello Name\n",
      "\n",
      "50\n"
     ]
    }
   ],
   "source": [
    "#Append add the input to the end this doesn't overwrite the file\n",
    "f=open('demo1.txt','a+')   \n",
    "f.write('Hello Abc\\n')\n",
    "f.write('Hello Name\\n')\n",
    "f.seek(0)  #U have to do this because after adding lines the cursor wil be at the end and to read from start we should do this \n",
    "print(f.read())  #u can read in append only if u do a+ not a\n",
    "print(f.tell())  #tells where the cursor is\n",
    "f.close()"
   ]
  },
  {
   "cell_type": "code",
   "execution_count": 26,
   "id": "fc529ca5",
   "metadata": {},
   "outputs": [
    {
     "ename": "FileExistsError",
     "evalue": "[Errno 17] File exists: 'demo2.txt'",
     "output_type": "error",
     "traceback": [
      "\u001b[31m---------------------------------------------------------------------------\u001b[39m",
      "\u001b[31mFileExistsError\u001b[39m                           Traceback (most recent call last)",
      "\u001b[36mCell\u001b[39m\u001b[36m \u001b[39m\u001b[32mIn[26]\u001b[39m\u001b[32m, line 1\u001b[39m\n\u001b[32m----> \u001b[39m\u001b[32m1\u001b[39m f=\u001b[38;5;28;43mopen\u001b[39;49m\u001b[43m(\u001b[49m\u001b[33;43m'\u001b[39;49m\u001b[33;43mdemo2.txt\u001b[39;49m\u001b[33;43m'\u001b[39;49m\u001b[43m,\u001b[49m\u001b[33;43m'\u001b[39;49m\u001b[33;43mx\u001b[39;49m\u001b[33;43m'\u001b[39;49m\u001b[43m)\u001b[49m  \u001b[38;5;66;03m#'x' creates the file it doesn't exist it will create the file if it does it will throw an error\u001b[39;00m\n\u001b[32m      2\u001b[39m f.close()\n",
      "\u001b[36mFile \u001b[39m\u001b[32m~\\AppData\\Roaming\\Python\\Python312\\site-packages\\IPython\\core\\interactiveshell.py:325\u001b[39m, in \u001b[36m_modified_open\u001b[39m\u001b[34m(file, *args, **kwargs)\u001b[39m\n\u001b[32m    318\u001b[39m \u001b[38;5;28;01mif\u001b[39;00m file \u001b[38;5;129;01min\u001b[39;00m {\u001b[32m0\u001b[39m, \u001b[32m1\u001b[39m, \u001b[32m2\u001b[39m}:\n\u001b[32m    319\u001b[39m     \u001b[38;5;28;01mraise\u001b[39;00m \u001b[38;5;167;01mValueError\u001b[39;00m(\n\u001b[32m    320\u001b[39m         \u001b[33mf\u001b[39m\u001b[33m\"\u001b[39m\u001b[33mIPython won\u001b[39m\u001b[33m'\u001b[39m\u001b[33mt let you open fd=\u001b[39m\u001b[38;5;132;01m{\u001b[39;00mfile\u001b[38;5;132;01m}\u001b[39;00m\u001b[33m by default \u001b[39m\u001b[33m\"\u001b[39m\n\u001b[32m    321\u001b[39m         \u001b[33m\"\u001b[39m\u001b[33mas it is likely to crash IPython. If you know what you are doing, \u001b[39m\u001b[33m\"\u001b[39m\n\u001b[32m    322\u001b[39m         \u001b[33m\"\u001b[39m\u001b[33myou can use builtins\u001b[39m\u001b[33m'\u001b[39m\u001b[33m open.\u001b[39m\u001b[33m\"\u001b[39m\n\u001b[32m    323\u001b[39m     )\n\u001b[32m--> \u001b[39m\u001b[32m325\u001b[39m \u001b[38;5;28;01mreturn\u001b[39;00m \u001b[43mio_open\u001b[49m\u001b[43m(\u001b[49m\u001b[43mfile\u001b[49m\u001b[43m,\u001b[49m\u001b[43m \u001b[49m\u001b[43m*\u001b[49m\u001b[43margs\u001b[49m\u001b[43m,\u001b[49m\u001b[43m \u001b[49m\u001b[43m*\u001b[49m\u001b[43m*\u001b[49m\u001b[43mkwargs\u001b[49m\u001b[43m)\u001b[49m\n",
      "\u001b[31mFileExistsError\u001b[39m: [Errno 17] File exists: 'demo2.txt'"
     ]
    }
   ],
   "source": [
    "f=open('demo2.txt','x')  #'x' creates the file it doesn't exist it will create the file if it does it will throw an error\n",
    "f.close()"
   ]
  },
  {
   "cell_type": "code",
   "execution_count": null,
   "id": "7316b613",
   "metadata": {},
   "outputs": [],
   "source": [
    "f=open('demo3.txt','a') #'a' creates the file it doesn't exist it will create the file so tthe file modes which can create the file are 'a','x','w'\n",
    "f.close()"
   ]
  },
  {
   "cell_type": "code",
   "execution_count": null,
   "id": "69a342b7",
   "metadata": {},
   "outputs": [
    {
     "name": "stdout",
     "output_type": "stream",
     "text": [
      "Hello\n",
      "True\n"
     ]
    }
   ],
   "source": [
    "#latest version so we don't have to use f.close everytime. we have given f.closed to check whether this will automatically close the file which should be true\n",
    "with open('demo3.txt','r') as f:\n",
    "    print(f.read())\n",
    "\n",
    "print(f.closed)\n"
   ]
  },
  {
   "cell_type": "code",
   "execution_count": null,
   "id": "5dbb886c",
   "metadata": {},
   "outputs": [],
   "source": [
    "# Copies all the data from demo3.txt to New.txt\n",
    "\n",
    "with open('demo3.txt','r') as f:\n",
    "    with open('New.txt','w') as w:\n",
    "            w.write(f.read())"
   ]
  },
  {
   "cell_type": "code",
   "execution_count": null,
   "id": "6bfc1e09",
   "metadata": {},
   "outputs": [
    {
     "name": "stdout",
     "output_type": "stream",
     "text": [
      "Log has been written to the log file.\n"
     ]
    }
   ],
   "source": [
    "#Task Create a log file \n",
    "\n",
    "import datetime\n",
    "\n",
    "# Get the current date and time\n",
    "now=datetime.datetime.now()\n",
    "\n",
    "#create a log message \n",
    "log_message = f\"Log entry created at{now} : This is a log message\"\n",
    "\n",
    "\n",
    "#Open the log file in append mode\n",
    "with open(\"logfile.txt\",\"a\") as file:\n",
    "    # Write the log message to the file\n",
    "    file.write(log_message + \"\\n\")\n",
    "\n",
    "# Print message\n",
    "print(\"Log has been written to the log file.\")"
   ]
  },
  {
   "cell_type": "code",
   "execution_count": null,
   "id": "182c6e8f",
   "metadata": {},
   "outputs": [],
   "source": [
    "# This is to store the input in a list and and then adding the list to a file to avoid \\n being added each and everytime.\n",
    "\n",
    "lines = [\"Hello World\",\"Python is great.\",\"File Handling is easy.\"]\n",
    "\n",
    "with open('Example.txt','w') as file:\n",
    "    l=[line + '\\n' for line in lines]\n",
    "    file.writelines(l)"
   ]
  },
  {
   "cell_type": "code",
   "execution_count": null,
   "id": "6142169f",
   "metadata": {},
   "outputs": [
    {
     "name": "stdout",
     "output_type": "stream",
     "text": [
      "{'Name': 'abc', 'School': 'rmk', 'Address': 'Chennai'}\n",
      "<class 'dict'>\n"
     ]
    }
   ],
   "source": [
    "import json \n",
    "\n",
    "#json file contains data in key:value  double quotes are mandatory \n",
    "\n",
    "with open('data.json','r') as j:\n",
    "    d=json.load(j) # Read from a file\n",
    "\n",
    "\n",
    "print(d)\n",
    "print(type(d))"
   ]
  },
  {
   "cell_type": "code",
   "execution_count": null,
   "id": "ff783558",
   "metadata": {},
   "outputs": [
    {
     "name": "stdout",
     "output_type": "stream",
     "text": [
      "{'Name': 'abc', 'School': 'rmk', 'Address': 'Chennai', 'Age': '12', 'Phone': '91284128519'}\n",
      "<class 'dict'>\n",
      "{\"Name\": \"abc\", \"School\": \"rmk\", \"Address\": \"Chennai\", \"Age\": \"12\", \"Phone\": \"91284128519\"}\n",
      "<class 'str'>\n"
     ]
    }
   ],
   "source": [
    "#Create Json object from pyhton object notice the single quotes will be converted to Double quotes (JSON format)\n",
    "\n",
    "d={\n",
    "    'Name' : 'abc',\n",
    "    'School' : 'rmk',\n",
    "    'Address' : 'Chennai',\n",
    "    'Age'    : '12',\n",
    "    'Phone' : '91284128519'\n",
    "}\n",
    "\n",
    "\n",
    "j_obj = json.dumps(d) #this converts python object  into json object (serializing)\n",
    "p_obj = json.loads(j_obj) #this converts json object  into python object \n",
    "\n",
    "print(p_obj)\n",
    "print(type(p_obj))\n",
    "print(j_obj)\n",
    "print(type(j_obj))\n",
    "#below method creates a json file and updates it\n",
    "with open('new1.json','w') as w:\n",
    "    json.dump(d,w,indent=4,sort_keys=True) #sort keys will sort in this alphabetical order  # dump is used towrite into a file # we are adding d as input for the new jsonfile we are creating  indent is to format it in next lines"
   ]
  },
  {
   "cell_type": "code",
   "execution_count": null,
   "id": "f6cd1f3e",
   "metadata": {},
   "outputs": [
    {
     "name": "stdout",
     "output_type": "stream",
     "text": [
      "{'Name': 'abc', 'School': 'rmk', 'Address': 'Chennai', 'Age': '12', 'Phone': '91284128519', 'pincode': 600042}\n",
      "{'Name': 'abc', 'School': 'rmk', 'Address': 'Chennai', 'Age': '12', 'Phone': '91284128519', 'pincode': 600042}\n"
     ]
    }
   ],
   "source": [
    "# Update a json file \n",
    "\n",
    "with open('new1.json','r') as f:\n",
    "    d=json.load(f)     \n",
    "print(d)                           #Display the existing data\n",
    "d['pincode']=600042                #Add the necessary data that needs to be added\n",
    "\n",
    "with open('new1.json','w') as w:\n",
    "    json.dump(d,w,indent=4)         #write the data to update the data\n",
    "\n",
    "with open('new1.json','r') as f:\n",
    "    d=json.load(f)                  #print the updated json file\n",
    "print(d)\n",
    "\n",
    "d['lang']='மலைப்பாம்பு'\n",
    "with open('new1.json','w',encoding='utf-8') as w:   # encoding='utf-8' this is not mandatory few system has it automatically some doesn't\n",
    "    json.dump(d,w,indent=4,ensure_ascii=False)      # ensure_ascii will be true by default should be changed to false to accept input from other languages\n",
    "    "
   ]
  },
  {
   "cell_type": "code",
   "execution_count": null,
   "id": "3be41712",
   "metadata": {},
   "outputs": [],
   "source": [
    "#Create a dictionary to create a nested json file \n",
    " \n",
    "d={\n",
    "    \"employee\" : {\n",
    "        \"id\":102,\n",
    "        \"name\": \"Ravi\",\n",
    "        \"Department\" : \"HR\",\n",
    "        \"skills\" : [\"Communication\",\"Recuritment\"],\n",
    "        \"address\" : {\n",
    "            \"city\" : \"Delhi\",\n",
    "            \"zip\" : \"110011\"\n",
    "        }\n",
    "    }\n",
    "}\n",
    "with open('newemployee.json','w') as f:\n",
    "    json.dump(d,f,indent=4)\n"
   ]
  },
  {
   "cell_type": "code",
   "execution_count": null,
   "id": "8857fc3c",
   "metadata": {},
   "outputs": [
    {
     "name": "stdout",
     "output_type": "stream",
     "text": [
      "['Communication', 'Recuritment']\n",
      "Communication\n",
      "Recuritment\n"
     ]
    }
   ],
   "source": [
    "#Read the employee skills\n",
    "\n",
    "with open('newemployee.json','r') as f:\n",
    "    k=json.load(f)\n",
    "\n",
    "print(k['employee']['skills'])\n",
    "\n",
    "#one by one\n",
    "p=k['employee']['skills']\n",
    "for i in p:\n",
    "    print(i)"
   ]
  },
  {
   "cell_type": "code",
   "execution_count": null,
   "id": "7ba1dc32",
   "metadata": {},
   "outputs": [],
   "source": [
    "#change the zipcode and add a new skill\n",
    " \n",
    "k['employee']['address']['zip']=\"88888\"    \n",
    "\n",
    "with open('newemployee.json','w') as w:\n",
    "    json.dump(k,w,indent=4)\n",
    "\n",
    "\n",
    "\n",
    "q=k['employee']['skills']    \n",
    "\n",
    "q.append(\"Pyhton\")\n",
    "with open('newemployee.json','w') as w:\n",
    "    json.dump(k,w,indent=4)"
   ]
  },
  {
   "cell_type": "code",
   "execution_count": null,
   "id": "78e80ced",
   "metadata": {},
   "outputs": [],
   "source": [
    "# ADD NEW EMPLOYEE \n",
    "\n",
    "import json\n",
    "\n",
    "with open('newemployee.json','r') as f:\n",
    "    k=json.load(f)\n",
    "\n",
    "d1={\n",
    "    \"employee1\" : {\n",
    "        \"id\":103,\n",
    "        \"name\": \"Nani\",\n",
    "        \"Department\" : \"HR\",\n",
    "        \"skills\" : [\"Communication\",\"Recuritment\"],\n",
    "        \"address\" : {\n",
    "            \"city\" : \"Delhi\",\n",
    "            \"zip\" : \"110011\"\n",
    "        }\n",
    "    }\n",
    "}\n",
    "\n",
    "s=[k,d1]\n",
    "\n",
    "\n",
    "with open('newemployee.json','w') as w:\n",
    "    json.dump(s,w,indent=4)\n"
   ]
  },
  {
   "cell_type": "code",
   "execution_count": null,
   "id": "2e5be0cb",
   "metadata": {},
   "outputs": [
    {
     "name": "stdout",
     "output_type": "stream",
     "text": [
      "[['Name', 'Age', 'City'], ['Alicia', '10', 'New York'], ['Bob', '11', 'New York'], ['John', '12', 'London']]\n"
     ]
    }
   ],
   "source": [
    "import csv \n",
    "\n",
    "data = [['Name','Age','City'],['Alicia',10,'New York'],['Bob',11,'New York'],['John',12,'London']]\n",
    "\n",
    "# Create a CSV file and write data into it\n",
    "\n",
    "with open('people.csv','w',newline='') as c:\n",
    "    writer=csv.writer(c)\n",
    "    writer.writerows(data)\n",
    "\n",
    "#CSV FILE \n",
    "\n",
    "# CSV file is read in different ways\n",
    "\n",
    "with open('people.csv','r') as c:\n",
    "    reader=csv.reader(c)\n",
    "    # for row in reader:\n",
    "    #     print(row)\n",
    "    #print(next(reader)) prints like generator\n",
    "    print(list(reader))"
   ]
  },
  {
   "cell_type": "code",
   "execution_count": 34,
   "id": "3465e25d",
   "metadata": {},
   "outputs": [],
   "source": [
    "#appending data to the csv file (same process as write ditto)\n",
    "\n",
    "l=[['Dave',11,'New York'],['Max',12,'London']]\n",
    "with open('people1.csv','a',newline='') as c:\n",
    "    writer = csv.writer(c)\n",
    "    writer.writerows(l)"
   ]
  },
  {
   "cell_type": "code",
   "execution_count": 45,
   "id": "83328140",
   "metadata": {},
   "outputs": [],
   "source": [
    "l1=[]\n",
    "\n",
    "with open('people.csv','r') as c:\n",
    "    reader=csv.reader(c)\n",
    "    for row in reader:\n",
    "        l1.append(row)\n",
    "\n",
    "with open('people1.csv','r') as c:\n",
    "    reader=csv.reader(c)\n",
    "    next(reader)\n",
    "    for row in reader:\n",
    "        l1.append(row)\n",
    "\n",
    "\n",
    "with open('people2.csv','a',newline='') as c:\n",
    "    writer = csv.writer(c)\n",
    "    writer.writerows(l1)\n"
   ]
  },
  {
   "cell_type": "code",
   "execution_count": null,
   "id": "5ad4aff7",
   "metadata": {},
   "outputs": [
    {
     "name": "stdout",
     "output_type": "stream",
     "text": [
      "[{'Name': 'Alicia', 'Age': '10', 'City': 'New York'}, {'Name': 'Bob', 'Age': '11', 'City': 'New York'}, {'Name': 'John', 'Age': '12', 'City': 'London'}]\n"
     ]
    }
   ],
   "source": [
    "# Reading in Dict format -  CSV file\n",
    "\n",
    "with open('people.csv', 'r') as c:\n",
    "    reader = csv.DictReader(c)\n",
    "    print(list(reader))\n",
    "    for row in reader:\n",
    "        print(row['Name', row['Age'], row['City']])\n",
    " "
   ]
  },
  {
   "cell_type": "code",
   "execution_count": 80,
   "id": "d630cd46",
   "metadata": {},
   "outputs": [],
   "source": [
    "#ADD HEADER\n",
    "import csv\n",
    "\n",
    "li = [{'Name': 'Alice', 'Age': '10', 'City':'New York'},\n",
    "      {'Name': 'Bob', 'Age': '11', 'City':'New York'},\n",
    "      {'Name': 'John', 'Age': '12', 'City':'London'},\n",
    "      {'Name': 'Dave', 'Age': '13', 'City':'New York'},\n",
    "      {'Name': 'Max', 'Age': '14', 'City':'London'}\n",
    "    ]\n",
    "\n",
    "with open ('people.csv','w',newline='') as w:\n",
    "    writer=csv.DictWriter(w,fieldnames=['Name','Age','City'])\n",
    "    writer.writeheader()\n",
    "    writer.writerows(li)\n",
    "\n",
    "#add column \n",
    " \n",
    "dept=['cs', 'It', 'ECE', 'BIO', 'CS']\n",
    " \n",
    "for i in range(len(li)):\n",
    " \n",
    "    li[i]['dept']=dept[i]\n",
    " \n",
    " \n",
    " \n",
    "with open('people1.csv', 'w',newline='') as c:\n",
    " \n",
    "    writer=csv.DictWriter(c,fieldnames=['Name', 'Age', 'City', 'dept'])\n",
    " \n",
    "    writer.writeheader()\n",
    " \n",
    "    writer.writerows(li)\n",
    " \n"
   ]
  },
  {
   "cell_type": "code",
   "execution_count": 81,
   "id": "5832bd5d",
   "metadata": {},
   "outputs": [],
   "source": [
    "import yaml\n",
    "\n",
    "#pip install pyaml\n",
    "\n",
    "data={\n",
    "    \"Name\" : \"Desktop\",\n",
    "    \"Version\" : 1.2,\n",
    "    \"Users\" : ['John','Max']\n",
    "}\n",
    "\n",
    "with open('project.yaml','w') as w:\n",
    "    yaml.dump(data,w,sort_keys=False)"
   ]
  },
  {
   "cell_type": "code",
   "execution_count": null,
   "id": "f2d17382",
   "metadata": {},
   "outputs": [
    {
     "name": "stdout",
     "output_type": "stream",
     "text": [
      "{'a': 'b', 'd': 'c', 'e': 'f'}\n"
     ]
    }
   ],
   "source": [
    "#Nani yaml\n",
    "import yaml as y\n",
    "d={\n",
    "     \"a\":\"b\",\n",
    "     \"d\":\"c\",\n",
    "     \"e\":\"f\"\n",
    " }\n",
    "with open('demo.yaml','w') as w:\n",
    "    y.dump(d,w)\n",
    "with open('demo.yaml','r') as r:\n",
    "    da=y.safe_load(r)\n",
    "    print(d)\n",
    " "
   ]
  },
  {
   "cell_type": "code",
   "execution_count": null,
   "id": "c6c4a3ce",
   "metadata": {},
   "outputs": [],
   "source": [
    "#yaml to json\n",
    "\n",
    "import yaml as y\n",
    "import json as j\n",
    "d={\n",
    "     \"a\":\"b\",\n",
    "     \"d\":\"c\",\n",
    "     \"e\":\"f\"\n",
    " }\n",
    "with open('demo.yaml','w') as w:\n",
    "    y.dump(d,w)\n",
    "with open('demo.yaml','r') as r:\n",
    "    da=y.safe_load(r)\n",
    "    print(d)\n",
    "with open('data.json', 'w') as js:\n",
    "    j.dump(da, js, indent=4)\n",
    " \n",
    "import yaml as y\n",
    "import json as j\n",
    "with open('damo.json','r') as r:\n",
    "    d=j.load(r)\n",
    "with open('da.yaml','w') as w:\n",
    "    p=y.dump(d,w)\n",
    " "
   ]
  },
  {
   "cell_type": "code",
   "execution_count": null,
   "id": "793922b5",
   "metadata": {},
   "outputs": [],
   "source": [
    "#json to yaml \n",
    "import yaml as y\n",
    "import json as j\n",
    "with open('damo.json','r') as r:\n",
    "    d=j.load(r)\n",
    "with open('da.yaml','w') as w:\n",
    "    p=y.dump(d,w)\n",
    " \n",
    "import yaml as y\n",
    "import json as j\n",
    "d={\n",
    "     \"a\":\"b\",\n",
    "     \"d\":\"c\",\n",
    "     \"e\":\"f\"\n",
    " }\n",
    "with open('demo.yaml','w') as w:\n",
    "    y.dump(d,w)\n",
    "with open('demo.yaml','r') as r:\n",
    "    da=y.safe_load(r)\n",
    "    print(d)\n",
    "with open('data.json', 'w') as js:\n",
    "    j.dump(da, js, indent=4)\n"
   ]
  },
  {
   "cell_type": "code",
   "execution_count": null,
   "id": "73752969",
   "metadata": {},
   "outputs": [],
   "source": []
  }
 ],
 "metadata": {
  "kernelspec": {
   "display_name": "Python 3",
   "language": "python",
   "name": "python3"
  },
  "language_info": {
   "codemirror_mode": {
    "name": "ipython",
    "version": 3
   },
   "file_extension": ".py",
   "mimetype": "text/x-python",
   "name": "python",
   "nbconvert_exporter": "python",
   "pygments_lexer": "ipython3",
   "version": "3.12.3"
  }
 },
 "nbformat": 4,
 "nbformat_minor": 5
}
