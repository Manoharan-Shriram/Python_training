{
 "cells": [
  {
   "cell_type": "markdown",
   "id": "77af1cd8",
   "metadata": {},
   "source": [
    "CLASS AND OBJECTS TASKS"
   ]
  },
  {
   "cell_type": "code",
   "execution_count": null,
   "id": "fd154d6d",
   "metadata": {},
   "outputs": [
    {
     "name": "stdout",
     "output_type": "stream",
     "text": [
      "O\n",
      "Fail\n",
      "\n",
      "***************************************\n",
      "\n",
      " Roll_No 11  - Mano has scored  93 marks. \n",
      " Roll_No 12  - Mahi has scored  55 marks. \n"
     ]
    }
   ],
   "source": [
    "# 1.Define a Student Class\n",
    "# Task:\n",
    "# Create a Student class with attributes: name, roll_no, and marks. \n",
    "# Create two student objects and print their details.\n",
    "\n",
    "# 2.Calculate Average\n",
    "# Task:\n",
    "# Add a method get_grade() that returns the grade based on marks:\n",
    "\n",
    "\n",
    "\n",
    "class Student():\n",
    "    def __init__(self,name,roll_no,marks):\n",
    "        self.name = name\n",
    "        self.roll_no = roll_no\n",
    "        self.marks = marks\n",
    "\n",
    "    def details(self):\n",
    "        return(f' Roll_No {self.roll_no}  - {self.name} has scored  {self.marks} marks. ')\n",
    "    \n",
    "    def grade(self):\n",
    "        if self.marks >= 90:\n",
    "            return 'O  GRADE'\n",
    "        elif self.marks >= 80:\n",
    "            return 'A GRADE'\n",
    "        elif self.marks >= 70:\n",
    "            return 'B GRADE'\n",
    "        elif self.marks >= 60:\n",
    "            return 'C GRADE'\n",
    "        else:\n",
    "            return 'Fail'\n",
    "\n",
    "\n",
    "\n",
    "a=Student('Mano',11,93)\n",
    "b=Student('Mahi',12,55)\n",
    "\n",
    "print(a.grade())\n",
    "print(b.grade())\n",
    "\n",
    "print(\"\")\n",
    "print(\"***************************************\")\n",
    "print(\"\")\n",
    "\n",
    "print(a.details())\n",
    "print(b.details())\n"
   ]
  },
  {
   "cell_type": "code",
   "execution_count": 38,
   "id": "c885b991",
   "metadata": {},
   "outputs": [
    {
     "data": {
      "text/plain": [
       "'Dell'"
      ]
     },
     "execution_count": 38,
     "metadata": {},
     "output_type": "execute_result"
    }
   ],
   "source": [
    "\n",
    "# 3.Class Method vs Instance Method\n",
    "# Task:\n",
    "# Create a class Laptop with:\n",
    "\n",
    "# class variable brand\n",
    "\n",
    "# instance variable price\n",
    "# Add a class method to change the brand for all objects.\n",
    "\n",
    "\n",
    "class Laptop():\n",
    "\n",
    "    Brand = \"apple\"\n",
    "\n",
    "    def __init__(self,price):\n",
    "        self.price = price\n",
    "\n",
    "    @classmethod\n",
    "    def chprice(cls,Brand):\n",
    "        cls.Brand = Brand\n",
    "        return Brand\n",
    "\n",
    "\n",
    "a= Laptop(50)\n",
    "\n",
    "Laptop.chprice = \"Dell\"\n",
    "\n",
    "a.chprice\n",
    "\n",
    "\n",
    "        \n",
    "\n",
    "\n"
   ]
  },
  {
   "cell_type": "code",
   "execution_count": 42,
   "id": "8e540d8c",
   "metadata": {},
   "outputs": [
    {
     "name": "stdout",
     "output_type": "stream",
     "text": [
      "False\n"
     ]
    }
   ],
   "source": [
    "# 4. Use Dunder/magic method to compare two objects.\n",
    "\n",
    "\n",
    "class Cmpre():\n",
    "    def __init__(self,a,b):\n",
    "        self.a = a\n",
    "        self.b = b\n",
    "\n",
    "    def __eq__(self, value):\n",
    "        self.value = a\n",
    "        self.other = b\n",
    "\n",
    "\n",
    "c = Cmpre(5,7)\n",
    "\n",
    "\n",
    "print(c.a == c.b)"
   ]
  },
  {
   "cell_type": "code",
   "execution_count": 44,
   "id": "940de2e5",
   "metadata": {},
   "outputs": [
    {
     "name": "stdout",
     "output_type": "stream",
     "text": [
      "Hiii\n"
     ]
    }
   ],
   "source": [
    "# 5. Create a class with static method.\n",
    "\n",
    "class basic():\n",
    "\n",
    "    @staticmethod\n",
    "    def hi():\n",
    "        print(\"Hiii\")\n",
    "\n",
    "\n",
    "a = basic()\n",
    "\n",
    "a.hi()"
   ]
  },
  {
   "cell_type": "markdown",
   "id": "a7fde559",
   "metadata": {},
   "source": [
    "INHERITANCE TASKS\n"
   ]
  },
  {
   "cell_type": "code",
   "execution_count": 50,
   "id": "1161040d",
   "metadata": {},
   "outputs": [
    {
     "name": "stdout",
     "output_type": "stream",
     "text": [
      "I'm a vehicle\n",
      "I'm driving a car\n"
     ]
    }
   ],
   "source": [
    "# 1. Basic Inheritance\n",
    "# Create a Vehicle class with a method start().\n",
    "\n",
    "# Inherit it in a Car class and add a drive() method.\n",
    "\n",
    "\n",
    "class Vehicle():\n",
    "\n",
    "    def start(self):\n",
    "        print(\"I'm a vehicle\")\n",
    "\n",
    "class Car(Vehicle):\n",
    "\n",
    "    def drive(self):\n",
    "        print(\"I'm driving a car\")\n",
    "\n",
    "\n",
    "a=Car()\n",
    "\n",
    "a.start()\n",
    "a.drive()\n"
   ]
  },
  {
   "cell_type": "code",
   "execution_count": 52,
   "id": "e5d2bf4d",
   "metadata": {},
   "outputs": [
    {
     "name": "stdout",
     "output_type": "stream",
     "text": [
      "12345 - Mano is 22 years old \n"
     ]
    }
   ],
   "source": [
    "# 2. Constructor Overriding\n",
    "# Create a Person class with __init__ taking name and age.\n",
    "\n",
    "# Create an Employee class that inherits Person and also takes employee ID.\n",
    "\n",
    "class Person():\n",
    "\n",
    "    def __init__(self,name,age):\n",
    "        self.name = name\n",
    "        self.age = age\n",
    "\n",
    "\n",
    "\n",
    "class Employee(Person):\n",
    "\n",
    "    def __init__(self, name, age,employee_ID):\n",
    "        super().__init__(name, age)\n",
    "        self.employee_ID = employee_ID\n",
    "    \n",
    "    def display(self):\n",
    "        print(f'{self.employee_ID} - {self.name} is {self.age} years old ')\n",
    "\n",
    "\n",
    "a=Employee('Mano',22,12345)\n",
    "\n",
    "a.display()"
   ]
  },
  {
   "cell_type": "code",
   "execution_count": null,
   "id": "8f4ea986",
   "metadata": {},
   "outputs": [],
   "source": []
  }
 ],
 "metadata": {
  "kernelspec": {
   "display_name": "Python 3",
   "language": "python",
   "name": "python3"
  },
  "language_info": {
   "codemirror_mode": {
    "name": "ipython",
    "version": 3
   },
   "file_extension": ".py",
   "mimetype": "text/x-python",
   "name": "python",
   "nbconvert_exporter": "python",
   "pygments_lexer": "ipython3",
   "version": "3.12.3"
  }
 },
 "nbformat": 4,
 "nbformat_minor": 5
}
