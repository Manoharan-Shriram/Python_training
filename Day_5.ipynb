{
 "cells": [
  {
   "cell_type": "code",
   "execution_count": 6,
   "metadata": {},
   "outputs": [
    {
     "name": "stdout",
     "output_type": "stream",
     "text": [
      "red\n"
     ]
    }
   ],
   "source": [
    "#scope inside a nested func\n",
    "\n",
    "def data():\n",
    "    color='green'\n",
    "    def fly():\n",
    "        nonlocal color\n",
    "        color = \"red\"\n",
    "        print(color)\n",
    "    fly()\n",
    "\n",
    "data()"
   ]
  },
  {
   "cell_type": "code",
   "execution_count": 11,
   "metadata": {},
   "outputs": [
    {
     "name": "stdout",
     "output_type": "stream",
     "text": [
      "2\n",
      "red\n",
      "Dave\n"
     ]
    }
   ],
   "source": [
    "name=\"dave\"\n",
    "count=1\n",
    "\n",
    "def another():\n",
    "    color = \"blue\"\n",
    "    global count\n",
    "    count += 1\n",
    "    print(count)\n",
    "\n",
    "    def greeting(name):\n",
    "        nonlocal color\n",
    "        color = 'red'\n",
    "        print(color)\n",
    "        print(name)\n",
    "\n",
    "    greeting(\"Dave\")\n",
    "\n",
    "another()"
   ]
  },
  {
   "cell_type": "code",
   "execution_count": 12,
   "metadata": {},
   "outputs": [
    {
     "name": "stdout",
     "output_type": "stream",
     "text": [
      "1\n",
      "2\n",
      "3\n",
      "4\n"
     ]
    }
   ],
   "source": [
    "#Iterables\n",
    "\n",
    "#list\n",
    "#string\n",
    "#dictionary\n",
    "\n",
    "a=[1,2,3,4]\n",
    "\n",
    "for i in a:\n",
    "    print(i)"
   ]
  },
  {
   "cell_type": "code",
   "execution_count": null,
   "metadata": {},
   "outputs": [
    {
     "data": {
      "text/plain": [
       "1"
      ]
     },
     "execution_count": 13,
     "metadata": {},
     "output_type": "execute_result"
    }
   ],
   "source": [
    "#iter\n",
    "\n",
    "mylst=[1,2,3,4]\n",
    "\n",
    "k=iter(mylst)\n",
    "\n",
    "print(next(k))"
   ]
  },
  {
   "cell_type": "code",
   "execution_count": 14,
   "metadata": {},
   "outputs": [
    {
     "name": "stdout",
     "output_type": "stream",
     "text": [
      "h e l l o\n"
     ]
    }
   ],
   "source": [
    "#unpack with (*)\n",
    "\n",
    "my_list='hello'\n",
    "\n",
    "my_it=iter(my_list)\n",
    "\n",
    "print(*my_it)"
   ]
  },
  {
   "cell_type": "code",
   "execution_count": 20,
   "metadata": {},
   "outputs": [
    {
     "name": "stdout",
     "output_type": "stream",
     "text": [
      "['h', 'e', 'l', 'l', 'o']\n"
     ]
    }
   ],
   "source": [
    "#unpack with list\n",
    "\n",
    "my_list = \"hello\"\n",
    "my_it = iter(my_list)\n",
    "\n",
    "print(list(my_list))"
   ]
  },
  {
   "cell_type": "code",
   "execution_count": 22,
   "metadata": {},
   "outputs": [
    {
     "name": "stdout",
     "output_type": "stream",
     "text": [
      "0 a\n",
      "1 b\n",
      "2 c\n"
     ]
    }
   ],
   "source": [
    "#enumerate\n",
    "\n",
    "ls=['a','b','c']\n",
    "\n",
    "for i,v in enumerate(ls):\n",
    "    print(i,v)\n"
   ]
  },
  {
   "cell_type": "code",
   "execution_count": 23,
   "metadata": {},
   "outputs": [
    {
     "data": {
      "text/plain": [
       "(0, 'a')"
      ]
     },
     "execution_count": 23,
     "metadata": {},
     "output_type": "execute_result"
    }
   ],
   "source": [
    "#next enumerate\n",
    "\n",
    "next(enumerate(ls))"
   ]
  },
  {
   "cell_type": "code",
   "execution_count": null,
   "metadata": {},
   "outputs": [
    {
     "name": "stdout",
     "output_type": "stream",
     "text": [
      "<generator object p at 0x0000019D59C2E820>\n"
     ]
    }
   ],
   "source": [
    "#generators\n",
    "\n",
    "#generators are used to create iterators and they are memory efficient\n",
    "\n",
    "def p():\n",
    "    yield 1\n",
    "    yield 2\n",
    "    yield 3\n",
    "u=p()\n",
    "print(u)"
   ]
  },
  {
   "cell_type": "code",
   "execution_count": 27,
   "metadata": {},
   "outputs": [
    {
     "name": "stdout",
     "output_type": "stream",
     "text": [
      "0\n",
      "1\n",
      "2\n",
      "3\n"
     ]
    }
   ],
   "source": [
    "#generators\n",
    "def infinite():\n",
    "    num = 0\n",
    "    while True:\n",
    "        yield num\n",
    "        num+=1\n",
    "\n",
    "gen=infinite()\n",
    "print(next(gen))\n",
    "print(next(gen))\n",
    "print(next(gen))\n",
    "print(next(gen))\n"
   ]
  },
  {
   "cell_type": "code",
   "execution_count": 29,
   "metadata": {},
   "outputs": [
    {
     "name": "stdout",
     "output_type": "stream",
     "text": [
      "0\n",
      "1\n"
     ]
    }
   ],
   "source": [
    "#gen without yield\n",
    "\n",
    "gen= (x for x in range  (10**9))\n",
    "print(next(gen))\n",
    "print(next(gen))"
   ]
  },
  {
   "cell_type": "code",
   "execution_count": 42,
   "metadata": {},
   "outputs": [
    {
     "name": "stdout",
     "output_type": "stream",
     "text": [
      "1\n",
      "2\n",
      "3\n",
      "4\n",
      "5\n"
     ]
    }
   ],
   "source": [
    "#tasks 1\n",
    "\n",
    "def t1(y):\n",
    "    n=1\n",
    "    while n<=k:\n",
    "        yield n\n",
    "        n+=1\n",
    "\n",
    "k=5\n",
    "p=t1(k)\n",
    "for i in range(k):\n",
    "    print(next(p))"
   ]
  },
  {
   "cell_type": "code",
   "execution_count": 53,
   "metadata": {},
   "outputs": [
    {
     "name": "stdout",
     "output_type": "stream",
     "text": [
      "0\n",
      "1\n",
      "1\n",
      "2\n",
      "3\n",
      "5\n",
      "8\n",
      "13\n"
     ]
    }
   ],
   "source": [
    "#task2\n",
    "\n",
    "def t2(k):\n",
    "    x,y=0,1\n",
    "    while k>0:\n",
    "        yield x\n",
    "        x,y= y,x+y\n",
    "        k-=1\n",
    "        \n",
    "\n",
    "k=8\n",
    "p=t2(k)\n",
    "\n",
    "for i in range(k):\n",
    "    print(next(p))"
   ]
  },
  {
   "cell_type": "code",
   "execution_count": 64,
   "metadata": {},
   "outputs": [
    {
     "name": "stdout",
     "output_type": "stream",
     "text": [
      "2\n",
      "4\n",
      "6\n"
     ]
    }
   ],
   "source": [
    "#task 3\n",
    "\n",
    "def t3 (p):\n",
    "    for i in p:\n",
    "        if i%2==0:\n",
    "            yield i\n",
    "          \n",
    "            \n",
    "    \n",
    "p=[1,2,3,4,5,6]\n",
    "\n",
    "for i in t3(p):\n",
    "    print(i)\n",
    "\n"
   ]
  },
  {
   "cell_type": "code",
   "execution_count": 65,
   "metadata": {},
   "outputs": [
    {
     "name": "stdout",
     "output_type": "stream",
     "text": [
      "1\n",
      "3\n",
      "5\n"
     ]
    }
   ],
   "source": [
    "#task 4\n",
    "\n",
    "def t3 (p):\n",
    "    for i in p:\n",
    "        if i%2!=0:\n",
    "            yield i\n",
    "          \n",
    "            \n",
    "    \n",
    "p=[1,2,3,4,5,6]\n",
    "\n",
    "for i in t3(p):\n",
    "    print(i)"
   ]
  },
  {
   "cell_type": "code",
   "execution_count": 66,
   "metadata": {},
   "outputs": [
    {
     "name": "stdout",
     "output_type": "stream",
     "text": [
      "before hi\n",
      "Hello\n",
      "after hi\n"
     ]
    }
   ],
   "source": [
    "#decorators\n",
    "\n",
    "def deco(func):\n",
    "    def wrapper():\n",
    "        print(\"before hi\")\n",
    "        func()\n",
    "        print(\"after hi\")\n",
    "    return wrapper\n",
    "\n",
    "@deco\n",
    "def hi():\n",
    "    print(\"Hello\")\n",
    "\n",
    "hi()"
   ]
  },
  {
   "cell_type": "code",
   "execution_count": 71,
   "metadata": {},
   "outputs": [
    {
     "name": "stdout",
     "output_type": "stream",
     "text": [
      "wrapper executed this before  display\n"
     ]
    }
   ],
   "source": [
    "#decorators\n",
    "\n",
    "def decorator_function (original_function):\n",
    "    def wrapper_function():\n",
    "        print(\"wrapper executed this before \",original_function.__name__)\n",
    "\n",
    "    return wrapper_function\n",
    "    \n",
    "def display():\n",
    "    print(\"display function ran\")\n",
    "\n",
    "decorated_display=decorator_function(display)\n",
    "decorated_display()"
   ]
  },
  {
   "cell_type": "code",
   "execution_count": 82,
   "metadata": {},
   "outputs": [
    {
     "name": "stdout",
     "output_type": "stream",
     "text": [
      "wrapper executed this before  display\n"
     ]
    },
    {
     "data": {
      "text/plain": [
       "<function __main__.display()>"
      ]
     },
     "execution_count": 82,
     "metadata": {},
     "output_type": "execute_result"
    }
   ],
   "source": [
    "#decorators\n",
    "\n",
    "def decorator_function (original_function):\n",
    "    def wrapper_function():\n",
    "        print(\"wrapper executed this before \",original_function.__name__)\n",
    "        return original_function\n",
    "    return wrapper_function\n",
    "\n",
    "\n",
    "@decorator_function    \n",
    "def display():\n",
    "    print(\"display function ran\")\n",
    "\n",
    "\n",
    "display()"
   ]
  },
  {
   "cell_type": "code",
   "execution_count": null,
   "metadata": {},
   "outputs": [],
   "source": [
    "def k(f):\n",
    "    def m():\n",
    "        print(\"warpper excecuter\",f.__name__)\n",
    "        return f()\n",
    "    return m\n",
    "     \n",
    "@k\n",
    "def hii():\n",
    "    print('display function ran')\n",
    "   \n",
    "hii()\n",
    " "
   ]
  },
  {
   "cell_type": "code",
   "execution_count": 89,
   "metadata": {},
   "outputs": [
    {
     "name": "stdout",
     "output_type": "stream",
     "text": [
      "Function executed\n",
      "Function executed\n",
      "Function executed\n",
      "The function 'example_function was called 3 times.\n"
     ]
    }
   ],
   "source": [
    "def count_calls(func):\n",
    "    def wrapper(*args,**kwargs):\n",
    "        wrapper.count+= 1\n",
    "        return func (*args , **kwargs)\n",
    "    wrapper.count = 0\n",
    "    return wrapper\n",
    "    \n",
    "\n",
    "@count_calls\n",
    "def sample_function():\n",
    "    \"\"\"This is a example function\"\"\"\n",
    "    print(\"Function executed\")\n",
    "\n",
    "sample_function()\n",
    "sample_function()\n",
    "sample_function()  \n",
    "\n",
    "print(f\"The function 'example_function was called {sample_function.count} times.\")"
   ]
  },
  {
   "cell_type": "code",
   "execution_count": 92,
   "metadata": {},
   "outputs": [
    {
     "name": "stdout",
     "output_type": "stream",
     "text": [
      "HELLO WORLD\n",
      "123\n"
     ]
    }
   ],
   "source": [
    "def up_dec(func):\n",
    "    def wrapper(*args,**kwargs):\n",
    "        result=func(*args,**kwargs)\n",
    "        if isinstance(result,str):\n",
    "            return result.upper()\n",
    "        return result\n",
    "    return wrapper\n",
    "\n",
    "@up_dec\n",
    "def get_string():\n",
    "    return \"hello world\"\n",
    "\n",
    "@up_dec\n",
    "def get_number():\n",
    "    return 123\n",
    "\n",
    "\n",
    "print(get_string())\n",
    "print(get_number())\n"
   ]
  },
  {
   "cell_type": "code",
   "execution_count": 95,
   "metadata": {},
   "outputs": [
    {
     "name": "stdout",
     "output_type": "stream",
     "text": [
      "400\n"
     ]
    }
   ],
   "source": [
    "#code for testing decorator chaining\n",
    "\n",
    "def decor1(func):\n",
    "    def inner():\n",
    "        x=func()\n",
    "        return x*x\n",
    "    return inner\n",
    "\n",
    "def decor(func):\n",
    "    def inner():\n",
    "        x=func()\n",
    "        return x*2\n",
    "    return inner\n",
    "\n",
    "@decor1\n",
    "@decor\n",
    "\n",
    "def num():\n",
    "    return 10\n",
    "\n",
    "print(num())"
   ]
  },
  {
   "cell_type": "code",
   "execution_count": 96,
   "metadata": {},
   "outputs": [
    {
     "name": "stdout",
     "output_type": "stream",
     "text": [
      "25\n",
      "HELLO\n"
     ]
    }
   ],
   "source": [
    "def hello(type):\n",
    "    def d(f):\n",
    "        def w(a):\n",
    "            if not isinstance(a,type):\n",
    "                raise TypeError(f'Expected {type},got {type(a)}')\n",
    "            return f(a)\n",
    "        return w\n",
    "    return d\n",
    " \n",
    "@hello(int)\n",
    "def sq(n):\n",
    "    return n*n\n",
    " \n",
    "@hello(str)\n",
    "def sh(text):\n",
    "    return text.upper()\n",
    " \n",
    "print(sq(5))\n",
    "print(sh(\"Hello\"))"
   ]
  },
  {
   "cell_type": "code",
   "execution_count": 98,
   "metadata": {},
   "outputs": [
    {
     "data": {
      "text/plain": [
       "8"
      ]
     },
     "execution_count": 98,
     "metadata": {},
     "output_type": "execute_result"
    }
   ],
   "source": [
    "#lambda / Anonymos function / single  line function / function with no name\n",
    "\n",
    "a = lambda a,b : a*b\n",
    "\n",
    "a(2,4)"
   ]
  },
  {
   "cell_type": "code",
   "execution_count": 100,
   "metadata": {},
   "outputs": [
    {
     "data": {
      "text/plain": [
       "True"
      ]
     },
     "execution_count": 100,
     "metadata": {},
     "output_type": "execute_result"
    }
   ],
   "source": [
    "b=lambda x : x%2==0\n",
    "\n",
    "b(24)"
   ]
  },
  {
   "cell_type": "code",
   "execution_count": 101,
   "metadata": {},
   "outputs": [
    {
     "data": {
      "text/plain": [
       "'olleH'"
      ]
     },
     "execution_count": 101,
     "metadata": {},
     "output_type": "execute_result"
    }
   ],
   "source": [
    "#reverse a string using lambda\n",
    "b=lambda x: x[::-1]\n",
    "\n",
    "c=\"Hello\"\n",
    "b(c)"
   ]
  },
  {
   "cell_type": "code",
   "execution_count": 103,
   "metadata": {},
   "outputs": [
    {
     "data": {
      "text/plain": [
       "9"
      ]
     },
     "execution_count": 103,
     "metadata": {},
     "output_type": "execute_result"
    }
   ],
   "source": [
    "\n",
    "#Maximum of two numbers\n",
    "\n",
    "\n",
    "b=lambda x,y : x if x>y else y\n",
    "\n",
    "b(7,9)"
   ]
  },
  {
   "cell_type": "code",
   "execution_count": 108,
   "metadata": {},
   "outputs": [
    {
     "data": {
      "text/plain": [
       "9"
      ]
     },
     "execution_count": 108,
     "metadata": {},
     "output_type": "execute_result"
    }
   ],
   "source": [
    "#Maximum of three numbers\n",
    "\n",
    "\n",
    "b=lambda x,y,z  : x if (x>y) and (x>z)  else y if (y>x) and (y>z)  else z\n",
    "b(7,9,6)"
   ]
  },
  {
   "cell_type": "code",
   "execution_count": 109,
   "metadata": {},
   "outputs": [
    {
     "data": {
      "text/plain": [
       "'odd'"
      ]
     },
     "execution_count": 109,
     "metadata": {},
     "output_type": "execute_result"
    }
   ],
   "source": [
    "#Using lamda even or odd \n",
    "\n",
    "b=lambda x : 'even' if x%2==0  else \"odd\"\n",
    "\n",
    "b(9)"
   ]
  },
  {
   "cell_type": "code",
   "execution_count": 115,
   "metadata": {},
   "outputs": [
    {
     "data": {
      "text/plain": [
       "['a', 'ab', 'abc', 'aaaa']"
      ]
     },
     "execution_count": 115,
     "metadata": {},
     "output_type": "execute_result"
    }
   ],
   "source": [
    "b=['abc','ab','a','aaaa']\n",
    "# output=['a','ab','abc','aaaa']\n",
    "\n",
    "#b=[3,2,3,4,2,1,5,6,8,9]\n",
    "sorted(b,key=lambda b:len(b))\n"
   ]
  }
 ],
 "metadata": {
  "kernelspec": {
   "display_name": "Python 3",
   "language": "python",
   "name": "python3"
  },
  "language_info": {
   "codemirror_mode": {
    "name": "ipython",
    "version": 3
   },
   "file_extension": ".py",
   "mimetype": "text/x-python",
   "name": "python",
   "nbconvert_exporter": "python",
   "pygments_lexer": "ipython3",
   "version": "3.12.3"
  }
 },
 "nbformat": 4,
 "nbformat_minor": 2
}
