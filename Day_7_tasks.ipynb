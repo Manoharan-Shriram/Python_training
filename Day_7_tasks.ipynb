{
 "cells": [
  {
   "cell_type": "code",
   "execution_count": 1,
   "id": "cce7a729",
   "metadata": {},
   "outputs": [
    {
     "ename": "AttributeError",
     "evalue": "'_io.TextIOWrapper' object has no attribute 'dump'",
     "output_type": "error",
     "traceback": [
      "\u001b[31m---------------------------------------------------------------------------\u001b[39m",
      "\u001b[31mAttributeError\u001b[39m                            Traceback (most recent call last)",
      "\u001b[36mCell\u001b[39m\u001b[36m \u001b[39m\u001b[32mIn[1]\u001b[39m\u001b[32m, line 15\u001b[39m\n\u001b[32m     12\u001b[39m l=[[\u001b[33m'\u001b[39m\u001b[33mPython is awesome\u001b[39m\u001b[33m'\u001b[39m],[\u001b[33m'\u001b[39m\u001b[33mFile handling is powerful\u001b[39m\u001b[33m'\u001b[39m],[\u001b[33m'\u001b[39m\u001b[33mPractise makes perfect\u001b[39m\u001b[33m'\u001b[39m]]\n\u001b[32m     14\u001b[39m \u001b[38;5;28;01mwith\u001b[39;00m \u001b[38;5;28mopen\u001b[39m(\u001b[33m'\u001b[39m\u001b[33mdata4.txt\u001b[39m\u001b[33m'\u001b[39m,\u001b[33m'\u001b[39m\u001b[33mw\u001b[39m\u001b[33m'\u001b[39m) \u001b[38;5;28;01mas\u001b[39;00m w:\n\u001b[32m---> \u001b[39m\u001b[32m15\u001b[39m     \u001b[43mw\u001b[49m\u001b[43m.\u001b[49m\u001b[43mdump\u001b[49m(l,w,indent=\u001b[32m4\u001b[39m)\n",
      "\u001b[31mAttributeError\u001b[39m: '_io.TextIOWrapper' object has no attribute 'dump'"
     ]
    }
   ],
   "source": [
    "# 1. Write and Read a File\n",
    "# Task:\n",
    "# Create a text file called data.txt. Write the following lines into it:\n",
    "\n",
    "# Python is awesome\n",
    "# File handling is powerful\n",
    "# Practice makes perfect\n",
    "\n",
    "# Then read and print the content of the file.\n",
    "\n",
    "\n",
    "l=[['Python is awesome'],['File handling is powerful'],['Practise makes perfect']]\n",
    "\n",
    "with open('data4.txt','w') as w:\n",
    "    w.dump(l,w,indent=4)\n"
   ]
  }
 ],
 "metadata": {
  "kernelspec": {
   "display_name": "Python 3",
   "language": "python",
   "name": "python3"
  },
  "language_info": {
   "codemirror_mode": {
    "name": "ipython",
    "version": 3
   },
   "file_extension": ".py",
   "mimetype": "text/x-python",
   "name": "python",
   "nbconvert_exporter": "python",
   "pygments_lexer": "ipython3",
   "version": "3.12.3"
  }
 },
 "nbformat": 4,
 "nbformat_minor": 5
}
