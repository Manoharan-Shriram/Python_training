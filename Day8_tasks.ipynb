{
 "cells": [
  {
   "cell_type": "code",
   "execution_count": null,
   "id": "36623595",
   "metadata": {},
   "outputs": [],
   "source": [
    "\n",
    "# Basic Tasks\n",
    "# 1. Divide Two Numbers\n",
    "#  - Input two numbers.\n",
    "#  - Handle ZeroDivisionError and ValueError.\n",
    "# 2. File Reader\n",
    "#  - Try opening a file.\n",
    "#  - Handle FileNotFoundError and PermissionError.\n",
    "# 3. List Index Access\n",
    "#  - Access a list index given by the user.\n",
    "#  - Handle IndexError and ValueError.\n",
    "# 4. String to Integer Conversion\n",
    "#  - Convert a user-given string to an integer.\n",
    "#  - Handle ValueError.\n",
    "# 5. Open a Nonexistent File\n",
    "#  - Read a file that may or may not exist.\n",
    "#  - Handle FileError."
   ]
  },
  {
   "cell_type": "code",
   "execution_count": null,
   "id": "b0a4b333",
   "metadata": {},
   "outputs": [
    {
     "name": "stdout",
     "output_type": "stream",
     "text": [
      "ZeroDivisionError or ValueError exists Reason: invalid literal for int() with base 10: 'y'\n"
     ]
    }
   ],
   "source": [
    "# 1. Divide Two Numbers\n",
    "#  - Input two numbers.\n",
    "#  - Handle ZeroDivisionError and ValueError.\n",
    "\n",
    "try:\n",
    "    k=int(input(\"Enter the divisor: \"))\n",
    "    l=int(input(\"Enter the Divisor\"))\n",
    "    k/l\n",
    "except (ZeroDivisionError,ValueError) as e :\n",
    "    print(\"ZeroDivisionError or ValueError exists Reason:\",e)\n",
    "\n"
   ]
  },
  {
   "cell_type": "code",
   "execution_count": null,
   "id": "b7789a50",
   "metadata": {},
   "outputs": [
    {
     "name": "stdout",
     "output_type": "stream",
     "text": [
      "Error: [Errno 2] No such file or directory: 'Mahi.txt'\n"
     ]
    }
   ],
   "source": [
    "# 2. File Reader\n",
    "#  - Try opening a file.\n",
    "#  - Handle FileNotFoundError and PermissionError.\n",
    "\n",
    "try:\n",
    "    f=open('Mahi.txt','r')\n",
    "    f.close()\n",
    "except FileNotFoundError as e:\n",
    "    print(\"Error:\",e)\n"
   ]
  },
  {
   "cell_type": "code",
   "execution_count": 15,
   "id": "c26d8409",
   "metadata": {},
   "outputs": [
    {
     "name": "stdout",
     "output_type": "stream",
     "text": [
      "1\n",
      "2\n",
      "3\n",
      "4\n",
      "Error:  list index out of range exists\n"
     ]
    }
   ],
   "source": [
    "# 3. List Index Access\n",
    "#  - Access a list index given by the user.\n",
    "#  - Handle IndexError and ValueError.\n",
    "\n",
    "\n",
    "\n",
    "\n",
    "\n",
    "try:\n",
    "    k=int(input(\"Enter the number of elements: \"))\n",
    "    l=[]\n",
    "    for i in range(k):\n",
    "        c=int(input(f\"Enter the element\"))\n",
    "        l.append(c)\n",
    "        p=len(l)\n",
    "\n",
    "    for i in range(p+1):\n",
    "        print(l[i])\n",
    "\n",
    "except(IndexError,ValueError) as e:\n",
    "    print(\"Error: \",e , \"exists\")   \n"
   ]
  },
  {
   "cell_type": "code",
   "execution_count": 12,
   "id": "e1cf1789",
   "metadata": {},
   "outputs": [
    {
     "name": "stdout",
     "output_type": "stream",
     "text": [
      "Error:  invalid literal for int() with base 10: '123h'\n"
     ]
    }
   ],
   "source": [
    "# 4. String to Integer Conversion\n",
    "#  - Convert a user-given string to an integer.\n",
    "#  - Handle ValueError.\n",
    "\n",
    "try:\n",
    "    a=input(\"Enter the number only int if not exception will be thrown\")\n",
    "    b=(int(a))\n",
    "except ValueError as e:\n",
    "    print(\"Error: \",e)\n",
    "else:\n",
    "    print(b)\n"
   ]
  },
  {
   "cell_type": "code",
   "execution_count": 14,
   "id": "b1f6a0c3",
   "metadata": {},
   "outputs": [
    {
     "name": "stdout",
     "output_type": "stream",
     "text": [
      "Error [Errno 17] File exists: 'demo3.txt'\n"
     ]
    }
   ],
   "source": [
    "# 4. String to Integer Conversion\n",
    "#  - Convert a user-given string to an integer.\n",
    "#  - Handle ValueError.\n",
    "\n",
    "\n",
    "try:\n",
    "    f=open('demo3.txt','x')\n",
    "    f.close()\n",
    "except FileExistsError as e:\n",
    "    print(\"Error\",e)\n"
   ]
  },
  {
   "cell_type": "code",
   "execution_count": null,
   "id": "f9c45988",
   "metadata": {},
   "outputs": [],
   "source": [
    "# Intermediate Tasks\n",
    "# 6. Nested Try-Except\n",
    "#  - Perform multiple operations (file, division, list access).\n",
    "#  - Use nested try-except.\n",
    "# 7. Use of Else and Finally\n",
    "#  - Create a program that uses try-except-else-finally together.\n",
    "# 8. Raise Custom Exceptions\n",
    "# Python Exception Handling Tasks\n",
    "#  - Create a custom exception for 'Negative Age'.\n",
    "#  - Raise it if the user enters a negative number.\n",
    "# 9. Form Validation\n",
    "#  - Validate a form with name, age, and email.\n",
    "#  - Raise custom exceptions for invalid inputs.\n",
    "# 10. User Registration System\n",
    "#  - Ask for username and password.\n",
    "#  - Raise exception for weak password or duplicate username.\n"
   ]
  },
  {
   "cell_type": "code",
   "execution_count": 18,
   "id": "06595e3f",
   "metadata": {},
   "outputs": [
    {
     "name": "stdout",
     "output_type": "stream",
     "text": [
      "Error:  invalid literal for int() with base 10: 'w' exists\n"
     ]
    }
   ],
   "source": [
    "# 6. Nested Try-Except\n",
    "#  - Perform multiple operations (file, division, list access).\n",
    "#  - Use nested try-except.\n",
    "\n",
    "try:\n",
    "    f=open('Day8.py','w')\n",
    "    \n",
    "    \n",
    "    try:\n",
    "        k=int(input(\"Enter the number of elements: \"))\n",
    "        l=[]\n",
    "        for i in range(k):\n",
    "            c=int(input(f\"Enter the element\"))\n",
    "            l.append(c)\n",
    "            p=len(l)\n",
    "        try:\n",
    "\n",
    "            for i in range(p):\n",
    "                print(l[i]//l[i])\n",
    "        except ZeroDivisionError as e:\n",
    "            print(\"Error \",e)\n",
    "\n",
    "    except(IndexError,ValueError) as e:\n",
    "        print(\"Error: \",e , \"exists\") \n",
    "\n",
    "\n",
    "\n",
    "\n",
    "except FileNotFoundError as e:\n",
    "    print(\"Error:\",e)\n",
    "\n",
    "finally:\n",
    "    f.close()\n"
   ]
  },
  {
   "cell_type": "code",
   "execution_count": 19,
   "id": "1eaccdaf",
   "metadata": {},
   "outputs": [
    {
     "name": "stdout",
     "output_type": "stream",
     "text": [
      "try\n",
      "else\n",
      "Finally\n"
     ]
    }
   ],
   "source": [
    "# 7. Use of Else and Finally\n",
    "#  - Create a program that uses try-except-else-finally together.\n",
    "\n",
    "try:\n",
    "    print(\"try\")\n",
    "except Exception as e:\n",
    "    print(\"Except\")\n",
    "else:\n",
    "    print(\"else\")\n",
    "finally:\n",
    "    print(\"Finally\")\n"
   ]
  },
  {
   "cell_type": "code",
   "execution_count": 23,
   "id": "28d3e5cb",
   "metadata": {},
   "outputs": [
    {
     "name": "stdout",
     "output_type": "stream",
     "text": [
      "Caught Age Error: Negative age\n"
     ]
    }
   ],
   "source": [
    "# 8. Raise Custom Exceptions\n",
    "# Python Exception Handling Tasks\n",
    "#  - Create a custom exception for 'Negative Age'.\n",
    "#  - Raise it if the user enters a negative number.\n",
    "\n",
    "\n",
    "class AgeError(Exception):\n",
    "    pass\n",
    "\n",
    "def Age_check(number):\n",
    "    if number < 0:\n",
    "        raise AgeError(\"Negative age\")\n",
    "    else:\n",
    "        print(f'Age: {number}')\n",
    "\n",
    "try:\n",
    "    num=int(input(\"Enter your age:\"))\n",
    "    Age_check(num)\n",
    "except AgeError as e:\n",
    "    print(\"Caught Age Error:\",e)\n",
    "\n"
   ]
  },
  {
   "cell_type": "code",
   "execution_count": 31,
   "id": "68ab2d07",
   "metadata": {},
   "outputs": [
    {
     "name": "stdout",
     "output_type": "stream",
     "text": [
      "Error:  Not Adult\n",
      "[]\n"
     ]
    }
   ],
   "source": [
    "# 9. Form Validation\n",
    "#  - Validate a form with name, age, and email.\n",
    "#  - Raise custom exceptions for invalid inputs.\n",
    "\n",
    "class AgeError(Exception):\n",
    "    pass\n",
    "\n",
    "def Age_check(number):\n",
    "    if number < 18 :\n",
    "        raise AgeError(\"Not Adult\")\n",
    "\n",
    "\n",
    "\n",
    "\n",
    "try:\n",
    "    l=[]\n",
    "    a=int(input(\"Number of elements to be entered:\"))\n",
    "    for i in range(a):\n",
    "        k=[]\n",
    "        c=input(\"Enter your name: \")\n",
    "        k.append(c)\n",
    "\n",
    "        d=int(input(\"Enter your age:\"))\n",
    "        Age_check(d)\n",
    "        k.append(d)\n",
    "        e=input(\"Enter your email\")\n",
    "        k.append(e)\n",
    "        l.append(k)\n",
    "except(IndexError,ValueError,AgeError)as e:\n",
    "    print(\"Error: \",e)\n",
    "\n",
    "\n",
    "finally:\n",
    "    print(l)\n",
    "\n",
    "    \n"
   ]
  },
  {
   "cell_type": "code",
   "execution_count": 41,
   "id": "683aeeea",
   "metadata": {},
   "outputs": [
    {
     "name": "stdout",
     "output_type": "stream",
     "text": [
      "Invalid password\n"
     ]
    }
   ],
   "source": [
    "# 10. User Registration System\n",
    "#  - Ask for username and password.\n",
    "#  - Raise exception for weak password or duplicate username.\n",
    "\n",
    "try:\n",
    "    \n",
    "    l=['MANO','NANI','MAHIMA','VISHAL']\n",
    "    username=input(\"Enter your username:\")\n",
    "    b=username.upper()\n",
    "    password=input(\"Enter your password: (8 characters)\")\n",
    "    for i in l:\n",
    "        c=0\n",
    "        if b in l:\n",
    "            c+=1\n",
    "        else:\n",
    "            raise ZeroDivisionError\n",
    "    if len(password) == 8:\n",
    "        c+=1\n",
    "    else:\n",
    "        raise ArithmeticError\n",
    "    if c == 2:\n",
    "        raise ValueError\n",
    "    \n",
    "except(ZeroDivisionError) as e:\n",
    "    print(\"Invalid username\")\n",
    "\n",
    "except(ArithmeticError) as e:\n",
    "    print(\"Invalid password\")\n",
    "\n",
    "\n",
    "except(ValueError) as v:\n",
    "    print(\"Login Successful\")\n"
   ]
  },
  {
   "cell_type": "code",
   "execution_count": null,
   "id": "55b3ba76",
   "metadata": {},
   "outputs": [],
   "source": [
    "# Advanced/Project-Level Tasks\n",
    "# 11. ATM Simulator\n",
    "#  - Simulate checking balance, withdrawing, and depositing money.\n",
    "#  - Handle invalid input and insufficient funds.\n",
    "# 12. Student Mark Entry\n",
    "#  - Enter marks for a student.\n",
    "#  - Raise exception if marks are not between 0 and 100.\n",
    "# 13. Product Billing System\n",
    "#  - Ask user to enter product quantities.\n",
    "#  - Raise exception if quantity is negative.\n",
    "# 14. Log Errors to a File\n",
    "#  - Use try-except blocks and log exceptions into a .log file.\n",
    "# 15. Retry Input Until Correct\n",
    "#  - Keep asking user for correct input using a while loop and try-except."
   ]
  },
  {
   "cell_type": "code",
   "execution_count": null,
   "id": "fdc4cc0f",
   "metadata": {},
   "outputs": [],
   "source": [
    "# 11. ATM Simulator\n",
    "#  - Simulate checking balance, withdrawing, and depositing money.\n",
    "#  - Handle invalid input and insufficient funds.\n",
    "\n",
    "class Invalidinputs(Exception): pass\n",
    "class insufficientfunds(Exception): pass\n",
    " \n",
    "def ATMSim(a):\n",
    "        try:\n",
    "            if a in l:\n",
    "                print('1.CHECK BALANCE\\n 2.WITHDRAW MONEY\\n 3.DEPOSIT MONEY')\n",
    "                c=int(input(\"ENTER YOUR THE NUMBER FOR WHICH PROCESS YOU NEED\"))\n",
    "                if c<=0 or c>3:\n",
    "                    raise Invalidinputs(f'Your iput for the process is {c} which is invalid')\n",
    "                else:\n",
    "                    if c==1:\n",
    "                        print('BALNCE IS',l[a]['balance'])\n",
    "                    if c==2:\n",
    "                        d=int(input('Enter the withdraw amount'))\n",
    "                        try:\n",
    "                            if c-d<0: raise insufficientfunds('YOU Are broke bro')\n",
    "                        except insufficientfunds as e:\n",
    "                            print(e)\n",
    "                        else:\n",
    "                            l[a]['balance']=c-d\n",
    "                            print(f\"The {c} a,ount is succeasfully withdrawn\")\n",
    "                    if c==3:\n",
    "                        f=int(input('ENTER THE DEPSOIT AMOUNT'))\n",
    "                        try:\n",
    "                            if f<0 and f>=21000:\n",
    "                                raise insufficientfunds(f'this {d} amount cannot deposited at one time')\n",
    "                        except insufficientfunds as e:\n",
    "                            print(e)\n",
    "                        else:\n",
    "                            l[a]['balance']=c+d\n",
    "        except Invalidinputs as e:\n",
    "            print(e)\n",
    "        else:\n",
    "            print('You enter wrong pin')\n",
    " \n",
    " \n",
    " \n",
    " \n",
    "l={\n",
    "    7451 : {\n",
    "        'balance': 1000\n",
    "    },\n",
    "    5678 : {\n",
    "        'balance': 2000\n",
    "    },\n",
    "    9009 : {\n",
    "        'balance':0\n",
    "    }\n",
    "}\n",
    "ATMSim(int(input('ENTER YOUR ATM PIN')))\n"
   ]
  },
  {
   "cell_type": "code",
   "execution_count": null,
   "id": "a07c3aa4",
   "metadata": {},
   "outputs": [
    {
     "name": "stdout",
     "output_type": "stream",
     "text": [
      "Invalid Score\n",
      "[]\n"
     ]
    }
   ],
   "source": [
    "# 12. Student Mark Entry\n",
    "#  - Enter marks for a student.\n",
    "#  - Raise exception if marks are not between 0 and 100.\n",
    "\n",
    "try:\n",
    "    l=[]\n",
    "    n=int(input(\"Enter the number of subjects:\"))\n",
    "    for i in range(n):\n",
    "        c=int(input(\"Enter the marks scored: \"))\n",
    "        if c > 100 or c < 0:\n",
    "            raise ZeroDivisionError \n",
    "        else:\n",
    "            l.append(c)\n",
    "except ZeroDivisionError :\n",
    "    print(\"Invalid Score\")\n",
    "\n",
    "else:\n",
    "    print(l)"
   ]
  },
  {
   "cell_type": "code",
   "execution_count": 48,
   "id": "a410f460",
   "metadata": {},
   "outputs": [
    {
     "name": "stdout",
     "output_type": "stream",
     "text": [
      "Product Quantities: 5\n"
     ]
    }
   ],
   "source": [
    "# 13. Product Billing System\n",
    "#  - Ask user to enter product quantities.\n",
    "#  - Raise exception if quantity is negative.\n",
    "\n",
    "\n",
    "try:\n",
    "    n=int(input(\"Enter the number of product quantities\"))\n",
    "    if n < 0:\n",
    "        raise ZeroDivisionError\n",
    "except ZeroDivisionError:\n",
    "    print(\"Negative input not possible\")\n",
    "else:\n",
    "    print(\"Product Quantities:\",n)"
   ]
  },
  {
   "cell_type": "code",
   "execution_count": 65,
   "id": "e01a9ee6",
   "metadata": {},
   "outputs": [],
   "source": [
    "# 14. Log Errors to a File\n",
    "#  - Use try-except blocks and log exceptions into a .log file.\n",
    "\n",
    "import logging \n",
    "logging.basicConfig(filename='error.log',level=l.ERROR)\n",
    "try:\n",
    "    \n",
    "    for i in b:\n",
    "        n=[10,9,8,7,6,5]\n",
    "        for i in n:\n",
    "            if i>1:\n",
    "                raise ZeroDivisionError\n",
    "            else:\n",
    "                pass\n",
    "            \n",
    "except ZeroDivisionError as e:\n",
    "       logging.exception(e)\n",
    "\n"
   ]
  },
  {
   "cell_type": "code",
   "execution_count": 70,
   "id": "ffbfe7bd",
   "metadata": {},
   "outputs": [
    {
     "name": "stdout",
     "output_type": "stream",
     "text": [
      "invalid literal for int() with base 10: 'j'\n",
      "you entered:8\n"
     ]
    }
   ],
   "source": [
    "# 15. Retry Input Until Correct\n",
    "#  - Keep asking user for correct input using a while loop and try-except.\n",
    "\n",
    "while True:\n",
    "    try:\n",
    "        n=int(input())\n",
    "        print(f'you entered:{n}')\n",
    "        break\n",
    "    except ValueError as e:\n",
    "        print(e)"
   ]
  },
  {
   "cell_type": "code",
   "execution_count": 72,
   "id": "353a4a49",
   "metadata": {},
   "outputs": [
    {
     "name": "stdout",
     "output_type": "stream",
     "text": [
      "1 hours 0 minutes 1 seconds\n"
     ]
    }
   ],
   "source": [
    "#Enter a number which will be taken as seconds and this should be covnerted into HH:MM:SS \n",
    "\n",
    "#Nani\n",
    "\n",
    "def t(a):\n",
    "    h=a//3600\n",
    "    ho=a%3600\n",
    "    m=ho//60\n",
    "    mi=ho%60\n",
    "    print(f'{h} hours {m} minutes {mi} seconds')\n",
    "t(3601)"
   ]
  }
 ],
 "metadata": {
  "kernelspec": {
   "display_name": "Python 3",
   "language": "python",
   "name": "python3"
  },
  "language_info": {
   "codemirror_mode": {
    "name": "ipython",
    "version": 3
   },
   "file_extension": ".py",
   "mimetype": "text/x-python",
   "name": "python",
   "nbconvert_exporter": "python",
   "pygments_lexer": "ipython3",
   "version": "3.12.3"
  }
 },
 "nbformat": 4,
 "nbformat_minor": 5
}
