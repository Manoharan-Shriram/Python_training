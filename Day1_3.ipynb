{
 "cells": [
  {
   "cell_type": "code",
   "execution_count": 8,
   "metadata": {},
   "outputs": [
    {
     "name": "stdout",
     "output_type": "stream",
     "text": [
      "Manohar\n"
     ]
    }
   ],
   "source": [
    "print(\"Manohar\")"
   ]
  },
  {
   "cell_type": "code",
   "execution_count": 9,
   "metadata": {},
   "outputs": [
    {
     "name": "stdout",
     "output_type": "stream",
     "text": [
      "Hello Manohar\n"
     ]
    }
   ],
   "source": [
    "print(\"Hello Manohar\")"
   ]
  },
  {
   "cell_type": "code",
   "execution_count": 10,
   "metadata": {},
   "outputs": [
    {
     "name": "stdout",
     "output_type": "stream",
     "text": [
      "Mahi\n",
      "Mahi\n",
      "Mahi\n",
      "Mahi\n",
      "Mahi\n"
     ]
    }
   ],
   "source": [
    "i=0\n",
    "while(i<5) : \n",
    "    print(\"Mahi\")\n",
    "    i=i+1"
   ]
  },
  {
   "cell_type": "code",
   "execution_count": 11,
   "metadata": {},
   "outputs": [
    {
     "name": "stdout",
     "output_type": "stream",
     "text": [
      "4\n"
     ]
    }
   ],
   "source": [
    "a=input()\n",
    "\n",
    "print (a)"
   ]
  },
  {
   "cell_type": "code",
   "execution_count": 12,
   "metadata": {},
   "outputs": [
    {
     "name": "stdout",
     "output_type": "stream",
     "text": [
      "(1, 2, 3, 4, 5)\n"
     ]
    }
   ],
   "source": [
    "a=1,2,3,4,5 #pack\n",
    "\n",
    "print(a)"
   ]
  },
  {
   "cell_type": "code",
   "execution_count": 13,
   "metadata": {},
   "outputs": [
    {
     "name": "stdout",
     "output_type": "stream",
     "text": [
      "abc\n",
      "10\n",
      "12.5\n",
      "<class 'float'>\n",
      "12\n",
      "<class 'int'>\n",
      "1\n",
      "<class 'int'>\n"
     ]
    }
   ],
   "source": [
    "data = 'abc',10,12.5\n",
    "\n",
    "name,age,wei = data\n",
    "print(name)\n",
    "print(age)\n",
    "print(wei)\n",
    "\n",
    "print(type(wei))\n",
    "print (int (wei))\n",
    "print(type(age))\n",
    "\n",
    "month = input()\n",
    "roll_No = int(input())\n",
    "print (month)\n",
    "print(type(roll_No))"
   ]
  },
  {
   "cell_type": "code",
   "execution_count": 14,
   "metadata": {},
   "outputs": [
    {
     "name": "stdout",
     "output_type": "stream",
     "text": [
      "1\n"
     ]
    }
   ],
   "source": [
    "a=input()\n",
    "print(a)"
   ]
  },
  {
   "cell_type": "code",
   "execution_count": 15,
   "metadata": {},
   "outputs": [
    {
     "name": "stdout",
     "output_type": "stream",
     "text": [
      "1 2 3 4 5\n",
      "1/2/3/4/5\n",
      "Hello\n",
      "World\n",
      "Hello!world\n"
     ]
    }
   ],
   "source": [
    "print(1,2,3,4,5)\n",
    "print(1,2,3,4,5 , sep=\"/\")\n",
    "print(\"Hello\")\n",
    "print(\"World\")\n",
    "\n",
    "print(\"Hello\",end=\"!\")\n",
    "print(\"world\")"
   ]
  },
  {
   "cell_type": "code",
   "execution_count": 16,
   "metadata": {},
   "outputs": [
    {
     "name": "stdout",
     "output_type": "stream",
     "text": [
      "5.0\n",
      "5\n"
     ]
    }
   ],
   "source": [
    "a=10\n",
    "b=2\n",
    "print(a/b)\n",
    "print(a//b)"
   ]
  },
  {
   "cell_type": "code",
   "execution_count": 17,
   "metadata": {},
   "outputs": [
    {
     "name": "stdout",
     "output_type": "stream",
     "text": [
      "1010101010\n"
     ]
    }
   ],
   "source": [
    "a =\"10\" * 5\n",
    "print(a)"
   ]
  },
  {
   "cell_type": "code",
   "execution_count": 18,
   "metadata": {},
   "outputs": [
    {
     "name": "stdout",
     "output_type": "stream",
     "text": [
      "False\n",
      "False\n",
      "True\n"
     ]
    }
   ],
   "source": [
    "a=4\n",
    "b=10\n",
    "print(a>5)\n",
    "print(a==5)\n",
    "print(b>a)"
   ]
  },
  {
   "cell_type": "code",
   "execution_count": 19,
   "metadata": {},
   "outputs": [
    {
     "name": "stdout",
     "output_type": "stream",
     "text": [
      "abc is studying 8th\n"
     ]
    }
   ],
   "source": [
    "name = 'abc'\n",
    "std = \"8th\"\n",
    "\n",
    "print(name ,\"is studying\" , std)"
   ]
  },
  {
   "cell_type": "code",
   "execution_count": 20,
   "metadata": {},
   "outputs": [
    {
     "name": "stdout",
     "output_type": "stream",
     "text": [
      " abc is studying 8th\n"
     ]
    }
   ],
   "source": [
    "print ( f' {name} is studying {std}')"
   ]
  },
  {
   "cell_type": "code",
   "execution_count": 21,
   "metadata": {},
   "outputs": [
    {
     "name": "stdout",
     "output_type": "stream",
     "text": [
      "20\n"
     ]
    }
   ],
   "source": [
    "#Manohar\n",
    "\n",
    "#formula \n",
    "l=5\n",
    "b=4\n",
    "rec=l*b\n",
    "print(rec)\n",
    "\n"
   ]
  },
  {
   "cell_type": "code",
   "execution_count": 22,
   "metadata": {},
   "outputs": [
    {
     "name": "stdout",
     "output_type": "stream",
     "text": [
      "3 kilometre is equal to 3000 metres\n"
     ]
    }
   ],
   "source": [
    "#conversion\n",
    "a=int(input())\n",
    "b=a*1000\n",
    "print(f'{a} kilometre is equal to {b} metres')\n"
   ]
  },
  {
   "cell_type": "code",
   "execution_count": 23,
   "metadata": {},
   "outputs": [
    {
     "name": "stdout",
     "output_type": "stream",
     "text": [
      "300 is the simple Interest Amount\n"
     ]
    }
   ],
   "source": [
    "#SI\n",
    "\n",
    "P=1000\n",
    "R=10\n",
    "T=3\n",
    "\n",
    "SI=(P*R*T)//100\n",
    "\n",
    "print(f'{SI} is the simple Interest Amount')\n"
   ]
  },
  {
   "cell_type": "code",
   "execution_count": 24,
   "metadata": {},
   "outputs": [
    {
     "name": "stdout",
     "output_type": "stream",
     "text": [
      "1331\n"
     ]
    }
   ],
   "source": [
    "#Compound \n",
    "\n",
    "P=1000\n",
    "R=10\n",
    "T=3\n",
    "\n",
    "A=P*(1+ (R/100))**T\n",
    "\n",
    "print(int(A))"
   ]
  },
  {
   "cell_type": "code",
   "execution_count": 25,
   "metadata": {},
   "outputs": [
    {
     "name": "stdout",
     "output_type": "stream",
     "text": [
      "28.259999999999998\n"
     ]
    }
   ],
   "source": [
    "#mahima\n",
    "\n",
    "#formula\n",
    "import math\n",
    "# pi=math.pi()\n",
    "pi=3.14\n",
    "r=3\n",
    "\n",
    "\n",
    "a=pi*r*r\n",
    "print(a)\n"
   ]
  },
  {
   "cell_type": "code",
   "execution_count": 26,
   "metadata": {},
   "outputs": [
    {
     "data": {
      "text/plain": [
       "65"
      ]
     },
     "execution_count": 26,
     "metadata": {},
     "output_type": "execute_result"
    }
   ],
   "source": [
    "ord('A')"
   ]
  },
  {
   "cell_type": "code",
   "execution_count": 27,
   "metadata": {},
   "outputs": [
    {
     "data": {
      "text/plain": [
       "'0b1000001'"
      ]
     },
     "execution_count": 27,
     "metadata": {},
     "output_type": "execute_result"
    }
   ],
   "source": [
    "bin(65)"
   ]
  },
  {
   "cell_type": "code",
   "execution_count": 28,
   "metadata": {},
   "outputs": [
    {
     "data": {
      "text/plain": [
       "'A'"
      ]
     },
     "execution_count": 28,
     "metadata": {},
     "output_type": "execute_result"
    }
   ],
   "source": [
    "chr(65)"
   ]
  },
  {
   "cell_type": "code",
   "execution_count": 29,
   "metadata": {},
   "outputs": [
    {
     "name": "stdout",
     "output_type": "stream",
     "text": [
      "7\n",
      "Manohar\n"
     ]
    }
   ],
   "source": [
    "a=\"manohar\"\n",
    "\n",
    "b=len(a)\n",
    "\n",
    "print(b)\n",
    "\n",
    "\n",
    "print(a.capitalize())\n",
    "\n"
   ]
  },
  {
   "cell_type": "code",
   "execution_count": 30,
   "metadata": {},
   "outputs": [
    {
     "name": "stdout",
     "output_type": "stream",
     "text": [
      "Yes\n"
     ]
    }
   ],
   "source": [
    "a=[1,2,3,4,5,6]\n",
    "\n",
    "if 4 in a :\n",
    "    print(\"Yes\")"
   ]
  },
  {
   "cell_type": "code",
   "execution_count": 31,
   "metadata": {},
   "outputs": [
    {
     "name": "stdout",
     "output_type": "stream",
     "text": [
      "30\n"
     ]
    }
   ],
   "source": [
    "a=30\n",
    "b=20\n",
    "\n",
    "c=a|b\n",
    "print(c)\n"
   ]
  },
  {
   "cell_type": "code",
   "execution_count": 32,
   "metadata": {},
   "outputs": [
    {
     "name": "stdout",
     "output_type": "stream",
     "text": [
      "0b11110\n",
      "0b10100\n",
      "0b11110\n"
     ]
    }
   ],
   "source": [
    "print(bin(a))\n",
    "print(bin(b))\n",
    "print(bin(c))"
   ]
  },
  {
   "cell_type": "code",
   "execution_count": 33,
   "metadata": {},
   "outputs": [
    {
     "name": "stdout",
     "output_type": "stream",
     "text": [
      "<class 'complex'>\n"
     ]
    }
   ],
   "source": [
    "a=3+4j\n",
    "print(type(a))"
   ]
  },
  {
   "cell_type": "code",
   "execution_count": 34,
   "metadata": {},
   "outputs": [
    {
     "name": "stdout",
     "output_type": "stream",
     "text": [
      "-13\n"
     ]
    }
   ],
   "source": [
    "a=12\n",
    "\n",
    "print(~a)"
   ]
  },
  {
   "cell_type": "code",
   "execution_count": 35,
   "metadata": {},
   "outputs": [
    {
     "name": "stdout",
     "output_type": "stream",
     "text": [
      "123498765\n"
     ]
    }
   ],
   "source": [
    "a='123456789'\n",
    "b=a[0:4]\n",
    "c=a[4:9]\n",
    "d=c[::-1]\n",
    "print(b+d)"
   ]
  },
  {
   "cell_type": "code",
   "execution_count": 36,
   "metadata": {},
   "outputs": [
    {
     "name": "stdout",
     "output_type": "stream",
     "text": [
      "123498765\n"
     ]
    }
   ],
   "source": [
    "a='123456789'\n",
    "b=a[8:3:-1]\n",
    "c=a[0:4]\n",
    "print(c+b)"
   ]
  },
  {
   "cell_type": "code",
   "execution_count": 37,
   "metadata": {},
   "outputs": [
    {
     "name": "stdout",
     "output_type": "stream",
     "text": [
      "a is not positve number\n"
     ]
    }
   ],
   "source": [
    "#if loops\n",
    "\n",
    "a=-5\n",
    "\n",
    "if(a>0):\n",
    "    if(a==5):\n",
    "        print(\"a is positive and equal to 5\")\n",
    "    elif(a!=5):\n",
    "        print(\"a is positive but not equal to 5\")\n",
    "else:\n",
    "    print(\"a is not positve number\")"
   ]
  },
  {
   "cell_type": "code",
   "execution_count": 38,
   "metadata": {},
   "outputs": [
    {
     "name": "stdout",
     "output_type": "stream",
     "text": [
      "Child\n"
     ]
    }
   ],
   "source": [
    "x=int (input())\n",
    "\n",
    "if(x<18):\n",
    "    print(\"Child\")\n",
    "elif(x>18 and a<50):\n",
    "    print(\"Adult\")\n",
    "else :\n",
    "    print(\"old\")"
   ]
  },
  {
   "cell_type": "code",
   "execution_count": 39,
   "metadata": {},
   "outputs": [
    {
     "name": "stdout",
     "output_type": "stream",
     "text": [
      "a is the greatest number\n"
     ]
    }
   ],
   "source": [
    "a = 55\n",
    "b= 10\n",
    "c = 1\n",
    "\n",
    "if(a > b and a>c):\n",
    "    print(\"a is the greatest number\")\n",
    "elif(b>a and b>c):\n",
    "    print(\"b is the greatest number\")\n",
    "else:\n",
    "    print(\"c is the greatest number\")\n",
    "\n"
   ]
  },
  {
   "cell_type": "code",
   "execution_count": 40,
   "metadata": {},
   "outputs": [
    {
     "name": "stdout",
     "output_type": "stream",
     "text": [
      "c is the greatest number\n"
     ]
    }
   ],
   "source": [
    "a=1\n",
    "b=2\n",
    "c=3\n",
    "\n",
    "if(a>=0 and b>=0 and c>=0):\n",
    "    if(a > b and a>c):\n",
    "        print(\"a is the greatest number\")\n",
    "    elif(b>a and b>c):\n",
    "        print(\"b is the greatest number\")\n",
    "    else:\n",
    "        print(\"c is the greatest number\")\n",
    "else:\n",
    "    print(\"Invalid input\")\n"
   ]
  },
  {
   "cell_type": "code",
   "execution_count": 41,
   "metadata": {},
   "outputs": [
    {
     "name": "stdout",
     "output_type": "stream",
     "text": [
      "SImple Intrest is the better choice\n"
     ]
    }
   ],
   "source": [
    "P=1000\n",
    "R=10\n",
    "T=3\n",
    "\n",
    "\n",
    "CI=P*(1+ (R/100))**T\n",
    "\n",
    "SI=(P*R*T)//100\n",
    "\n",
    "if(SI>CI):\n",
    "    print(\"Compound Intrest is the better choice\")\n",
    "elif(CI>SI):\n",
    "    print(\"SImple Intrest is the better choice\")\n",
    "else:\n",
    "    print(\"Both same\")"
   ]
  },
  {
   "cell_type": "code",
   "execution_count": 42,
   "metadata": {},
   "outputs": [
    {
     "name": "stdout",
     "output_type": "stream",
     "text": [
      "It is not a vowel\n"
     ]
    }
   ],
   "source": [
    "a=input()\n",
    "a=a.lower()\n",
    "if(a=='a' or a=='e' or a=='i' or a=='o' or a=='u'):\n",
    "    print(\"It is a vowel\")\n",
    "else:\n",
    "    print(\"It is not a vowel\")"
   ]
  },
  {
   "cell_type": "code",
   "execution_count": 43,
   "metadata": {},
   "outputs": [
    {
     "name": "stdout",
     "output_type": "stream",
     "text": [
      "VOWEL\n"
     ]
    }
   ],
   "source": [
    "ch=input()\n",
    "str=\"aeiouAEIOU\"\n",
    "\n",
    "if(ch in str):\n",
    "    print(\"VOWEL\")\n",
    "else:\n",
    "    print(\"NOT A VOWEL\")"
   ]
  },
  {
   "cell_type": "code",
   "execution_count": 44,
   "metadata": {},
   "outputs": [
    {
     "name": "stdout",
     "output_type": "stream",
     "text": [
      "Invalid input\n"
     ]
    }
   ],
   "source": [
    "marks=input()\n",
    "\n",
    "if(marks.isdigit()):\n",
    "    marks=int(marks)\n",
    "    if(marks>90) :\n",
    "        print(\"A\")\n",
    "    elif(marks<90 and marks>80):\n",
    "        print( \"B\")\n",
    "    elif(marks<80 and marks>70):\n",
    "        print(\"C\")\n",
    "    elif(marks<70 and marks>60):\n",
    "        print(\"D\")\n",
    "    else:\n",
    "        print(\"E\")\n",
    "else:\n",
    "    print(\"Invalid input\")"
   ]
  },
  {
   "cell_type": "code",
   "execution_count": 45,
   "metadata": {},
   "outputs": [
    {
     "name": "stdout",
     "output_type": "stream",
     "text": [
      "hello\n",
      "hello\n",
      "hello\n",
      "hello\n",
      "hello\n"
     ]
    }
   ],
   "source": [
    "#for loop\n",
    "\n",
    "for _ in range(5):\n",
    "    print(\"hello\")"
   ]
  },
  {
   "cell_type": "code",
   "execution_count": 46,
   "metadata": {},
   "outputs": [
    {
     "ename": "ValueError",
     "evalue": "invalid literal for int() with base 10: ''",
     "output_type": "error",
     "traceback": [
      "\u001b[31m---------------------------------------------------------------------------\u001b[39m",
      "\u001b[31mValueError\u001b[39m                                Traceback (most recent call last)",
      "\u001b[36mCell\u001b[39m\u001b[36m \u001b[39m\u001b[32mIn[46]\u001b[39m\u001b[32m, line 1\u001b[39m\n\u001b[32m----> \u001b[39m\u001b[32m1\u001b[39m num= \u001b[38;5;28;43mint\u001b[39;49m\u001b[43m(\u001b[49m\u001b[38;5;28;43minput\u001b[39;49m\u001b[43m(\u001b[49m\u001b[43m)\u001b[49m\u001b[43m)\u001b[49m\n\u001b[32m      3\u001b[39m \u001b[38;5;28;01mfor\u001b[39;00m i \u001b[38;5;129;01min\u001b[39;00m \u001b[38;5;28mrange\u001b[39m(\u001b[32m1\u001b[39m,\u001b[32m11\u001b[39m):\n\u001b[32m      4\u001b[39m     \u001b[38;5;28mprint\u001b[39m(\u001b[33mf\u001b[39m\u001b[33m'\u001b[39m\u001b[38;5;132;01m{\u001b[39;00mnum\u001b[38;5;132;01m}\u001b[39;00m\u001b[33m * \u001b[39m\u001b[38;5;132;01m{\u001b[39;00mi\u001b[38;5;132;01m}\u001b[39;00m\u001b[33m = \u001b[39m\u001b[38;5;132;01m{\u001b[39;00mi*num\u001b[38;5;132;01m}\u001b[39;00m\u001b[33m'\u001b[39m)\n",
      "\u001b[31mValueError\u001b[39m: invalid literal for int() with base 10: ''"
     ]
    }
   ],
   "source": [
    "num= int(input())\n",
    "\n",
    "for i in range(1,11):\n",
    "    print(f'{num} * {i} = {i*num}')"
   ]
  },
  {
   "cell_type": "code",
   "execution_count": null,
   "metadata": {},
   "outputs": [
    {
     "name": "stdout",
     "output_type": "stream",
     "text": [
      "h hello\n",
      "e hello\n",
      "l hello\n",
      "l hello\n",
      "o hello\n",
      "end\n"
     ]
    }
   ],
   "source": [
    "for i in 'hello':\n",
    "    print(i, \"hello\")\n",
    "\n",
    "else:\n",
    "    print('end')"
   ]
  },
  {
   "cell_type": "code",
   "execution_count": null,
   "metadata": {},
   "outputs": [
    {
     "name": "stdout",
     "output_type": "stream",
     "text": [
      "Mahima has 3  vowels and3  consonet\n"
     ]
    }
   ],
   "source": [
    "a=input()\n",
    "v= 'aeiouAEIOU'\n",
    "w=0\n",
    "y=0\n",
    "\n",
    "for i in a:\n",
    "    if i in v:\n",
    "        w+=1\n",
    "    else:\n",
    "        y+=1\n",
    "\n",
    "print(f'{a} has {w}  vowels and {y}  consonet')\n"
   ]
  },
  {
   "cell_type": "code",
   "execution_count": null,
   "metadata": {},
   "outputs": [
    {
     "name": "stdout",
     "output_type": "stream",
     "text": [
      "2\n",
      "3\n",
      "5\n",
      "7\n",
      "11\n",
      "13\n",
      "17\n",
      "19\n",
      "23\n",
      "29\n",
      "31\n",
      "37\n",
      "41\n",
      "43\n",
      "47\n",
      "53\n",
      "59\n",
      "61\n",
      "67\n",
      "71\n",
      "73\n",
      "79\n",
      "83\n",
      "89\n",
      "97\n"
     ]
    }
   ],
   "source": [
    "for i in range(1,100):\n",
    "    if i > 1:\n",
    "        for j in range(2,i):\n",
    "            if(i%j==0):\n",
    "                break\n",
    "        else:\n",
    "            print(i)"
   ]
  },
  {
   "cell_type": "code",
   "execution_count": null,
   "metadata": {},
   "outputs": [
    {
     "name": "stdout",
     "output_type": "stream",
     "text": [
      "armstrong\n",
      "153\n"
     ]
    }
   ],
   "source": [
    "n=int(input())\n",
    "\n",
    "q=len(str(n))\n",
    "\n",
    "temp=n\n",
    "\n",
    "sum=0\n",
    "\n",
    "while temp > 0:\n",
    "    r=temp%10\n",
    "\n",
    "    sum+=r**q\n",
    "\n",
    "    temp=temp//10\n",
    "\n",
    "if sum==n:\n",
    "        print(\"armstrong\")\n",
    "else:\n",
    "      print(\"Not Armstrong\")\n",
    "\n",
    "\n",
    "print(sum)\n"
   ]
  },
  {
   "cell_type": "code",
   "execution_count": null,
   "metadata": {},
   "outputs": [
    {
     "name": "stdout",
     "output_type": "stream",
     "text": [
      "4\n"
     ]
    }
   ],
   "source": [
    "n=int(input())\n",
    "\n",
    "temp=n\n",
    "\n",
    "k=0\n",
    "\n",
    "while temp>0:\n",
    "\n",
    "    k+=1\n",
    "\n",
    "    temp=temp//10\n",
    "\n",
    "print(k)"
   ]
  },
  {
   "cell_type": "code",
   "execution_count": null,
   "metadata": {},
   "outputs": [
    {
     "name": "stdout",
     "output_type": "stream",
     "text": [
      "987654321\n"
     ]
    }
   ],
   "source": [
    "a=\"123456789\"\n",
    "\n",
    "print(a[9:0:-1],end=\"\")\n",
    "print(a[0])"
   ]
  },
  {
   "cell_type": "code",
   "execution_count": null,
   "metadata": {},
   "outputs": [
    {
     "name": "stdout",
     "output_type": "stream",
     "text": [
      "Palindrome\n"
     ]
    }
   ],
   "source": [
    "a=input()\n",
    "b=a[::-1]\n",
    "if(a==b):\n",
    "    print(\"Palindrome\")\n",
    "else:\n",
    "    print(\"Not Palindrome\")"
   ]
  },
  {
   "cell_type": "code",
   "execution_count": null,
   "metadata": {},
   "outputs": [],
   "source": [
    "a=int(input())\n",
    "b=a\n",
    "temp=a \n",
    "while temp>0 and b>0:\n",
    "    k=b%10\n",
    "    q=temp%10\n",
    "    "
   ]
  },
  {
   "cell_type": "code",
   "execution_count": null,
   "metadata": {},
   "outputs": [],
   "source": [
    "#Datstructures\n",
    "#array not in curriculum numpy\n",
    "#list - []\n",
    "#tuple -()\n",
    "#dict-{kry:value}\n",
    "#set-{}"
   ]
  },
  {
   "cell_type": "code",
   "execution_count": null,
   "metadata": {},
   "outputs": [
    {
     "name": "stdout",
     "output_type": "stream",
     "text": [
      "[1, 3.14, 'Mano', True, []]\n",
      "Mano\n",
      "[1, 'abc', 'Mano', True, []]\n"
     ]
    }
   ],
   "source": [
    "#list\n",
    "lis= [1,3.14,\"Mano\",True,[]]\n",
    "print(lis)\n",
    "print(lis[2])\n",
    "lis[1]='abc'\n",
    "print(lis)"
   ]
  },
  {
   "cell_type": "code",
   "execution_count": null,
   "metadata": {},
   "outputs": [
    {
     "name": "stdout",
     "output_type": "stream",
     "text": [
      "[200, 300, 400]\n",
      "600\n",
      "[100, 200, 300, 400, 500, 600, 700, 300]\n",
      "8\n",
      "2\n"
     ]
    }
   ],
   "source": [
    "#slice\n",
    "l=[100,200,300,400,500,600,700,300]\n",
    "print(l[1:4])\n",
    "\n",
    "print(l[-3])\n",
    "\n",
    "print(l[:])\n",
    "\n",
    "print(len(l))\n",
    "\n",
    "print(l.count(300))"
   ]
  },
  {
   "cell_type": "code",
   "execution_count": null,
   "metadata": {},
   "outputs": [
    {
     "name": "stdout",
     "output_type": "stream",
     "text": [
      "guindy\n",
      "6\n",
      "guindy\n"
     ]
    }
   ],
   "source": [
    "city=['chennai-guindy','mumbai','delhi']\n",
    "\n",
    "#0 chennai\n",
    "#1 mumbai\n",
    "#2 delhi\n",
    "\n",
    "print(city[0][8:])\n",
    "print(len(city[1]))\n",
    "area = city[0][8:]\n",
    "print(area)"
   ]
  },
  {
   "cell_type": "code",
   "execution_count": null,
   "metadata": {},
   "outputs": [
    {
     "name": "stdout",
     "output_type": "stream",
     "text": [
      "999\n"
     ]
    }
   ],
   "source": [
    "li=[1,2],['abc','xyz',[999,888]]\n",
    "\n",
    "print(li[1][2][0])"
   ]
  },
  {
   "cell_type": "code",
   "execution_count": null,
   "metadata": {},
   "outputs": [
    {
     "name": "stdout",
     "output_type": "stream",
     "text": [
      "True\n",
      "False\n",
      "1\n",
      "[100, 120, 130, 140, 130, 110, 777]\n"
     ]
    }
   ],
   "source": [
    "l=[100,120,130,140,130,110]\n",
    "\n",
    "l.append(777)\n",
    "l.insert(1,44) # (POSITION,VALUE)\n",
    "print(100 in l)\n",
    "print(99 in l)\n",
    "\n",
    "\n",
    "#remove\n",
    "l.remove(44)\n",
    "\n",
    "num=l.index(120)\n",
    "print(num)\n",
    "\n",
    "print(l)"
   ]
  },
  {
   "cell_type": "code",
   "execution_count": null,
   "metadata": {},
   "outputs": [
    {
     "name": "stdout",
     "output_type": "stream",
     "text": [
      "[1, 2, 3, 4, 5]\n",
      "[2, 3, 4]\n"
     ]
    }
   ],
   "source": [
    "#pop\n",
    "l=[1,2,3,4,5]\n",
    "print(l)\n",
    "l.pop()\n",
    "l.pop(0)\n",
    "print(l)\n",
    "\n"
   ]
  },
  {
   "cell_type": "code",
   "execution_count": null,
   "metadata": {},
   "outputs": [
    {
     "name": "stdout",
     "output_type": "stream",
     "text": [
      "[]\n"
     ]
    }
   ],
   "source": [
    "#delete and clear\n",
    "\n",
    "l=[1,2,3,4]\n",
    "\n",
    "l.clear()\n",
    "print(l)\n",
    "del l\n"
   ]
  },
  {
   "cell_type": "code",
   "execution_count": null,
   "metadata": {},
   "outputs": [
    {
     "name": "stdout",
     "output_type": "stream",
     "text": [
      "[66, 111, 5, 2]\n",
      "[1, 2, 3, 4, 5, 6, [111, 222], 111, 222, 55, 66]\n"
     ]
    }
   ],
   "source": [
    "l=[1,2,3,4,5,6]\n",
    "l.append([111,222]) #it will create a nested list bcuz append adds as one object\n",
    "l.extend([111,222])\n",
    "l=l+[55,66] #alternate of extend\n",
    "print(l[::-3])\n",
    "print(l)"
   ]
  },
  {
   "cell_type": "code",
   "execution_count": null,
   "metadata": {},
   "outputs": [
    {
     "data": {
      "text/plain": [
       "['re', 'rd', 're', 'rd', 're', 'rd']"
      ]
     },
     "execution_count": 68,
     "metadata": {},
     "output_type": "execute_result"
    }
   ],
   "source": [
    "s=['re','rd']*3\n",
    "s"
   ]
  },
  {
   "cell_type": "code",
   "execution_count": null,
   "metadata": {},
   "outputs": [
    {
     "name": "stdout",
     "output_type": "stream",
     "text": [
      "[1, 2, 3, 4, 10, 9, 8, 7, 6]\n"
     ]
    }
   ],
   "source": [
    "num=[1,2,3,4,5,6,7,8,9,10]\n",
    "num2=[]\n",
    "num2=num2+(num[0:4])\n",
    "num2=num2+(num[9:4:-1])\n",
    "print(num2)\n"
   ]
  },
  {
   "cell_type": "code",
   "execution_count": null,
   "metadata": {},
   "outputs": [
    {
     "name": "stdout",
     "output_type": "stream",
     "text": [
      "[2, 3, 5, 7, 11, 13, 17, 19, 23, 29, 31, 37, 41, 43, 47, 53, 59, 61, 67, 71, 73, 79, 83, 89, 97]\n"
     ]
    }
   ],
   "source": [
    "a=[]\n",
    "\n",
    "for i in range(1,100):\n",
    "    if i > 1:\n",
    "        for j in range(2,i):\n",
    "            if(i%j==0):\n",
    "                break\n",
    "        else:\n",
    "            a.append(i)\n",
    "print(a)"
   ]
  },
  {
   "cell_type": "code",
   "execution_count": null,
   "metadata": {},
   "outputs": [
    {
     "name": "stdout",
     "output_type": "stream",
     "text": [
      "9\n",
      "4\n",
      "appple\n",
      "0\n",
      "boom\n",
      "4\n"
     ]
    }
   ],
   "source": [
    "a=['appple','it','is','was','boom']\n",
    "\n",
    "b=[4,5,6,7,8,9]\n",
    "print(max(b))\n",
    "print(min(b))\n",
    "\n",
    "\n",
    "for i in a:\n",
    "    if len(i) > 3:\n",
    "        print(i)\n",
    "        print(a.index(i))"
   ]
  },
  {
   "cell_type": "code",
   "execution_count": null,
   "metadata": {},
   "outputs": [
    {
     "name": "stdout",
     "output_type": "stream",
     "text": [
      "(1, 2, 3)\n",
      "[1, 2, 3]\n",
      "(1, 2, 3)\n"
     ]
    }
   ],
   "source": [
    "#Tuple - List\n",
    "\n",
    "t=(1,2,3)\n",
    "print(t)\n",
    "\n",
    "l=list(t)\n",
    "print(l)\n",
    "\n",
    "t1=tuple(l)\n",
    "print(t1)"
   ]
  },
  {
   "cell_type": "code",
   "execution_count": null,
   "metadata": {},
   "outputs": [
    {
     "name": "stdout",
     "output_type": "stream",
     "text": [
      "(1, 2, 3, 4, [22, 6])\n"
     ]
    }
   ],
   "source": [
    "t3 = (1,2,3,4,[5,6]) # u can edit a list inside a tuple but not vice versa\n",
    "\n",
    "t3[-1][0]=22\n",
    "\n",
    "print(t3)"
   ]
  },
  {
   "cell_type": "code",
   "execution_count": null,
   "metadata": {},
   "outputs": [
    {
     "name": "stdout",
     "output_type": "stream",
     "text": [
      "mano has to pay a Simple interest of 50 for principal amount 1000 with Intrest rate of 5% for 1 years\n",
      "mahi has to pay a Simple interest of 240 for principal amount 2000 with Intrest rate of 6% for 2 years\n",
      "vishal has to pay a Simple interest of 630 for principal amount 3000 with Intrest rate of 7% for 3 years\n",
      "nani has to pay a Simple interest of 1280 for principal amount 4000 with Intrest rate of 8% for 4 years\n",
      "akil has to pay a Simple interest of 2250 for principal amount 5000 with Intrest rate of 9% for 5 years\n",
      "[1000, 2000, 3000, 4000, 5000]\n"
     ]
    }
   ],
   "source": [
    "name=['mano','mahi','vishal','nani','akil']\n",
    "p=[1000,2000,3000,4000,5000]\n",
    "r=[5,6,7,8,9]\n",
    "t=[1,2,3,4,5]\n",
    "SI=[]\n",
    "CI=[]\n",
    "\n",
    "\n",
    "for i in name:\n",
    "        k=(p[name.index(i)]*r[name.index(i)]*t[name.index(i)])//100\n",
    "        a=(p[name.index(i)]*(1+ r[name.index(i)]//100)**t[name.index(i)])\n",
    "        SI.append(k)\n",
    "        CI.append(a)\n",
    "        if(k>a):\n",
    "                print(f'{i} has to pay a Compound interest of {a} for principal amount {p[name.index(i)]} with Intrest rate of {r[name.index(i)]}% for {t[name.index(i)]} years')\n",
    "                \n",
    "        else:\n",
    "             print(f'{i} has to pay a Simple interest of {k} for principal amount {p[name.index(i)]} with Intrest rate of {r[name.index(i)]}% for {t[name.index(i)]} years')   \n",
    "                \n",
    "print(CI)\n",
    "\n",
    "\n"
   ]
  },
  {
   "cell_type": "code",
   "execution_count": null,
   "metadata": {},
   "outputs": [
    {
     "name": "stdout",
     "output_type": "stream",
     "text": [
      "0 1\n",
      "1 0\n"
     ]
    }
   ],
   "source": [
    "list1 = [2,7,9,11,15]\n",
    "\n",
    "t=9\n",
    "\n",
    "for i in list1:\n",
    "    if i >1:\n",
    "        for j in list1:\n",
    "            if i+j == t:\n",
    "                print(list1.index(i),list1.index(j))\n"
   ]
  },
  {
   "cell_type": "code",
   "execution_count": null,
   "metadata": {},
   "outputs": [
    {
     "name": "stdout",
     "output_type": "stream",
     "text": [
      "[3, 4, 5, 6]\n"
     ]
    }
   ],
   "source": [
    "#\n",
    "a=[3,4]\n",
    "b=a\n",
    "b+=[5,6]\n",
    "\n",
    "print(b)"
   ]
  },
  {
   "cell_type": "code",
   "execution_count": null,
   "metadata": {},
   "outputs": [
    {
     "name": "stdout",
     "output_type": "stream",
     "text": [
      "[3, 4]\n",
      "[3, 4, 5, 6]\n"
     ]
    }
   ],
   "source": [
    "#copy\n",
    "\n",
    "a=[3,4]\n",
    "\n",
    "b=a.copy()\n",
    "\n",
    "b+=[5,6]\n",
    "\n",
    "print(a)\n",
    "print(b)\n",
    "\n"
   ]
  },
  {
   "cell_type": "code",
   "execution_count": null,
   "metadata": {},
   "outputs": [
    {
     "name": "stdout",
     "output_type": "stream",
     "text": [
      "[3, 4, [999, 888, 199]]\n",
      "[3, 4, [999, 888, 199]]\n"
     ]
    }
   ],
   "source": [
    "a=[3,4,[999,888]] #nested list will be affected therefore affects the original list\n",
    "b=a.copy()\n",
    "\n",
    "b[2].append(199)\n",
    "print(a)\n",
    "print(b)"
   ]
  },
  {
   "cell_type": "code",
   "execution_count": null,
   "metadata": {},
   "outputs": [
    {
     "name": "stdout",
     "output_type": "stream",
     "text": [
      "[3, 4, [999, 888]]\n",
      "[3, 4, [999, 888, 199]]\n"
     ]
    }
   ],
   "source": [
    "import copy\n",
    "\n",
    "a=[3,4,[999,888]]\n",
    "b=copy.deepcopy(a)\n",
    "\n",
    "b[2].append(199)\n",
    "print(a)\n",
    "print(b)\n",
    "\n"
   ]
  },
  {
   "cell_type": "code",
   "execution_count": null,
   "metadata": {},
   "outputs": [
    {
     "name": "stdout",
     "output_type": "stream",
     "text": [
      "{'name': 'abc', 'std': 8, 'height': 5.5}\n",
      "{'name': 'vvv', 'std': 8, 'height': 5.5}\n",
      "{'name': 'abc', 'std': 8, 'height': 5.5}\n",
      "dict_keys(['name', 'std', 'height'])\n",
      "dict_values(['abc', 8, 5.5])\n",
      "dict_items([('name', 'abc'), ('std', 8), ('height', 5.5)])\n"
     ]
    }
   ],
   "source": [
    "#dict\n",
    "\n",
    "d={'name':\"abc\",'std':8,'height':5.5}\n",
    "# single key : value = dict item\n",
    "c={'name':\"abc\",'std':8,'height':5.5,'name':\"vvv\"} # Keys can't be duplicated but values can be duplicated . if you mention the same key twice the latest value will be printed\n",
    "\n",
    "print(d)\n",
    "print(c)\n",
    "\n",
    "\n",
    "d.get('name')\n",
    "print(d)\n",
    "print(d.keys())\n",
    "print(d.values())\n",
    "print(d.items())\n"
   ]
  },
  {
   "cell_type": "code",
   "execution_count": null,
   "metadata": {},
   "outputs": [
    {
     "data": {
      "text/plain": [
       "'abc'"
      ]
     },
     "execution_count": 122,
     "metadata": {},
     "output_type": "execute_result"
    }
   ],
   "source": [
    "(d['name'])\n"
   ]
  },
  {
   "cell_type": "code",
   "execution_count": null,
   "metadata": {},
   "outputs": [
    {
     "name": "stdout",
     "output_type": "stream",
     "text": [
      "['1', '2', '3']\n"
     ]
    }
   ],
   "source": [
    "#userdefined list \n",
    "n=int(input(\"Enter the number of elements\"))\n",
    "\n",
    "a=[]\n",
    "\n",
    "for i in range(n):\n",
    "    element = input(f'Enter the element nuber {i+1}')\n",
    "    a.append(element)\n",
    "\n",
    "print(a)\n",
    "\n",
    "\n",
    "\n"
   ]
  },
  {
   "cell_type": "code",
   "execution_count": null,
   "metadata": {},
   "outputs": [
    {
     "name": "stdout",
     "output_type": "stream",
     "text": [
      "('1', '2', '3')\n"
     ]
    }
   ],
   "source": [
    "#userdefined Tuple\n",
    "\n",
    "n=int(input(\"Enter the number of elements\"))\n",
    "\n",
    "a=[]\n",
    "\n",
    "for i in range(n):\n",
    "    element = input(f'Enter the element nuber {i+1}')\n",
    "    a.append(element)\n",
    "\n",
    "b=tuple(a)\n",
    "print(b)\n",
    "\n"
   ]
  },
  {
   "cell_type": "code",
   "execution_count": null,
   "metadata": {},
   "outputs": [
    {
     "name": "stdout",
     "output_type": "stream",
     "text": [
      "{'NAME': 'MANO', 'LOC': 'CHN'}\n"
     ]
    }
   ],
   "source": [
    "#userdifned Dictionary\n",
    "\n",
    "n= int (input(\"Enter the number of key value pairs\"))\n",
    "d={}\n",
    "\n",
    "for i in range(n):\n",
    "    key = input(f'Enter key {i+1}: ')\n",
    "    value = input(f'Enter value for key {key}:')\n",
    "    d[key]=value\n",
    "print(d)"
   ]
  },
  {
   "cell_type": "code",
   "execution_count": null,
   "metadata": {},
   "outputs": [
    {
     "name": "stdout",
     "output_type": "stream",
     "text": [
      "{'name': 'abc', 'age': 10, 'std': '5th'}\n"
     ]
    }
   ],
   "source": [
    "#Zip - Dict\n",
    "\n",
    "k=['name','age','std','address']\n",
    "v=['abc',10,'5th']\n",
    "\n",
    "z=zip(k,v)\n",
    "\n",
    "print(dict(z))\n"
   ]
  },
  {
   "cell_type": "code",
   "execution_count": null,
   "metadata": {},
   "outputs": [
    {
     "name": "stdout",
     "output_type": "stream",
     "text": [
      "[('name', 'abc'), ('age', 10), ('std', '5th')]\n"
     ]
    }
   ],
   "source": [
    "#Zip - list\n",
    "\n",
    "k=['name','age','std','address']\n",
    "v=['abc',10,'5th']\n",
    "\n",
    "\n",
    "print(list(zip(k,v)))\n"
   ]
  },
  {
   "cell_type": "code",
   "execution_count": null,
   "metadata": {},
   "outputs": [
    {
     "name": "stdout",
     "output_type": "stream",
     "text": [
      "(('name', 'abc'), ('age', 10), ('std', '5th'))\n"
     ]
    }
   ],
   "source": [
    "#Zip - Tuple\n",
    "\n",
    "k=['name','age','std','address']\n",
    "v=['abc',10,'5th']\n",
    "\n",
    "\n",
    "print(tuple(zip(k,v)))\n"
   ]
  },
  {
   "cell_type": "code",
   "execution_count": null,
   "metadata": {},
   "outputs": [],
   "source": [
    "\n",
    "li=['apple','sky','cat','cricket','football','ball','bat','rain','sun','moon']\n",
    "\n",
    "di={}\n",
    "\n",
    "for i in range(len(li)):\n",
    "    di.update({li[i]:len(li[i])})\n",
    "    di[key]=value\n",
    "    print(di.popitem())\n",
    "print(di)"
   ]
  },
  {
   "cell_type": "code",
   "execution_count": null,
   "metadata": {},
   "outputs": [
    {
     "name": "stdout",
     "output_type": "stream",
     "text": [
      "[\"'In\", 'this', 'section,', 'we’ll', 'cover', 'the', 'basics', 'of', 'the', 'the', 'the', 'Python', 'programming,', 'including', 'installing', 'Python,', 'writing', 'first', 'program,', 'understanding', 'comments', 'and', 'workwith', 'ing', 'variables,', 'keywords', 'and', 'operators.', 'These', 'are', 'essential', 'building', 'blocks', 'to', 'get', 'started', 'with', 'Python', 'coding.']\n",
      "{\"'In\": 1, 'this': 1, 'section,': 1, 'we’ll': 1, 'cover': 1, 'the': 4, 'basics': 1, 'of': 1, 'Python': 2, 'programming,': 1, 'including': 1, 'installing': 1, 'Python,': 1, 'writing': 1, 'first': 1, 'program,': 1, 'understanding': 1, 'comments': 1, 'and': 2, 'workwith': 1, 'ing': 1, 'variables,': 1, 'keywords': 1, 'operators.': 1, 'These': 1, 'are': 1, 'essential': 1, 'building': 1, 'blocks': 1, 'to': 1, 'get': 1, 'started': 1, 'with': 1, 'coding.': 1}\n"
     ]
    }
   ],
   "source": [
    "p=''''In this section, we’ll cover the basics of the the the Python programming, including installing Python, writing first program, understanding comments and workwith ing variables, keywords and operators. These are essential building blocks to get started with Python coding.'''.split(\" \")\n",
    "\n",
    "k=list(p)\n",
    "\n",
    "dic={}\n",
    "for i in k:\n",
    "        key= i\n",
    "        value=k.count(key)\n",
    "        dic[key]=value\n",
    "\n",
    "print(k)\n",
    "\n",
    "print(dic)"
   ]
  },
  {
   "cell_type": "code",
   "execution_count": null,
   "metadata": {},
   "outputs": [
    {
     "name": "stdout",
     "output_type": "stream",
     "text": [
      "{'The': 1, 'sun': 1, 'set': 1, 'over': 1, 'the': 6, 'horizon,': 1, 'casting': 1, 'a': 4, 'warm,': 1, 'golden': 1, 'glow': 1, 'across': 1, 'tranquil': 1, 'lake.': 1, 'Birds': 1, 'chirped': 1, 'softly': 1, 'as': 1, 'they': 1, 'settled': 1, 'into': 1, 'their': 1, 'nests,': 1, 'and': 2, 'gentle': 1, 'breeze': 1, 'rustled': 1, 'leaves': 1, 'of': 3, 'trees.': 1, 'It': 1, 'was': 1, 'perfect': 1, 'evening,': 1, 'filled': 1, 'with': 1, 'peaceful': 1, 'sounds': 1, 'nature': 1, 'promise': 1, 'restful': 1, 'night.': 1}\n"
     ]
    }
   ],
   "source": [
    "#Gauri\n",
    "p = \"The sun set over the horizon, casting a warm, golden glow across the tranquil lake. Birds chirped softly as they settled into their nests, and a gentle breeze rustled the leaves of the trees. It was a perfect evening, filled with the peaceful sounds of nature and the promise of a restful night.\"\n",
    "ans=p.split()\n",
    "d={}\n",
    "for i in ans:\n",
    "    if i not in d:\n",
    "        d[i]=1\n",
    "    else:\n",
    "        d[i]+=1\n",
    "print(d)"
   ]
  },
  {
   "cell_type": "code",
   "execution_count": null,
   "metadata": {},
   "outputs": [
    {
     "name": "stdout",
     "output_type": "stream",
     "text": [
      "3\n",
      "4\n"
     ]
    }
   ],
   "source": [
    "#dic\n",
    "\n",
    "people= {1:{'name':4,'age':27},\n",
    "        2:(1,2,3)\n",
    "        ,3:[1,2,3]}\n",
    "print(people[2][2])\n",
    "\n",
    "print(people[1]['name'])"
   ]
  },
  {
   "cell_type": "code",
   "execution_count": null,
   "metadata": {},
   "outputs": [
    {
     "name": "stdout",
     "output_type": "stream",
     "text": [
      "5\n",
      "10\n",
      "15\n",
      "20\n",
      "{'c': 15, 'd': 20}\n"
     ]
    }
   ],
   "source": [
    "#dict task \n",
    "\n",
    "peo={'a': 5, 'b': 10 , 'c' : 15, 'd':20}\n",
    "d2={}\n",
    "\n",
    "for i in peo:\n",
    "        if peo[i] > 10:\n",
    "                d2.update({i:peo[i]})\n",
    "print(d2)"
   ]
  },
  {
   "cell_type": "code",
   "execution_count": null,
   "metadata": {},
   "outputs": [
    {
     "name": "stdout",
     "output_type": "stream",
     "text": [
      "{'a': 10, 'b': 12, 'd': 90}\n"
     ]
    }
   ],
   "source": [
    "#nani\n",
    "d={\"a\":10,\"b\":12,\"c\":2,\"d\":90}\n",
    "d1={}\n",
    "for i in d:\n",
    "    if d[i]>=10:\n",
    "        d1.update({i:d[i]})\n",
    "print(d1)"
   ]
  },
  {
   "cell_type": "code",
   "execution_count": null,
   "metadata": {},
   "outputs": [
    {
     "name": "stdout",
     "output_type": "stream",
     "text": [
      "1\n",
      "7\n"
     ]
    }
   ],
   "source": [
    "d={'a':1,'b':2,'c':3,'d':4,'e':5,'f':6,'g':7}\n",
    "\n",
    "print(min(d.values()))\n",
    "print(max(d.values()))"
   ]
  },
  {
   "cell_type": "code",
   "execution_count": null,
   "metadata": {},
   "outputs": [
    {
     "name": "stdout",
     "output_type": "stream",
     "text": [
      "{1, 3, 5, 6}\n"
     ]
    }
   ],
   "source": [
    "#set -{}\n",
    "\n",
    "l=[1,1,3,3,5,5,6]\n",
    "\n",
    "print(set(l))"
   ]
  },
  {
   "cell_type": "code",
   "execution_count": null,
   "metadata": {},
   "outputs": [
    {
     "name": "stdout",
     "output_type": "stream",
     "text": [
      "{1, 2, 3, 4, 5, 6, 7, 8}\n",
      "{1, 2, 3, 4, 5, 6, 7, 8}\n"
     ]
    }
   ],
   "source": [
    "#set union method\n",
    "\n",
    "#initialize A and B\n",
    "\n",
    "A={1,2,3,4,5}\n",
    "B={4,5,6,7,8}\n",
    "\n",
    "# use | operator\n",
    "\n",
    "#union function\n",
    "C=A.union(B)\n",
    "\n",
    "print(C)\n",
    "\n",
    "print(A|B)"
   ]
  },
  {
   "cell_type": "code",
   "execution_count": null,
   "metadata": {},
   "outputs": [
    {
     "name": "stdout",
     "output_type": "stream",
     "text": [
      "{4, 5}\n",
      "{4, 5}\n"
     ]
    }
   ],
   "source": [
    "#set intersection \n",
    "#initialize A and B\n",
    "\n",
    "A={1,2,3,4,5}\n",
    "B={4,5,6,7,8}\n",
    "\n",
    "# use & operator\n",
    "\n",
    "#intersection function\n",
    "C=A.intersection(B)\n",
    "\n",
    "print(C)\n",
    "\n",
    "print(A&B)"
   ]
  },
  {
   "cell_type": "code",
   "execution_count": null,
   "metadata": {},
   "outputs": [
    {
     "name": "stdout",
     "output_type": "stream",
     "text": [
      "{1, 2, 3}\n",
      "{1, 2, 3}\n"
     ]
    }
   ],
   "source": [
    "#set difference\n",
    "\n",
    "#initialize A and B\n",
    "\n",
    "A={1,2,3,4,5}\n",
    "B={4,5,6,7,8}\n",
    "\n",
    "# use - operator\n",
    "\n",
    "#set differences function\n",
    "C=A.difference(B)\n",
    "\n",
    "print(C)\n",
    "\n",
    "print(A-B)\n",
    "\n"
   ]
  },
  {
   "cell_type": "code",
   "execution_count": null,
   "metadata": {},
   "outputs": [
    {
     "name": "stdout",
     "output_type": "stream",
     "text": [
      "{1, 2, 3, 6, 7, 8}\n",
      "{1, 2, 3, 6, 7, 8}\n"
     ]
    }
   ],
   "source": [
    "# set symmetric difference \n",
    "\n",
    "#initialize A and B\n",
    "\n",
    "A={1,2,3,4,5}\n",
    "B={4,5,6,7,8}\n",
    "\n",
    "# use ^ operator\n",
    "\n",
    "#set symmetric difference function\n",
    "C=A.symmetric_difference(B)\n",
    "\n",
    "print(C)\n",
    "\n",
    "print(A^B)\n",
    "\n",
    "\n"
   ]
  },
  {
   "cell_type": "code",
   "execution_count": null,
   "metadata": {},
   "outputs": [
    {
     "name": "stdout",
     "output_type": "stream",
     "text": [
      "True\n",
      "True\n"
     ]
    }
   ],
   "source": [
    "A={1,2,3,4,5}\n",
    "B={4,5,3}\n",
    "\n",
    "C= A.issuperset(B)\n",
    "print(C)\n",
    "\n",
    "D=B.issubset(A)\n",
    "print(D)\n"
   ]
  },
  {
   "cell_type": "code",
   "execution_count": null,
   "metadata": {},
   "outputs": [
    {
     "name": "stdout",
     "output_type": "stream",
     "text": [
      "superset\n"
     ]
    }
   ],
   "source": [
    "n=int(input())\n",
    "\n",
    "k=[]\n",
    "p={1,2,3}\n",
    "\n",
    "for i in range(n):\n",
    "    element=int(input(\"Enter the element\"))\n",
    "    k.append(element)\n",
    "\n",
    "a=set(k)\n",
    "\n",
    "if p.issubset(a) == 1:\n",
    "    print(\"subset\")\n",
    "elif p.issuperset(a) ==1:\n",
    "    print(\"superset\")\n",
    "else:\n",
    "    print(\"Neither\") "
   ]
  },
  {
   "cell_type": "code",
   "execution_count": null,
   "metadata": {},
   "outputs": [
    {
     "name": "stdout",
     "output_type": "stream",
     "text": [
      "{'versatile', 'powerful', 'growth,', 'community', 'supports', 'developers', 'in', 'simplicity', 'programmers.', 'contributes', 'known', 'Additionally,', 'ever-evolving', 'both', 'wide', 'continuously', 'readability.', 'artificial', 'concise', 'emphasizes', 'is', 'standard', 'extensive', 'language', 'allows', 'range', 'a', 'scientific', 'programming', 'code', 'it', 'computing.', 'multiple', 'functional', 'syntax,', 'Pythons', 'for', 'readability,', 'choice', 'including', 'cutting-edge', 'active', 'procedural,', 'excellent', 'the', 'beginners', 'programming.', \"Python's\", 'experienced', 'development', 'library', 'tech', 'landscape.', 'and', 'relevant', 'of', 'intelligence', 'data', 'Its', 'its', 'ecosystem', 'third-party', 'remains', 'make', 'from', 'object-oriented,', 'to', 'analysis', 'Python', 'It', 'ensuring', 'packages', 'code,', 'applications,', 'suitable', 'making', 'an', 'write', 'vibrant', 'clear', 'paradigms,', 'which', 'web'}\n"
     ]
    }
   ],
   "source": [
    "\n",
    "\n",
    "p='''Python is a versatile and powerful programming language known for its simplicity and readability. It supports multiple programming paradigms, including procedural, object-oriented, and functional programming. Pythons extensive standard library and vibrant ecosystem of third-party packages make it suitable for a wide range of applications, from web development and data analysis to artificial intelligence and scientific computing. Its syntax, which emphasizes code readability, allows developers to write clear and concise code, making it an excellent choice for both beginners and experienced programmers. Additionally, Python's active community continuously contributes to its growth, ensuring it remains a relevant and cutting-edge language in the ever-evolving tech landscape.'''\n",
    "\n",
    "s=set(map(str,p.split(\" \")))\n",
    "print(s)"
   ]
  },
  {
   "cell_type": "code",
   "execution_count": null,
   "metadata": {},
   "outputs": [
    {
     "name": "stdout",
     "output_type": "stream",
     "text": [
      "Pythn s  vrstl nd pwrfl prgrmmng lngg knwn fr ts smplcty nd rdblty. t spprts mltpl prgrmmng prdgms, ncldng prcdrl, bjct-rntd, nd fnctnl prgrmmng. Pythns xtnsv stndrd lbrry nd vbrnt csystm f thrd-prty pckgs mk t stbl fr  wd rng f pplctns, frm wb dvlpmnt nd dt nlyss t rtfcl ntllgnc nd scntfc cmptng. ts syntx, whch mphszs cd rdblty, llws dvlprs t wrt clr nd cncs cd, mkng t n xcllnt chc fr bth bgnnrs nd xprncd prgrmmrs. ddtnlly, Pythn's ctv cmmnty cntnsly cntrbts t ts grwth, nsrng t rmns  rlvnt nd cttng-dg lngg n th vr-vlvng tch lndscp.\n"
     ]
    }
   ],
   "source": [
    "p='''Python is a versatile and powerful programming language known for its simplicity and readability. It supports multiple programming paradigms, including procedural, object-oriented, and functional programming. Pythons extensive standard library and vibrant ecosystem of third-party packages make it suitable for a wide range of applications, from web development and data analysis to artificial intelligence and scientific computing. Its syntax, which emphasizes code readability, allows developers to write clear and concise code, making it an excellent choice for both beginners and experienced programmers. Additionally, Python's active community continuously contributes to its growth, ensuring it remains a relevant and cutting-edge language in the ever-evolving tech landscape.'''\n",
    "\n",
    "\n",
    "\n",
    "v={'A','E','I','O','U','a','e','i','o','u'}\n",
    "\n",
    "res=''\n",
    "\n",
    "for i in p:\n",
    "\n",
    "    if i not in v:\n",
    "        res+=i\n",
    "\n",
    "print(res)\n",
    "\n",
    "\n"
   ]
  },
  {
   "cell_type": "code",
   "execution_count": null,
   "metadata": {},
   "outputs": [
    {
     "name": "stdout",
     "output_type": "stream",
     "text": [
      "1\n",
      "2\n",
      "3\n",
      "4\n",
      "5\n"
     ]
    }
   ],
   "source": [
    "#while loop\n",
    "n=0\n",
    "while n<5:\n",
    "    print(n+1)\n",
    "    n+=1 #update counter\n"
   ]
  },
  {
   "cell_type": "code",
   "execution_count": null,
   "metadata": {},
   "outputs": [
    {
     "name": "stdout",
     "output_type": "stream",
     "text": [
      "hello\n",
      "hello\n",
      "hello\n",
      "hello\n",
      "hello\n",
      "end\n"
     ]
    }
   ],
   "source": [
    "#else in while\n",
    "n=0\n",
    "while n<5:\n",
    "    print(\"hello\")\n",
    "    n+=1\n",
    "else:\n",
    "    print(\"end\")"
   ]
  },
  {
   "cell_type": "code",
   "execution_count": null,
   "metadata": {},
   "outputs": [
    {
     "name": "stdout",
     "output_type": "stream",
     "text": [
      "hello\n",
      "hello\n",
      "hello\n"
     ]
    }
   ],
   "source": [
    "#break\n",
    "n=0\n",
    "while n<5:\n",
    "    if(n<3):\n",
    "        print(\"hello\")\n",
    "    else:\n",
    "        break\n",
    "\n",
    "    n+=1\n"
   ]
  },
  {
   "cell_type": "code",
   "execution_count": null,
   "metadata": {},
   "outputs": [
    {
     "name": "stdout",
     "output_type": "stream",
     "text": [
      "p\n",
      "y\n",
      "t\n",
      "\n",
      "h\n",
      "\n",
      "3\n"
     ]
    }
   ],
   "source": [
    "\n",
    "for i in \"python\":\n",
    "    if i=='h':\n",
    "        break\n",
    "    print(i)\n",
    "\n",
    "print()\n",
    "\n",
    "for i in \"python\":\n",
    "    if i=='h':\n",
    "        print(i)\n",
    "        break\n",
    "\n",
    "print()\n",
    "\n",
    "for i in \"python\":\n",
    "    if i=='h':\n",
    "        print(i)\n",
    "    break\n",
    "\n",
    "sum=0\n",
    "for i in range(5):\n",
    "        if i<3:\n",
    "            sum+=i\n",
    "        else:\n",
    "            break\n",
    "print(sum)\n",
    "\n"
   ]
  },
  {
   "cell_type": "code",
   "execution_count": null,
   "metadata": {},
   "outputs": [
    {
     "name": "stdout",
     "output_type": "stream",
     "text": [
      "p\n",
      "y\n",
      "t\n",
      "o\n",
      "n\n"
     ]
    }
   ],
   "source": [
    "#continue\n",
    "for i in \"python\":\n",
    "    if i=='h':\n",
    "        continue #bypass\n",
    "    print(i)"
   ]
  },
  {
   "cell_type": "code",
   "execution_count": null,
   "metadata": {},
   "outputs": [],
   "source": [
    "#pass\n",
    "\n",
    "for i in \"python\":\n",
    "    pass  #placeholder statement"
   ]
  },
  {
   "cell_type": "code",
   "execution_count": null,
   "metadata": {},
   "outputs": [
    {
     "name": "stdout",
     "output_type": "stream",
     "text": [
      "p\n",
      "y\n",
      "t\n",
      "h\n",
      "o\n",
      "n\n"
     ]
    }
   ],
   "source": [
    "#pass\n",
    "for i in \"python\":\n",
    "    if i=='h':\n",
    "        pass\n",
    "    print(i)"
   ]
  },
  {
   "cell_type": "code",
   "execution_count": null,
   "metadata": {},
   "outputs": [
    {
     "name": "stdout",
     "output_type": "stream",
     "text": [
      "0 1 1 2 3 5 8 13 21 34 "
     ]
    }
   ],
   "source": [
    "#fibonacci\n",
    "\n",
    "n=10\n",
    "a,b =0,1\n",
    "\n",
    "for _ in range(n):\n",
    "    print(a,end=\" \")\n",
    "    a,b = b,a+b"
   ]
  },
  {
   "cell_type": "code",
   "execution_count": null,
   "metadata": {},
   "outputs": [
    {
     "name": "stdout",
     "output_type": "stream",
     "text": [
      "1\n",
      "2\n",
      "3\n",
      "5\n",
      "8\n",
      "13\n",
      "21\n",
      "34\n",
      "55\n",
      "89\n"
     ]
    }
   ],
   "source": [
    "n=int(input())\n",
    "\n",
    "count=0\n",
    "\n",
    "sum =0\n",
    "\n",
    "f=0\n",
    "s=1\n",
    "\n",
    "while count < n:\n",
    "    sum=f+s\n",
    "    print(sum)\n",
    "    f=s\n",
    "    s=sum\n",
    "    count+=1"
   ]
  },
  {
   "cell_type": "code",
   "execution_count": null,
   "metadata": {},
   "outputs": [
    {
     "name": "stdout",
     "output_type": "stream",
     "text": [
      "1\n",
      "2\n",
      "3\n",
      "5\n",
      "8\n"
     ]
    }
   ],
   "source": [
    "n=int(input())\n",
    "\n",
    "k=0\n",
    "l=1\n",
    "sum=0\n",
    "\n",
    "for i in range(n):\n",
    "        sum=k+l\n",
    "        print(sum)\n",
    "        k=l\n",
    "        l=sum"
   ]
  },
  {
   "cell_type": "code",
   "execution_count": null,
   "metadata": {},
   "outputs": [
    {
     "name": "stdout",
     "output_type": "stream",
     "text": [
      "Hello\n"
     ]
    }
   ],
   "source": [
    "#functions\n",
    "\n",
    "def add():\n",
    "    print(\"Hello\")\n",
    "\n",
    "add()"
   ]
  },
  {
   "cell_type": "code",
   "execution_count": null,
   "metadata": {},
   "outputs": [
    {
     "name": "stdout",
     "output_type": "stream",
     "text": [
      "11\n"
     ]
    }
   ],
   "source": [
    "#functions\n",
    "# with parameter function without return type\n",
    "def add(a,b): #a,b are the parameter\n",
    "    print(a+b)\n",
    "\n",
    "\n",
    "add(5,6) #5,6 is the argument"
   ]
  },
  {
   "cell_type": "code",
   "execution_count": null,
   "metadata": {},
   "outputs": [
    {
     "name": "stdout",
     "output_type": "stream",
     "text": [
      "11\n"
     ]
    }
   ],
   "source": [
    "#functions\n",
    "\n",
    "def add(): #no parameter function without return type\n",
    "    a=int(input())\n",
    "    b=int(input())\n",
    "    print(a+b)\n",
    "\n",
    "add() "
   ]
  },
  {
   "cell_type": "code",
   "execution_count": null,
   "metadata": {},
   "outputs": [
    {
     "name": "stdout",
     "output_type": "stream",
     "text": [
      "11\n"
     ]
    }
   ],
   "source": [
    "#functions\n",
    "# with parameter function with return type\n",
    "def add(a,b): #a,b are the parameter\n",
    "    return a+b\n",
    "\n",
    "s=add(5,6)\n",
    "print(s) #5,6 is the argument"
   ]
  },
  {
   "cell_type": "code",
   "execution_count": null,
   "metadata": {},
   "outputs": [
    {
     "name": "stdout",
     "output_type": "stream",
     "text": [
      "30\n"
     ]
    }
   ],
   "source": [
    "#functions\n",
    "\n",
    "def add(): #no parameter function with return type\n",
    "    a=10\n",
    "    b=20\n",
    "    return a+b\n",
    "\n",
    "s=add()\n",
    "print(s) "
   ]
  },
  {
   "cell_type": "code",
   "execution_count": null,
   "metadata": {},
   "outputs": [],
   "source": [
    "def vowel():\n",
    "    a=input()\n",
    "    \n",
    "    str='aeiouAEIOU'\n",
    "\n",
    "    for i in a:\n",
    "        if i in str:\n",
    "            return \n",
    "        "
   ]
  },
  {
   "cell_type": "code",
   "execution_count": null,
   "metadata": {},
   "outputs": [
    {
     "name": "stdout",
     "output_type": "stream",
     "text": [
      "5\n"
     ]
    }
   ],
   "source": [
    "#types of arguments\n",
    "\n",
    "#positional  arg\n",
    "\n",
    "def fun(a,b):\n",
    "    print(a+b)\n",
    "\n",
    "s=fun(2,3)\n",
    "print(s)"
   ]
  },
  {
   "cell_type": "code",
   "execution_count": null,
   "metadata": {},
   "outputs": [
    {
     "name": "stdout",
     "output_type": "stream",
     "text": [
      "hello\n"
     ]
    }
   ],
   "source": [
    "#default arg\n",
    "\n",
    "def data(name='hello'):   #this is where we assign a default value to the parameter when the user does'nt give input\n",
    "    print(name)\n",
    "\n",
    "s=data()\n",
    "print(s)"
   ]
  },
  {
   "cell_type": "code",
   "execution_count": null,
   "metadata": {},
   "outputs": [
    {
     "name": "stdout",
     "output_type": "stream",
     "text": [
      "Hello abc are you 12\n"
     ]
    }
   ],
   "source": [
    "#keywords arg\n",
    "def data (name,age):\n",
    "    print(f'Hello {name} are you {age}')\n",
    "\n",
    "s=data(age=12,name='abc')\n"
   ]
  },
  {
   "cell_type": "code",
   "execution_count": null,
   "metadata": {},
   "outputs": [
    {
     "name": "stdout",
     "output_type": "stream",
     "text": [
      "Manoharan shriram"
     ]
    }
   ],
   "source": [
    "print(\"Manoharan shriram\",end='',sep='')"
   ]
  },
  {
   "cell_type": "code",
   "execution_count": null,
   "metadata": {},
   "outputs": [
    {
     "name": "stdout",
     "output_type": "stream",
     "text": [
      "(2, 3, 4, 5)\n",
      "abc\n"
     ]
    }
   ],
   "source": [
    "#variable length argument default datatype is tuple it wont run without the positional argument but its not the case with *a\n",
    "\n",
    "def fun(name,*a):\n",
    "    print(a)\n",
    "    print(name)\n",
    "\n",
    "fun('abc',2,3,4,5)"
   ]
  },
  {
   "cell_type": "code",
   "execution_count": null,
   "metadata": {},
   "outputs": [
    {
     "name": "stdout",
     "output_type": "stream",
     "text": [
      "{'na': 'abc', 'age': 2}\n",
      "q\n"
     ]
    }
   ],
   "source": [
    "#variable length keyword arguments default datatype is dictionary \n",
    "\n",
    "def fun(name,**a):\n",
    "    print(a)\n",
    "    print(name)\n",
    "\n",
    "fun('q',na='abc',age=2)\n"
   ]
  },
  {
   "cell_type": "code",
   "execution_count": null,
   "metadata": {},
   "outputs": [
    {
     "name": "stdout",
     "output_type": "stream",
     "text": [
      "Help on function addition in module __main__:\n",
      "\n",
      "addition(a, b)\n",
      "    this function takes two values and adds them\n",
      "\n"
     ]
    }
   ],
   "source": [
    "#docstring\n",
    "def addition(a,b):\n",
    "    \"\"\"this function takes two values and adds them\"\"\"\n",
    "    return a+b \n",
    "\n",
    "help(addition) \n"
   ]
  },
  {
   "cell_type": "code",
   "execution_count": null,
   "metadata": {},
   "outputs": [
    {
     "data": {
      "text/plain": [
       "'this function takes two values and adds them'"
      ]
     },
     "execution_count": 145,
     "metadata": {},
     "output_type": "execute_result"
    }
   ],
   "source": [
    "#or u can use\n",
    "\n",
    "addition.__doc__"
   ]
  },
  {
   "cell_type": "code",
   "execution_count": null,
   "metadata": {},
   "outputs": [
    {
     "name": "stdout",
     "output_type": "stream",
     "text": [
      "Integer=10 , string=hello\n"
     ]
    }
   ],
   "source": [
    "#function annotation \n",
    "\n",
    "def data (a:int,b:str) -> str:\n",
    "    \"\"\"this function takes an int and string and returns a format string\"\"\"\n",
    "    return f'Integer={a} , string={b}'\n",
    "\n",
    "print(data(10,\"hello\"))\n",
    "\n"
   ]
  },
  {
   "cell_type": "code",
   "execution_count": null,
   "metadata": {},
   "outputs": [
    {
     "data": {
      "text/plain": [
       "{'a': int, 'b': str, 'return': str}"
      ]
     },
     "execution_count": 147,
     "metadata": {},
     "output_type": "execute_result"
    }
   ],
   "source": [
    "data.__annotations__\n"
   ]
  },
  {
   "cell_type": "code",
   "execution_count": null,
   "metadata": {},
   "outputs": [
    {
     "name": "stdout",
     "output_type": "stream",
     "text": [
      "[4, 5]\n"
     ]
    }
   ],
   "source": [
    "def intersection(a,b):\n",
    "    c=[]\n",
    "    for i in a:\n",
    "        if i in b:\n",
    "            c.append(i)\n",
    "\n",
    "    return c \n",
    "\n",
    "\n",
    "a=[1,2,3,4,5]\n",
    "b=[4,5,6,7,8]\n",
    "\n",
    "s=intersection(a,b)\n",
    "print(s)"
   ]
  },
  {
   "cell_type": "code",
   "execution_count": null,
   "metadata": {},
   "outputs": [
    {
     "name": "stdout",
     "output_type": "stream",
     "text": [
      "[1, 2, 3, 4, 5, 6, 7, 8]\n"
     ]
    }
   ],
   "source": [
    "def union(a,b):\n",
    "    c=a+b\n",
    "    d=set(c)\n",
    "    e=list(d)\n",
    "    return e\n",
    "\n",
    "a=[1,2,3,4,5]\n",
    "b=[4,5,6,7,8]\n",
    "\n",
    "s=union(a,b)\n",
    "\n",
    "print(s)"
   ]
  },
  {
   "cell_type": "code",
   "execution_count": null,
   "metadata": {},
   "outputs": [
    {
     "name": "stdout",
     "output_type": "stream",
     "text": [
      "[1, 2, 3, 4, 5, 6, 7, 8]\n"
     ]
    }
   ],
   "source": [
    "def union(a,b):\n",
    "    c=[]\n",
    "    for i in a:\n",
    "        if i  not in c:\n",
    "            c.append(i)\n",
    "    for i in b:\n",
    "        if i  not in c:\n",
    "            c.append(i)\n",
    "\n",
    "    return c \n",
    "\n",
    "\n",
    "a=[1,2,3,4,5]\n",
    "b=[4,5,6,7,8]\n",
    "\n",
    "s=union(a,b)\n",
    "print(s)"
   ]
  },
  {
   "cell_type": "code",
   "execution_count": null,
   "metadata": {},
   "outputs": [
    {
     "name": "stdout",
     "output_type": "stream",
     "text": [
      "1\n",
      "2\n",
      "3\n",
      "5\n",
      "8\n"
     ]
    }
   ],
   "source": [
    "n=int(input())\n",
    "\n",
    "a=0\n",
    "b=1\n",
    "sum=0\n",
    "\n",
    "for i in range(n):\n",
    "    sum=a+b\n",
    "    print(sum) \n",
    "    a=b \n",
    "    b=sum \n"
   ]
  },
  {
   "cell_type": "code",
   "execution_count": null,
   "metadata": {},
   "outputs": [
    {
     "name": "stdout",
     "output_type": "stream",
     "text": [
      "[1]\n",
      "[1, 1]\n",
      "[1, 2, 1]\n",
      "[1, 3, 3, 1]\n",
      "[1, 4, 6, 4, 1]\n"
     ]
    }
   ],
   "source": [
    "def generate_pascals_triangle(n):\n",
    "    triangle = []\n",
    " \n",
    "    for row_num in range(n):\n",
    "        row = [1] * (row_num + 1)  \n",
    "        for j in range(1, row_num):\n",
    "            row[j] = triangle[row_num - 1][j - 1] + triangle[row_num - 1][j]\n",
    "        triangle.append(row)\n",
    "        \n",
    "   \n",
    "    return triangle\n",
    " \n",
    "n = 5  \n",
    "triangle = generate_pascals_triangle(n)\n",
    " \n",
    "for row in triangle:\n",
    "    print(row)"
   ]
  },
  {
   "cell_type": "code",
   "execution_count": null,
   "metadata": {},
   "outputs": [
    {
     "name": "stdout",
     "output_type": "stream",
     "text": [
      "20\n"
     ]
    }
   ],
   "source": [
    "#scope\n",
    "\n",
    "x=10\n",
    "x=20\n",
    "\n",
    "print(x)"
   ]
  },
  {
   "cell_type": "code",
   "execution_count": null,
   "metadata": {},
   "outputs": [
    {
     "name": "stdout",
     "output_type": "stream",
     "text": [
      "10 inside func\n",
      "20 out func\n"
     ]
    }
   ],
   "source": [
    "x=20\n",
    "\n",
    "def num():\n",
    "    x=10  #local\n",
    "    print(x,\"inside func\")\n",
    "\n",
    "num()\n",
    "print(x,'out func')"
   ]
  },
  {
   "cell_type": "code",
   "execution_count": null,
   "metadata": {},
   "outputs": [
    {
     "name": "stdout",
     "output_type": "stream",
     "text": [
      "40 inside func\n",
      "20 outside func\n"
     ]
    }
   ],
   "source": [
    "x=20\n",
    "\n",
    "def num():\n",
    "    #global x\n",
    "    x=10\n",
    "    x=x+30\n",
    "    print(x,\"inside func\")\n",
    "\n",
    "num()\n",
    "print(x,\"outside func\")"
   ]
  },
  {
   "cell_type": "code",
   "execution_count": null,
   "metadata": {},
   "outputs": [
    {
     "name": "stdout",
     "output_type": "stream",
     "text": [
      "Computer win 0 - 0\n"
     ]
    }
   ],
   "source": [
    "import random\n",
    " \n",
    "def rps(user_choice,n):\n",
    "    list1 = [\"a\",\"b\",\"c\"]  \n",
    "    system_choice=random.choice(list1)\n",
    "    user_points=0\n",
    "    system_points=0\n",
    "    while(user_points!=n or system_points!=n):\n",
    "        if user_choice==system_choice:\n",
    "            print(f'Tie {user_points} - {system_points}')\n",
    "        elif(user_choice=='a' and system_choice=='c')or(user_choice=='c' and system_choice==\"b\") or (user_choice==\"b\" and system_choice==\"a\"):\n",
    "            print(f'User win {user_points} - {system_points}')\n",
    "        else:\n",
    "            print(f'Computer win {user_points} - {system_points}')\n",
    "        rps(input())\n",
    "    else:\n",
    "        if user_points==n:\n",
    "            print(\"You Win\")\n",
    "        else:\n",
    "            print(\"you Loose\")\n",
    "   \n",
    "   \n",
    "no_of_turns=int(input(\"enter the no of turns\"))\n",
    "n=input(\"a.rock,b.paper,c.sissors\")\n",
    "rps(n,no_of_turns)\n",
    " "
   ]
  },
  {
   "cell_type": "code",
   "execution_count": null,
   "metadata": {},
   "outputs": [
    {
     "name": "stdout",
     "output_type": "stream",
     "text": [
      "['z', 's']\n",
      "Generated Password: Szsk\n"
     ]
    }
   ],
   "source": [
    "import random\n",
    "import string\n",
    "\n",
    "def generate_password(length):\n",
    "    if length < 2:\n",
    "        return \"Password length must be at least 2.\"\n",
    "\n",
    "    # Define character sets\n",
    "    letters = string.ascii_letters  # Uppercase and lowercase letters\n",
    "    digits = string.digits           # Digits 0-9\n",
    "    special_characters = string.punctuation  # Special characters\n",
    "\n",
    "    # Ensure the password starts and ends with letters or digits, not special characters\n",
    "    first_char = random.choice(letters + digits)\n",
    "    last_char = random.choice(letters + digits)\n",
    "\n",
    "    # If the length is greater than 2, generate the middle characters\n",
    "    middle_chars = random.choices(letters + digits + special_characters, k=length - 2)\n",
    "    print(middle_chars)\n",
    "\n",
    "    # Combine all parts to form the password\n",
    "    password = first_char + ''.join(middle_chars) + last_char\n",
    "\n",
    "    return password\n",
    "\n",
    "# Ask the user for the desired length\n",
    "length = int(input(\"Enter the desired length of the password: \"))\n",
    "\n",
    "# Generate and display the password\n",
    "password = generate_password(length)\n",
    "print(\"Generated Password:\", password)"
   ]
  },
  {
   "cell_type": "code",
   "execution_count": null,
   "metadata": {},
   "outputs": [
    {
     "name": "stdout",
     "output_type": "stream",
     "text": [
      "abcd\n"
     ]
    }
   ],
   "source": [
    "#list to string\n",
    "\n",
    "l=['a','b','c','d']\n",
    "\n",
    "\n",
    "\n",
    "print(\"\".join(l))"
   ]
  },
  {
   "cell_type": "code",
   "execution_count": null,
   "metadata": {},
   "outputs": [
    {
     "name": "stdout",
     "output_type": "stream",
     "text": [
      "['python']\n"
     ]
    }
   ],
   "source": [
    "#string to list\n",
    "\n",
    "a=\"python\"\n",
    "\n",
    "print(a.split())"
   ]
  },
  {
   "cell_type": "code",
   "execution_count": 47,
   "metadata": {},
   "outputs": [
    {
     "name": "stdout",
     "output_type": "stream",
     "text": [
      "the choices are 1.Letters 2.Digits 3.specialcharacters 4.exit\n",
      "uNLb9IF0mnlx\n"
     ]
    }
   ],
   "source": [
    "\n",
    "import random\n",
    "import string\n",
    "\n",
    "length=int(input(\"Enter the length of the string\"))\n",
    "\n",
    "print(\"the choices are 1.Letters 2.Digits 3.specialcharacters 4.exit\")\n",
    "\n",
    "characterlist=\"\"\n",
    "\n",
    "\n",
    "\n",
    "while(True):\n",
    "\n",
    "    c=int(input(\"Enter your choice:\"))\n",
    "\n",
    "    if(c == 1):\n",
    "        characterlist+=string.ascii_letters\n",
    "    elif c==2:\n",
    "        characterlist+=string.digits\n",
    "    elif c==3:\n",
    "        characterlist+=string.punctuation\n",
    "    elif c==4:\n",
    "        break\n",
    "\n",
    "password = []\n",
    "\n",
    "for i in range(length):\n",
    "    k=random.choice(characterlist)\n",
    "    password.append(k)\n",
    "\n",
    "\n",
    "print(\"\".join(password))\n",
    "\n",
    "    \n",
    "\n"
   ]
  },
  {
   "cell_type": "code",
   "execution_count": null,
   "metadata": {},
   "outputs": [
    {
     "name": "stdout",
     "output_type": "stream",
     "text": [
      "Too low\n",
      "Too low\n",
      "Too low\n",
      "Too low\n",
      "Too low\n",
      "You failed\n"
     ]
    }
   ],
   "source": [
    "import random\n",
    "\n",
    "rand=random.randint(1,10)\n",
    "\n",
    "c=5\n",
    "\n",
    "for i in range(5):\n",
    "    n=int(input(\"enter your guess\"))\n",
    "    if n == rand:\n",
    "        print(f'{n} is the number you guessed right , you scored {c} ')\n",
    "        break\n",
    "    elif n>rand:\n",
    "        print(\"Too High\")\n",
    "        c-=1\n",
    "\n",
    "    elif n<rand:\n",
    "        print(\"Too low\")\n",
    "        c-=1\n",
    "        \n",
    "else:\n",
    "    print(\"you scored {c}\")\n",
    "    i\n",
    "\n"
   ]
  },
  {
   "cell_type": "code",
   "execution_count": 13,
   "metadata": {},
   "outputs": [
    {
     "name": "stdout",
     "output_type": "stream",
     "text": [
      "nani\n",
      "YOU WON\n"
     ]
    }
   ],
   "source": [
    "import random\n",
    "\n",
    "def shuf():\n",
    "    l=['mano','akil','nani']\n",
    "    choice=random.choice(l)\n",
    "    z=list(choice)\n",
    "    random.shuffle(z)\n",
    "    print(\"\".join(z))\n",
    "    for i in range(2):\n",
    "        d=input(\"Enter your word : \" )\n",
    "        if d==choice:\n",
    "            print(\"YOU WON\")\n",
    "            break\n",
    "        else:\n",
    "            if i==1:\n",
    "                print(\"you failed try again \")\n",
    "                shuf()\n",
    "\n",
    "shuf()\n",
    "\n"
   ]
  },
  {
   "cell_type": "code",
   "execution_count": null,
   "metadata": {},
   "outputs": [],
   "source": []
  }
 ],
 "metadata": {
  "kernelspec": {
   "display_name": "Python 3",
   "language": "python",
   "name": "python3"
  },
  "language_info": {
   "codemirror_mode": {
    "name": "ipython",
    "version": 3
   },
   "file_extension": ".py",
   "mimetype": "text/x-python",
   "name": "python",
   "nbconvert_exporter": "python",
   "pygments_lexer": "ipython3",
   "version": "3.12.3"
  }
 },
 "nbformat": 4,
 "nbformat_minor": 2
}
