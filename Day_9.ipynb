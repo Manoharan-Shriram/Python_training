{
 "cells": [
  {
   "cell_type": "markdown",
   "id": "e0bf4065",
   "metadata": {},
   "source": [
    "Command Line Arguments"
   ]
  },
  {
   "cell_type": "code",
   "execution_count": 2,
   "id": "18c32e7d",
   "metadata": {},
   "outputs": [],
   "source": [
    "#REFER Day_9.py  "
   ]
  },
  {
   "cell_type": "markdown",
   "id": "e6d1f8cf",
   "metadata": {},
   "source": [
    "CLASS AND OBJECTS"
   ]
  },
  {
   "cell_type": "code",
   "execution_count": 3,
   "id": "f7370c91",
   "metadata": {},
   "outputs": [
    {
     "name": "stdout",
     "output_type": "stream",
     "text": [
      "Hello\n"
     ]
    }
   ],
   "source": [
    "#class can run without an object\n",
    "class demo:\n",
    "    print('Hello')\n",
    "    "
   ]
  },
  {
   "cell_type": "code",
   "execution_count": null,
   "id": "d1bb7263",
   "metadata": {},
   "outputs": [
    {
     "name": "stdout",
     "output_type": "stream",
     "text": [
      "Hello\n"
     ]
    }
   ],
   "source": [
    "#class can run without an object\n",
    "class demo:\n",
    "    k=5\n",
    "    b=5\n",
    "    if k+b==10:\n",
    "        print(\"Hello\")"
   ]
  },
  {
   "cell_type": "code",
   "execution_count": 8,
   "id": "5270e70b",
   "metadata": {},
   "outputs": [
    {
     "name": "stdout",
     "output_type": "stream",
     "text": [
      "Hello\n",
      "5\n"
     ]
    },
    {
     "data": {
      "text/plain": [
       "5"
      ]
     },
     "execution_count": 8,
     "metadata": {},
     "output_type": "execute_result"
    }
   ],
   "source": [
    "#class can run without an object\n",
    "class demo:\n",
    "    k=5\n",
    "    b=5\n",
    "    if k+b==10:\n",
    "        print(\"Hello\")\n",
    "\n",
    "obj=demo()    # to create an object of a class\n",
    "\n",
    "print(obj.b)   # u can call a variable inside the class using .\n",
    "\n",
    "#another method to call variable\n",
    "demo.b"
   ]
  },
  {
   "cell_type": "code",
   "execution_count": 18,
   "id": "da5dbf15",
   "metadata": {},
   "outputs": [
    {
     "name": "stdout",
     "output_type": "stream",
     "text": [
      "24\n",
      "20\n"
     ]
    }
   ],
   "source": [
    "class demo1: \n",
    "    def add(self,a,b):     # instance parameter which will hold your objects\n",
    "        # a=12\n",
    "        # b=13\n",
    "        return a+b\n",
    "\n",
    "obj1=demo1()\n",
    "obj2=demo1()\n",
    "\n",
    "v1=obj1.add(12,12)\n",
    "v2=obj2.add(10,10)\n",
    "\n",
    "print(v1)\n",
    "print(v2)"
   ]
  },
  {
   "cell_type": "code",
   "execution_count": null,
   "id": "557f6dec",
   "metadata": {},
   "outputs": [
    {
     "name": "stdout",
     "output_type": "stream",
     "text": [
      "13\n",
      "3\n"
     ]
    }
   ],
   "source": [
    "class demo2:\n",
    "    c=1\n",
    "    def add(self,a,b):\n",
    "\n",
    "        return a+b\n",
    "    def sub(self,a,b):\n",
    "        \n",
    "        return a-b-self.c   # We are adding self because we want our object to access the class variable and it can be done using three types classname,objectname or self\n",
    "    \n",
    "obj=demo2()\n",
    "\n",
    "v3=obj.add(8,5)\n",
    "v4=obj.sub(9,5)\n",
    "\n",
    "print(v3)\n",
    "print(v4)"
   ]
  },
  {
   "cell_type": "code",
   "execution_count": 26,
   "id": "a677d2c2",
   "metadata": {},
   "outputs": [
    {
     "name": "stdout",
     "output_type": "stream",
     "text": [
      "60\n",
      "10\n",
      "30\n",
      "THIS IS A DOC STRING\n"
     ]
    }
   ],
   "source": [
    "class demo3:\n",
    "    \"\"\"THIS IS A DOC STRING\"\"\"\n",
    "    def __init__(self,a,b):  # this is a constructor #activated  by your object  / dunder/special  method ( double underscore means special method  )\n",
    "        \n",
    "        self.a=a\n",
    "        self.b=b\n",
    "    def add(self): #instance object parameter\n",
    "        return self.a+self.b+self.d\n",
    "    def sub(self):\n",
    "        return self.a - self.b\n",
    "    \n",
    "obj=demo3(20,10)\n",
    "\n",
    "obj.d=30    # This is declaring a variable outside a class and it becomes a class varriable not literally but it can be accessed inside the function by adding self\n",
    "\n",
    "v1=obj.add()\n",
    "v2=obj.sub()\n",
    "\n",
    "print(v1)\n",
    "print(v2)\n",
    "print(obj.d)\n",
    "print(demo3.__doc__)"
   ]
  },
  {
   "cell_type": "code",
   "execution_count": null,
   "id": "aab329de",
   "metadata": {},
   "outputs": [],
   "source": [
    "# roman number to int \n",
    "\n",
    "#outpuy vii = 7\n",
    "\n",
    "\n",
    "\n",
    "def romn(s):\n",
    "    rmn={\n",
    "        'i':1,\n",
    "        'v':5,\n",
    "        'x':10,\n",
    "        'l':50,\n",
    "        'c':100\n",
    "       \n",
    "    }\n",
    "    tl=0\n",
    "    pr=0\n",
    "    for i in reversed(s):\n",
    "        valu=rmn[i]\n",
    "        if valu<pr:\n",
    "            tl-=valu\n",
    "        else:\n",
    "            tl+=valu\n",
    "        pr=valu\n",
    "    return tl\n",
    " \n",
    "print(romn('iv'))\n",
    " "
   ]
  },
  {
   "cell_type": "code",
   "execution_count": null,
   "id": "73e0b55c",
   "metadata": {},
   "outputs": [],
   "source": []
  }
 ],
 "metadata": {
  "kernelspec": {
   "display_name": "Python 3",
   "language": "python",
   "name": "python3"
  },
  "language_info": {
   "codemirror_mode": {
    "name": "ipython",
    "version": 3
   },
   "file_extension": ".py",
   "mimetype": "text/x-python",
   "name": "python",
   "nbconvert_exporter": "python",
   "pygments_lexer": "ipython3",
   "version": "3.12.3"
  }
 },
 "nbformat": 4,
 "nbformat_minor": 5
}
