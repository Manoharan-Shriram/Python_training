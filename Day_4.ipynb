{
 "cells": [
  {
   "cell_type": "code",
   "execution_count": null,
   "metadata": {},
   "outputs": [],
   "source": [
    "#recursion #doesn't run on notebook only file\n",
    "\n",
    "def functionthree():\n",
    "        print(\"three\")\n",
    "def functiontwo():\n",
    "        print(\"Two\")\n",
    "def functionone():\n",
    "        print(\"one\")\n",
    "\n",
    "functionone()"
   ]
  },
  {
   "cell_type": "code",
   "execution_count": null,
   "metadata": {},
   "outputs": [
    {
     "name": "stdout",
     "output_type": "stream",
     "text": [
      "24\n"
     ]
    }
   ],
   "source": [
    "#recursion\n",
    "\n",
    "def factorial(n):\n",
    "    if n==1:\n",
    "        return 1 #base condition\n",
    "    return n*factorial(n-1) #recursive condition\n",
    "\n",
    "print(factorial(4))"
   ]
  },
  {
   "cell_type": "code",
   "execution_count": null,
   "metadata": {},
   "outputs": [],
   "source": [
    "#recursion \n",
    "\n",
    "def sumoflist():\n",
    "    if len(l) == 1:\n",
    "        return num_list[0]\n",
    "    else:\n",
    "        return numlist[0]+ list_sum(num_list[1:])\n",
    "    \n",
    "print(list_sum[2,3,4,5,6,7])"
   ]
  },
  {
   "cell_type": "code",
   "execution_count": 2,
   "metadata": {},
   "outputs": [
    {
     "name": "stdout",
     "output_type": "stream",
     "text": [
      "1\n",
      "2\n",
      "3\n",
      "5\n",
      "8\n",
      "13\n",
      "21\n",
      "34\n",
      "55\n",
      "89\n"
     ]
    }
   ],
   "source": [
    "#fibonacci\n",
    "\n",
    "def fib(a,b,c):\n",
    "    if c==0:\n",
    "        pass\n",
    "    else:\n",
    "        d=a+b\n",
    "        print(d)\n",
    "        fib(b,d,c-1)\n",
    "fib(0,1,10)\n",
    " \n",
    " "
   ]
  },
  {
   "cell_type": "code",
   "execution_count": 7,
   "metadata": {},
   "outputs": [
    {
     "name": "stdout",
     "output_type": "stream",
     "text": [
      "3\n"
     ]
    }
   ],
   "source": [
    "#COUNT DIGITS OF NUMEBER\n",
    "\n",
    "def countdigits(n):\n",
    "    if n == 0:\n",
    "        return 0\n",
    "    else:\n",
    "        \n",
    "        return 1+countdigits ( n // 10)\n",
    "\n",
    "print(countdigits(153))\n"
   ]
  },
  {
   "cell_type": "code",
   "execution_count": 9,
   "metadata": {},
   "outputs": [
    {
     "name": "stdout",
     "output_type": "stream",
     "text": [
      "3\n"
     ]
    }
   ],
   "source": [
    "#COUNT DIGITS OF NUMEBER\n",
    "\n",
    "def countdigits(n):\n",
    "    if len(str(n))==1:\n",
    "        return 1\n",
    "    else:\n",
    "        return 1+countdigits( n // 10)\n",
    "\n",
    "print(countdigits(153))"
   ]
  },
  {
   "cell_type": "code",
   "execution_count": 18,
   "metadata": {},
   "outputs": [
    {
     "name": "stdout",
     "output_type": "stream",
     "text": [
      "onam\n"
     ]
    }
   ],
   "source": [
    "#recurison reverse a string\n",
    "def rev(n):\n",
    "    if(len(n))==1:\n",
    "        return n[-1]\n",
    "    else:\n",
    "        return n[-1]+rev(n[:-1])\n",
    "    \n",
    "print(rev(\"mano\"))"
   ]
  },
  {
   "cell_type": "code",
   "execution_count": 19,
   "metadata": {},
   "outputs": [
    {
     "name": "stdout",
     "output_type": "stream",
     "text": [
      "<function square at 0x00000279BF326160>\n"
     ]
    },
    {
     "data": {
      "text/plain": [
       "25"
      ]
     },
     "execution_count": 19,
     "metadata": {},
     "output_type": "execute_result"
    }
   ],
   "source": [
    "#first class function\n",
    "\n",
    "def square (num):\n",
    "    return num*num\n",
    "\n",
    "f=square\n",
    "\n",
    "print(f)\n",
    "\n",
    "f(5)"
   ]
  },
  {
   "cell_type": "code",
   "execution_count": 20,
   "metadata": {},
   "outputs": [
    {
     "name": "stdout",
     "output_type": "stream",
     "text": [
      "[1, 4, 9, 16, 25]\n"
     ]
    }
   ],
   "source": [
    "def my_map(func,arr):\n",
    "    result=[]\n",
    "    for i in arr:\n",
    "        result.append(func(i))\n",
    "    return result\n",
    "\n",
    "squares = my_map(square,[1,2,3,4,5])\n",
    "print(squares)"
   ]
  },
  {
   "cell_type": "code",
   "execution_count": 23,
   "metadata": {},
   "outputs": [
    {
     "name": "stdout",
     "output_type": "stream",
     "text": [
      "<function k at 0x00000279BF382C00>\n"
     ]
    },
    {
     "data": {
      "text/plain": [
       "16"
      ]
     },
     "execution_count": 23,
     "metadata": {},
     "output_type": "execute_result"
    }
   ],
   "source": [
    "def k(n):\n",
    "    return n+n\n",
    "\n",
    "y=k\n",
    "\n",
    "print(y)\n",
    "\n",
    "y(8)"
   ]
  },
  {
   "cell_type": "code",
   "execution_count": 32,
   "metadata": {},
   "outputs": [
    {
     "name": "stdout",
     "output_type": "stream",
     "text": [
      "[2, 4, 6, 8]\n"
     ]
    }
   ],
   "source": [
    "def my_map(func,l):\n",
    "    p=[]\n",
    "    for i in l:\n",
    "        p.append(func(i))\n",
    "    return p\n",
    "\n",
    "w=my_map(k,[1,2,3,4])\n",
    "print(w)"
   ]
  },
  {
   "cell_type": "code",
   "execution_count": null,
   "metadata": {},
   "outputs": [
    {
     "name": "stdout",
     "output_type": "stream",
     "text": [
      "log: Hello\n"
     ]
    }
   ],
   "source": [
    "#Nested function used to encapsulate variables i.e hide variables (private)\n",
    "\n",
    "def logger(msg):\n",
    "    def log_message():\n",
    "        print('log:',msg)\n",
    "    return log_message\n",
    "\n",
    "log_hi = logger(\"Hello\")\n",
    "log_hi()"
   ]
  },
  {
   "cell_type": "code",
   "execution_count": 41,
   "metadata": {},
   "outputs": [
    {
     "name": "stdout",
     "output_type": "stream",
     "text": [
      "Log: hi from: abc\n",
      "Log: Hii from: Mahi\n",
      "Log: hi from: ram\n"
     ]
    }
   ],
   "source": [
    "def logger(msg):\n",
    "    def log_message(name):\n",
    "        print('Log:',msg,'from:',name)\n",
    "    return log_message\n",
    "\n",
    "log_hi=logger('hi')\n",
    "log_hi('abc')\n",
    "\n",
    "log_welcome=logger('Hii')\n",
    "log_welcome('Mahi')\n",
    "\n",
    "log_hi('ram')"
   ]
  },
  {
   "cell_type": "code",
   "execution_count": 43,
   "metadata": {},
   "outputs": [
    {
     "name": "stdout",
     "output_type": "stream",
     "text": [
      "Result: 105\n"
     ]
    }
   ],
   "source": [
    "#create closure to add a fixed number \n",
    "\n",
    "\n",
    "\n",
    "def adder(k):\n",
    "    def add(n):\n",
    "        print('Result:',n+k)\n",
    "    return add\n",
    "\n",
    "add5 = adder(5)\n",
    "add5(100)\n",
    "\n",
    "\n"
   ]
  },
  {
   "cell_type": "code",
   "execution_count": 47,
   "metadata": {},
   "outputs": [
    {
     "name": "stdout",
     "output_type": "stream",
     "text": [
      "6\n",
      "4\n"
     ]
    }
   ],
   "source": [
    "import logging\n",
    "\n",
    "\n",
    "def logger(func):\n",
    "    def log_func(*args):\n",
    "        logging.info(f'Running {func} with the arguments {args}')\n",
    "        print(func(*args))\n",
    "    return log_func\n",
    "\n",
    "def add(x,y):\n",
    "    return x+y\n",
    "\n",
    "def sub(x,y):\n",
    "    return x-y\n",
    "\n",
    "add_logger=logger(add)\n",
    "sub_logger=logger(sub)\n",
    "\n",
    "add_logger(3,3)\n",
    "sub_logger(8,4)"
   ]
  },
  {
   "cell_type": "code",
   "execution_count": 51,
   "metadata": {},
   "outputs": [
    {
     "name": "stdout",
     "output_type": "stream",
     "text": [
      "[1, 2, 3, 4, 5]\n"
     ]
    }
   ],
   "source": [
    "#flatten [1,[2,[3,4],5] -> [1,2,3,4,5]\n",
    "\n",
    "l=[1,[2,[3,4]],5]\n",
    "\n",
    "input_list = [1, [2, [3, 4]], 5]\n",
    "output_list = []\n",
    "\n",
    "# Iterate through the input list\n",
    "for item in input_list:\n",
    "    if isinstance(item, list):  # If the item is a list\n",
    "        for sub_item in item:\n",
    "            if isinstance(sub_item, list):  # If the sub_item is also a list\n",
    "                for sub_sub_item in sub_item:\n",
    "                    output_list.append(sub_sub_item)\n",
    "            else:\n",
    "                output_list.append(sub_item)\n",
    "    else:\n",
    "        output_list.append(item)\n",
    "\n",
    "print(output_list)\n",
    "\n"
   ]
  },
  {
   "cell_type": "code",
   "execution_count": 52,
   "metadata": {},
   "outputs": [
    {
     "name": "stdout",
     "output_type": "stream",
     "text": [
      "[1, 2, 3, 4, 5]\n"
     ]
    }
   ],
   "source": [
    "#wrong\n",
    "\n",
    "input_list = [1, [2, [3, 4]], 5]\n",
    "output_list = []\n",
    "\n",
    "for i in input_list:\n",
    "    if isinstance(i,list):\n",
    "        for j in i:\n",
    "            if isinstance (j,list):\n",
    "                for k in j:\n",
    "                    output_list.append(k)\n",
    "            else:\n",
    "                output_list.append(j)\n",
    "    else:\n",
    "        output_list.append(i)\n",
    "\n",
    "print(output_list)\n",
    "\n",
    "\n",
    "\n",
    "\n"
   ]
  },
  {
   "cell_type": "code",
   "execution_count": null,
   "metadata": {},
   "outputs": [
    {
     "name": "stdout",
     "output_type": "stream",
     "text": [
      "[1, 2, 3, 4, 5, 6, 7]\n"
     ]
    }
   ],
   "source": [
    "#mahima\n",
    "def flatten_list(l):\n",
    "    flattenlist = []\n",
    "    for i in l:\n",
    "        if isinstance(i, list):\n",
    "            flattenlist.extend(flatten_list(i))\n",
    "        else:\n",
    "            flattenlist.append(i)\n",
    "    return flattenlist\n",
    " \n",
    "list1 = [1, 2, [3, 4], [5, [6, 7]]]\n",
    "flist = flatten_list(list1)\n",
    "print(flist)\n",
    " \n",
    "\n"
   ]
  },
  {
   "cell_type": "code",
   "execution_count": 57,
   "metadata": {},
   "outputs": [
    {
     "name": "stdout",
     "output_type": "stream",
     "text": [
      "['1', '2', '3', '4', '5', '6', '7']\n"
     ]
    }
   ],
   "source": [
    "list1 = [1, 2, [3, 4], [5, [6, 7]]]\n",
    "\n",
    "answer=[]\n",
    "\n",
    "k=str(list1)\n",
    "\n",
    "for i in k:\n",
    "    if i.isdigit():\n",
    "        answer.append(i)\n",
    "    \n",
    "print(answer)"
   ]
  },
  {
   "cell_type": "code",
   "execution_count": 58,
   "metadata": {},
   "outputs": [
    {
     "name": "stdout",
     "output_type": "stream",
     "text": [
      "a ab abc abcd \n",
      "b bc bcd \n",
      "c cd \n",
      "d \n"
     ]
    }
   ],
   "source": [
    "def supu(a,l):\n",
    "    b=[]\n",
    "    for i in a:\n",
    "        b.append(i)\n",
    "        print(\"\".join(b),end=' ')\n",
    "    print()\n",
    "    if len(b)>1:\n",
    "        supu(b[1:],len(b[1:]))\n",
    "n=\"abcd\"\n",
    "supu(n,len(n))"
   ]
  },
  {
   "cell_type": "code",
   "execution_count": null,
   "metadata": {},
   "outputs": [
    {
     "name": "stdout",
     "output_type": "stream",
     "text": [
      "a ab abc abcd \n",
      "b bc bcd \n",
      "c cd \n",
      "d \n"
     ]
    }
   ],
   "source": [
    "#NANI\n",
    "def supu(a):\n",
    "    b=[]\n",
    "    for i in a:\n",
    "        b.append(i)\n",
    "        print(\"\".join(b),end=' ')\n",
    "    print()\n",
    "    if len(b)>1:\n",
    "        supu(b[1:])\n",
    "n=\"abcd\"\n",
    "supu(n)"
   ]
  },
  {
   "cell_type": "code",
   "execution_count": 60,
   "metadata": {},
   "outputs": [
    {
     "name": "stdout",
     "output_type": "stream",
     "text": [
      "a\n",
      "ab\n",
      "abc\n",
      "abcd\n",
      "b\n",
      "bc\n",
      "bcd\n",
      "c\n",
      "cd\n",
      "d\n",
      "None\n"
     ]
    }
   ],
   "source": [
    "def sub(s,start=0,current=\"\"):\n",
    "    if start==len(s):\n",
    "        return\n",
    "    \n",
    "    if current==\"\":\n",
    "        current=s[start]\n",
    "    print(current)\n",
    "    if start + len(current) <len(s):\n",
    "        sub(s,start,current +s[start+len(current)] )\n",
    "    else:\n",
    "        sub(s,start+1)\n",
    "\n",
    "print(sub(\"abcd\"))\n",
    "\n"
   ]
  },
  {
   "cell_type": "code",
   "execution_count": null,
   "metadata": {},
   "outputs": [
    {
     "name": "stdout",
     "output_type": "stream",
     "text": [
      "5\n"
     ]
    }
   ],
   "source": [
    "def ar(*args):\n",
    "    result=0\n",
    "    for i in args:\n",
    "        if result < i:\n",
    "            result=i\n",
    "    return result\n",
    "\n",
    "\n",
    "\n",
    "\n",
    "\n",
    "k=ar(1,2,3,4,5)\n",
    "print(k)"
   ]
  },
  {
   "cell_type": "code",
   "execution_count": 69,
   "metadata": {},
   "outputs": [
    {
     "name": "stdout",
     "output_type": "stream",
     "text": [
      "3\n"
     ]
    }
   ],
   "source": [
    "def ar(*args):\n",
    "    result=0\n",
    "    c=0\n",
    "    for i in args:\n",
    "        if  i >  0:\n",
    "            result+=i\n",
    "            c+=1\n",
    "    result=result//c\n",
    "    return result\n",
    "\n",
    "k=ar(1,2,3,4,5)\n",
    "print(k)"
   ]
  },
  {
   "cell_type": "code",
   "execution_count": 72,
   "metadata": {},
   "outputs": [
    {
     "name": "stdout",
     "output_type": "stream",
     "text": [
      "5\n"
     ]
    }
   ],
   "source": [
    "\n",
    "\n",
    "def maxx(*args):\n",
    "    result=0\n",
    "    for i in args:\n",
    "        if result < i:\n",
    "            result = i\n",
    "    return result\n",
    "\n",
    "\n",
    "\n",
    "k=maxx(1,2,3,4,5)\n",
    "print(k)"
   ]
  },
  {
   "cell_type": "code",
   "execution_count": 75,
   "metadata": {},
   "outputs": [
    {
     "name": "stdout",
     "output_type": "stream",
     "text": [
      "Not in order\n",
      "no field is missing\n",
      "Missing fields: dob\n",
      "Not in order\n",
      "Missing fields: name, email\n"
     ]
    }
   ],
   "source": [
    "#check the arguments usign *kwargs\n",
    "#required (name=abc , email= a@b , dob=1/11/1111)\n",
    "\n",
    "def average(**args):\n",
    "    required_fields = ['name', 'email', 'dob']\n",
    "    left=0\n",
    "    for i in args.keys():\n",
    "        if(i!=required_fields[left]):\n",
    "            print(\"Not in order\")\n",
    "        else:\n",
    "            left+=1\n",
    " \n",
    " \n",
    "    missing = []\n",
    "    for i in required_fields:\n",
    "        if i not in args:\n",
    "            missing.append(i)  \n",
    " \n",
    "    if missing:\n",
    "        return f\"Missing fields: {', '.join(missing)}\"\n",
    "    else:\n",
    "        return \"no field is missing\"\n",
    "   \n",
    "   \n",
    "print(average(dob=\"19/09/2000\",name=\"Mahesh\",email=\"YYYYYy\"))\n",
    "print(average(name=\"Mahesh\",email=\"YYYYYy\"))\n",
    "print(average(dob=\"19/09/2000\"))\n",
    " \n"
   ]
  },
  {
   "cell_type": "code",
   "execution_count": null,
   "metadata": {},
   "outputs": [],
   "source": []
  }
 ],
 "metadata": {
  "kernelspec": {
   "display_name": "Python 3",
   "language": "python",
   "name": "python3"
  },
  "language_info": {
   "codemirror_mode": {
    "name": "ipython",
    "version": 3
   },
   "file_extension": ".py",
   "mimetype": "text/x-python",
   "name": "python",
   "nbconvert_exporter": "python",
   "pygments_lexer": "ipython3",
   "version": "3.12.3"
  }
 },
 "nbformat": 4,
 "nbformat_minor": 2
}
